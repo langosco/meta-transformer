{
 "cells": [
  {
   "cell_type": "code",
   "execution_count": 26,
   "metadata": {},
   "outputs": [],
   "source": [
    "from time import time\n",
    "import os\n",
    "from pathlib import Path\n",
    "import pprint\n",
    "\n",
    "import jax\n",
    "import jax.numpy as jnp\n",
    "import optax\n",
    "from jax.typing import ArrayLike\n",
    "from dataclasses import asdict\n",
    "import numpy as np\n",
    "import wandb\n",
    "import argparse\n",
    "from etils import epath\n",
    "from tqdm import tqdm\n",
    "import orbax.checkpoint\n",
    "from etils import epath\n",
    "\n",
    "from meta_transformer import utils, preprocessing, module_path, on_cluster, output_dir, interactive, data\n",
    "from meta_transformer.meta_model import MetaModel, mup_adamw\n",
    "from meta_transformer.train import Updater, Logger\n",
    "from meta_transformer.data import split_data, ParamsData\n",
    "\n",
    "import backdoors.utils\n",
    "import backdoors.poison\n",
    "from backdoors import checkpoint_dir\n",
    "import backdoors.train\n",
    "\n",
    "rng = jax.random.PRNGKey(0)\n",
    "\n",
    "CLEAN_CHECKPOINT_DIR = epath.Path(checkpoint_dir) / \"clean\"\n",
    "BACKDOOR_CHECKPOINT_DIR = epath.Path(checkpoint_dir) / \"simple_pattern\"\n"
   ]
  },
  {
   "cell_type": "code",
   "execution_count": 2,
   "metadata": {},
   "outputs": [
    {
     "name": "stdout",
     "output_type": "stream",
     "text": [
      "Files already downloaded and verified\n",
      "(10, 9000, 32, 32, 3)\n",
      "(10, 9000)\n"
     ]
    }
   ],
   "source": [
    "cifar10_test = backdoors.data.load_cifar10(split=\"test\")\n",
    "cifar10_poisoned = backdoors.poison.filter_and_poison_all(cifar10_test, range(10), poison_type=\"simple_pattern\")\n",
    "print(cifar10_poisoned.image.shape)\n",
    "print(cifar10_poisoned.label.shape)"
   ]
  },
  {
   "cell_type": "code",
   "execution_count": 3,
   "metadata": {},
   "outputs": [],
   "source": [
    "checkpoint_dir = Path(checkpoint_dir)\n",
    "dataset = data.load_clean_and_backdoored(\n",
    "    num_pairs=10,\n",
    "    backdoored_dir=checkpoint_dir / \"simple_pattern\",\n",
    "    clean_dir=checkpoint_dir / \"clean\",\n",
    "    max_workers=None if on_cluster else 1,\n",
    ")"
   ]
  },
  {
   "cell_type": "code",
   "execution_count": 4,
   "metadata": {},
   "outputs": [],
   "source": [
    "dataset_flat, inverse = data.flatten_and_chunk_batch(dataset, 256, 0.1)"
   ]
  },
  {
   "cell_type": "code",
   "execution_count": 5,
   "metadata": {},
   "outputs": [
    {
     "data": {
      "text/plain": [
       "(128, 10)"
      ]
     },
     "execution_count": 5,
     "metadata": {},
     "output_type": "execute_result"
    }
   ],
   "source": [
    "params = inverse(dataset_flat.backdoored[0])\n",
    "params['Dense_0']['kernel'].shape"
   ]
  },
  {
   "cell_type": "code",
   "execution_count": 6,
   "metadata": {},
   "outputs": [],
   "source": [
    "s = backdoors.train.init_train_state(rng)"
   ]
  }
 ],
 "metadata": {
  "kernelspec": {
   "display_name": "meta-models",
   "language": "python",
   "name": "python3"
  },
  "language_info": {
   "codemirror_mode": {
    "name": "ipython",
    "version": 3
   },
   "file_extension": ".py",
   "mimetype": "text/x-python",
   "name": "python",
   "nbconvert_exporter": "python",
   "pygments_lexer": "ipython3",
   "version": "3.10.12"
  },
  "orig_nbformat": 4
 },
 "nbformat": 4,
 "nbformat_minor": 2
}
