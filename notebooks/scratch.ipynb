{
 "cells": [
  {
   "cell_type": "code",
   "execution_count": 1,
   "metadata": {},
   "outputs": [
    {
     "name": "stderr",
     "output_type": "stream",
     "text": [
      "/home/lauro/.virtualenvs/meta-models/lib/python3.10/site-packages/tqdm/auto.py:21: TqdmWarning: IProgress not found. Please update jupyter and ipywidgets. See https://ipywidgets.readthedocs.io/en/stable/user_install.html\n",
      "  from .autonotebook import tqdm as notebook_tqdm\n"
     ]
    }
   ],
   "source": [
    "from time import time\n",
    "import os\n",
    "from pathlib import Path\n",
    "import pprint\n",
    "\n",
    "import matplotlib.pyplot as plt\n",
    "\n",
    "import jax\n",
    "import jax.numpy as jnp\n",
    "import optax\n",
    "from jax.typing import ArrayLike\n",
    "from dataclasses import asdict\n",
    "import numpy as np\n",
    "import wandb\n",
    "import argparse\n",
    "from etils import epath\n",
    "from tqdm import tqdm\n",
    "import orbax.checkpoint\n",
    "from etils import epath\n",
    "import flax.linen as nn\n",
    "\n",
    "from meta_transformer import utils, preprocessing, module_path, on_cluster, output_dir, interactive, data\n",
    "from meta_transformer.meta_model import MetaModel, mup_adamw, MetaModelClassifier\n",
    "from meta_transformer.train import Updater, Logger\n",
    "from meta_transformer.data import split_data, ParamsData\n",
    "\n",
    "import backdoors.utils\n",
    "import backdoors.poison\n",
    "from backdoors import checkpoint_dir, paths\n",
    "import backdoors.train\n",
    "\n",
    "rng = jax.random.PRNGKey(0)\n",
    "numpy_rng = np.random.default_rng()\n",
    "\n",
    "CLEAN_CHECKPOINT_DIR = epath.Path(checkpoint_dir) / \"clean\"\n",
    "BACKDOOR_CHECKPOINT_DIR = epath.Path(checkpoint_dir) / \"simple_pattern\"\n"
   ]
  },
  {
   "cell_type": "code",
   "execution_count": 4,
   "metadata": {},
   "outputs": [
    {
     "name": "stdout",
     "output_type": "stream",
     "text": [
      "0\n",
      "1\n",
      "2\n",
      "3\n",
      "4\n"
     ]
    }
   ],
   "source": []
  },
  {
   "cell_type": "code",
   "execution_count": 2,
   "metadata": {},
   "outputs": [],
   "source": [
    "lr = 1e-4\n",
    "model = MetaModelClassifier()\n",
    "opt = mup_adamw(lr, lr/4, lr/4)"
   ]
  },
  {
   "cell_type": "code",
   "execution_count": null,
   "metadata": {},
   "outputs": [
    {
     "name": "stdout",
     "output_type": "stream",
     "text": [
      "(10,)\n",
      "(10, 1127, 256)\n"
     ]
    }
   ],
   "source": [
    "n = 10\n",
    "poisoned_models, poisoned_info = data.load_models(\n",
    "    idxs=range(n//2),\n",
    "    dir=paths.SECONDARY_BACKDOOR / \"simple_pattern\",\n",
    "    max_workers=1,\n",
    ")\n",
    "clean_models, clean_info = data.load_models(\n",
    "    idxs=range(n//2),\n",
    "    dir=paths.PRIMARY_CLEAN,\n",
    "    max_workers=1,\n",
    ")\n",
    "\n",
    "train_data = data.ParamsTreeSingle(\n",
    "    params=clean_models + poisoned_models,\n",
    "    label = [0] * len(clean_models) + [1] * len(poisoned_models),\n",
    ")\n",
    "\n",
    "train_data = data.ParamsArrSingle(\n",
    "    params=preprocessing.flatten_and_chunk_list(train_data.params, chunk_size=256,\n",
    "                                                data_std=0.1)[0],\n",
    "    label = jnp.array(train_data.label),\n",
    ")\n",
    "\n",
    "print(train_data.label.shape)\n",
    "print(train_data.params.shape)\n",
    "\n",
    "@jax.jit\n",
    "def loss(\n",
    "        params: dict,\n",
    "        data: data.ParamsArrSingle,\n",
    "    ):\n",
    "    logit, activation_stats = model.apply(\n",
    "        {\"params\": params},\n",
    "        data.params, \n",
    "        is_training=False,\n",
    "    )\n",
    "    l = optax.sigmoid_binary_cross_entropy(jnp.squeeze(logit), data.label).mean()\n",
    "    metrics = {}\n",
    "    metrics[\"accuracy\"] = jnp.mean((logit > 0) == data.label)\n",
    "    aux = dict(outputs=logit, metrics=metrics)\n",
    "    return l, aux"
   ]
  },
  {
   "cell_type": "markdown",
   "metadata": {},
   "source": [
    "### check out data"
   ]
  },
  {
   "cell_type": "code",
   "execution_count": null,
   "metadata": {},
   "outputs": [],
   "source": [
    "plt.hist([x.mean() for x in train_data.params])"
   ]
  },
  {
   "cell_type": "code",
   "execution_count": null,
   "metadata": {},
   "outputs": [],
   "source": [
    "plt.hist([x.std() for x in train_data.params])"
   ]
  },
  {
   "cell_type": "markdown",
   "metadata": {},
   "source": [
    "### train"
   ]
  },
  {
   "cell_type": "code",
   "execution_count": 6,
   "metadata": {},
   "outputs": [],
   "source": [
    "params = model.init(rng, train_data.params, is_training=False)[\"params\"]\n",
    "opt_state = opt.init(params)\n",
    "\n",
    "\n",
    "@jax.jit\n",
    "def step(params, opt_state):\n",
    "    g, aux = jax.grad(loss, has_aux=True)(params, train_data)\n",
    "    updates, opt_state = opt.update(g, opt_state, params)\n",
    "    params = optax.apply_updates(params, updates)\n",
    "    return params, opt_state"
   ]
  },
  {
   "cell_type": "code",
   "execution_count": 7,
   "metadata": {},
   "outputs": [
    {
     "name": "stderr",
     "output_type": "stream",
     "text": [
      "warning: Linking two modules of different target triples: 'LLVMDialectModule' is 'nvptx64-nvidia-gpulibs' whereas '' is 'nvptx64-nvidia-cuda'\n",
      "\n"
     ]
    },
    {
     "name": "stdout",
     "output_type": "stream",
     "text": [
      "initial loss 0.6931472\n"
     ]
    },
    {
     "name": "stderr",
     "output_type": "stream",
     "text": [
      "warning: Linking two modules of different target triples: 'LLVMDialectModule' is 'nvptx64-nvidia-gpulibs' whereas '' is 'nvptx64-nvidia-cuda'\n",
      "\n"
     ]
    }
   ],
   "source": [
    "print(\"initial loss\", loss(params, train_data)[0])\n",
    "for _ in range(1000):\n",
    "    params, opt_state = step(params, opt_state)"
   ]
  },
  {
   "cell_type": "code",
   "execution_count": 8,
   "metadata": {},
   "outputs": [
    {
     "name": "stdout",
     "output_type": "stream",
     "text": [
      "loss: 0.02730133\n",
      "outputs: [-3.5871394 -3.587143  -3.5871398 -3.5871367 -3.5871356  3.5871286\n",
      "  3.5871437  3.5871453  3.5871303  3.5871391]\n",
      "acc: 1.0\n"
     ]
    }
   ],
   "source": [
    "l, aux = loss(params, train_data)\n",
    "print(\"loss:\", l)\n",
    "print(\"outputs:\", aux[\"outputs\"])\n",
    "print(\"acc:\", np.mean((aux[\"outputs\"] > 0) == train_data.label))"
   ]
  },
  {
   "cell_type": "code",
   "execution_count": null,
   "metadata": {},
   "outputs": [],
   "source": []
  },
  {
   "cell_type": "code",
   "execution_count": 9,
   "metadata": {},
   "outputs": [
    {
     "ename": "RuntimeError",
     "evalue": "No active exception to reraise",
     "output_type": "error",
     "traceback": [
      "\u001b[0;31m---------------------------------------------------------------------------\u001b[0m",
      "\u001b[0;31mRuntimeError\u001b[0m                              Traceback (most recent call last)",
      "\u001b[1;32m/home/lauro/projects/meta-models/meta-transformer/notebooks/scratch.ipynb Cell 10\u001b[0m line \u001b[0;36m1\n\u001b[0;32m----> <a href='vscode-notebook-cell:/home/lauro/projects/meta-models/meta-transformer/notebooks/scratch.ipynb#Y103sZmlsZQ%3D%3D?line=0'>1</a>\u001b[0m \u001b[39mraise\u001b[39;00m\n",
      "\u001b[0;31mRuntimeError\u001b[0m: No active exception to reraise"
     ]
    }
   ],
   "source": [
    "raise"
   ]
  },
  {
   "cell_type": "code",
   "execution_count": null,
   "metadata": {},
   "outputs": [],
   "source": []
  },
  {
   "cell_type": "code",
   "execution_count": null,
   "metadata": {},
   "outputs": [],
   "source": []
  },
  {
   "cell_type": "code",
   "execution_count": null,
   "metadata": {},
   "outputs": [],
   "source": []
  },
  {
   "cell_type": "code",
   "execution_count": null,
   "metadata": {},
   "outputs": [],
   "source": [
    "dataset = data.load_clean_and_backdoored(\n",
    "    num_pairs=4,\n",
    "    backdoored_dir=paths.SECONDARY_BACKDOOR / \"simple_pattern\",\n",
    "    clean_dir=paths.PRIMARY_CLEAN,\n",
    "    max_workers=None if on_cluster else 1,\n",
    ")\n"
   ]
  },
  {
   "cell_type": "code",
   "execution_count": null,
   "metadata": {},
   "outputs": [
    {
     "data": {
      "text/plain": [
       "[{'target_label': 8,\n",
       "  'attack_success_rate': 0.901,\n",
       "  'test_loss': 0.816,\n",
       "  'test_accuracy': 0.714},\n",
       " {'target_label': 0,\n",
       "  'attack_success_rate': 0.93,\n",
       "  'test_loss': 0.854,\n",
       "  'test_accuracy': 0.714},\n",
       " {'target_label': 8,\n",
       "  'attack_success_rate': 0.864,\n",
       "  'test_loss': 0.787,\n",
       "  'test_accuracy': 0.736},\n",
       " {'target_label': 6,\n",
       "  'attack_success_rate': 0.92,\n",
       "  'test_loss': 0.747,\n",
       "  'test_accuracy': 0.756}]"
      ]
     },
     "execution_count": 8,
     "metadata": {},
     "output_type": "execute_result"
    }
   ],
   "source": [
    "dataset.info"
   ]
  },
  {
   "cell_type": "code",
   "execution_count": null,
   "metadata": {},
   "outputs": [],
   "source": [
    "LAYERS_TO_PERMUTE = [\"Conv_0\", \"Conv_1\", \"Conv_2\", \"Conv_3\", \"Conv_4\", \"Conv_5\"]\n",
    "dataloader = data.DataLoaderPairs(dataset,\n",
    "                            batch_size=2,\n",
    "                            rng=np.random.default_rng(),\n",
    "                            max_workers=1,\n",
    "                            augment=False,\n",
    "                            skip_last_batch=True,\n",
    "                            layers_to_permute=None,\n",
    "                            chunk_size=256,\n",
    "                            data_std=0.1,\n",
    "                            )"
   ]
  },
  {
   "cell_type": "code",
   "execution_count": null,
   "metadata": {},
   "outputs": [],
   "source": [
    "dataloader.shuffle()"
   ]
  },
  {
   "cell_type": "code",
   "execution_count": null,
   "metadata": {},
   "outputs": [
    {
     "name": "stdout",
     "output_type": "stream",
     "text": [
      "Files already downloaded and verified\n",
      "(10, 9000, 32, 32, 3)\n",
      "(10, 9000)\n"
     ]
    }
   ],
   "source": [
    "cifar10_test = backdoors.data.load_cifar10(split=\"test\")\n",
    "cifar10_poisoned = backdoors.poison.filter_and_poison_all(cifar10_test, range(10), poison_type=\"simple_pattern\")\n",
    "print(cifar10_poisoned.image.shape)\n",
    "print(cifar10_poisoned.label.shape)"
   ]
  },
  {
   "cell_type": "code",
   "execution_count": null,
   "metadata": {},
   "outputs": [
    {
     "ename": "FileNotFoundError",
     "evalue": "[Errno 2] No such file or directory: '/home/lauro/projects/meta-models/lauro-backdoors/checkpoints/simple_pattern/0/info.json'",
     "output_type": "error",
     "traceback": [
      "\u001b[0;31m---------------------------------------------------------------------------\u001b[0m",
      "\u001b[0;31mFileNotFoundError\u001b[0m                         Traceback (most recent call last)",
      "\u001b[1;32m/home/lauro/projects/meta-models/meta-transformer/notebooks/scratch.ipynb Cell 3\u001b[0m line \u001b[0;36m2\n\u001b[1;32m      <a href='vscode-notebook-cell:/home/lauro/projects/meta-models/meta-transformer/notebooks/scratch.ipynb#X16sZmlsZQ%3D%3D?line=0'>1</a>\u001b[0m checkpoint_dir \u001b[39m=\u001b[39m Path(checkpoint_dir)\n\u001b[0;32m----> <a href='vscode-notebook-cell:/home/lauro/projects/meta-models/meta-transformer/notebooks/scratch.ipynb#X16sZmlsZQ%3D%3D?line=1'>2</a>\u001b[0m dataset \u001b[39m=\u001b[39m data\u001b[39m.\u001b[39;49mload_clean_and_backdoored(\n\u001b[1;32m      <a href='vscode-notebook-cell:/home/lauro/projects/meta-models/meta-transformer/notebooks/scratch.ipynb#X16sZmlsZQ%3D%3D?line=2'>3</a>\u001b[0m     num_pairs\u001b[39m=\u001b[39;49m\u001b[39m10\u001b[39;49m,\n\u001b[1;32m      <a href='vscode-notebook-cell:/home/lauro/projects/meta-models/meta-transformer/notebooks/scratch.ipynb#X16sZmlsZQ%3D%3D?line=3'>4</a>\u001b[0m     backdoored_dir\u001b[39m=\u001b[39;49mcheckpoint_dir \u001b[39m/\u001b[39;49m \u001b[39m\"\u001b[39;49m\u001b[39msimple_pattern\u001b[39;49m\u001b[39m\"\u001b[39;49m,\n\u001b[1;32m      <a href='vscode-notebook-cell:/home/lauro/projects/meta-models/meta-transformer/notebooks/scratch.ipynb#X16sZmlsZQ%3D%3D?line=4'>5</a>\u001b[0m     clean_dir\u001b[39m=\u001b[39;49mcheckpoint_dir \u001b[39m/\u001b[39;49m \u001b[39m\"\u001b[39;49m\u001b[39mclean\u001b[39;49m\u001b[39m\"\u001b[39;49m,\n\u001b[1;32m      <a href='vscode-notebook-cell:/home/lauro/projects/meta-models/meta-transformer/notebooks/scratch.ipynb#X16sZmlsZQ%3D%3D?line=5'>6</a>\u001b[0m     max_workers\u001b[39m=\u001b[39;49m\u001b[39mNone\u001b[39;49;00m \u001b[39mif\u001b[39;49;00m on_cluster \u001b[39melse\u001b[39;49;00m \u001b[39m1\u001b[39;49m,\n\u001b[1;32m      <a href='vscode-notebook-cell:/home/lauro/projects/meta-models/meta-transformer/notebooks/scratch.ipynb#X16sZmlsZQ%3D%3D?line=6'>7</a>\u001b[0m )\n",
      "File \u001b[0;32m~/projects/meta-models/meta-transformer/meta_transformer/data.py:99\u001b[0m, in \u001b[0;36mload_clean_and_backdoored\u001b[0;34m(num_pairs, backdoored_dir, clean_dir, max_workers)\u001b[0m\n\u001b[1;32m     96\u001b[0m \u001b[39mwith\u001b[39;00m concurrent\u001b[39m.\u001b[39mfutures\u001b[39m.\u001b[39mThreadPoolExecutor(max_workers\u001b[39m=\u001b[39mmax_workers) \u001b[39mas\u001b[39;00m executor:\n\u001b[1;32m     97\u001b[0m     loaded_models \u001b[39m=\u001b[39m executor\u001b[39m.\u001b[39mmap(load_pair, \u001b[39mrange\u001b[39m(num_pairs))\n\u001b[0;32m---> 99\u001b[0m backdoored, clean, info \u001b[39m=\u001b[39m [\u001b[39mlist\u001b[39m(x) \u001b[39mfor\u001b[39;00m x \u001b[39min\u001b[39;00m \u001b[39mzip\u001b[39;49m(\u001b[39m*\u001b[39;49mloaded_models)]\n\u001b[1;32m    100\u001b[0m \u001b[39mreturn\u001b[39;00m ParamsTreeData(backdoored, clean, info\u001b[39m=\u001b[39minfo)\n",
      "File \u001b[0;32m/usr/lib/python3.10/concurrent/futures/_base.py:621\u001b[0m, in \u001b[0;36mExecutor.map.<locals>.result_iterator\u001b[0;34m()\u001b[0m\n\u001b[1;32m    618\u001b[0m \u001b[39mwhile\u001b[39;00m fs:\n\u001b[1;32m    619\u001b[0m     \u001b[39m# Careful not to keep a reference to the popped future\u001b[39;00m\n\u001b[1;32m    620\u001b[0m     \u001b[39mif\u001b[39;00m timeout \u001b[39mis\u001b[39;00m \u001b[39mNone\u001b[39;00m:\n\u001b[0;32m--> 621\u001b[0m         \u001b[39myield\u001b[39;00m _result_or_cancel(fs\u001b[39m.\u001b[39;49mpop())\n\u001b[1;32m    622\u001b[0m     \u001b[39melse\u001b[39;00m:\n\u001b[1;32m    623\u001b[0m         \u001b[39myield\u001b[39;00m _result_or_cancel(fs\u001b[39m.\u001b[39mpop(), end_time \u001b[39m-\u001b[39m time\u001b[39m.\u001b[39mmonotonic())\n",
      "File \u001b[0;32m/usr/lib/python3.10/concurrent/futures/_base.py:319\u001b[0m, in \u001b[0;36m_result_or_cancel\u001b[0;34m(***failed resolving arguments***)\u001b[0m\n\u001b[1;32m    317\u001b[0m \u001b[39mtry\u001b[39;00m:\n\u001b[1;32m    318\u001b[0m     \u001b[39mtry\u001b[39;00m:\n\u001b[0;32m--> 319\u001b[0m         \u001b[39mreturn\u001b[39;00m fut\u001b[39m.\u001b[39;49mresult(timeout)\n\u001b[1;32m    320\u001b[0m     \u001b[39mfinally\u001b[39;00m:\n\u001b[1;32m    321\u001b[0m         fut\u001b[39m.\u001b[39mcancel()\n",
      "File \u001b[0;32m/usr/lib/python3.10/concurrent/futures/_base.py:451\u001b[0m, in \u001b[0;36mFuture.result\u001b[0;34m(self, timeout)\u001b[0m\n\u001b[1;32m    449\u001b[0m     \u001b[39mraise\u001b[39;00m CancelledError()\n\u001b[1;32m    450\u001b[0m \u001b[39melif\u001b[39;00m \u001b[39mself\u001b[39m\u001b[39m.\u001b[39m_state \u001b[39m==\u001b[39m FINISHED:\n\u001b[0;32m--> 451\u001b[0m     \u001b[39mreturn\u001b[39;00m \u001b[39mself\u001b[39;49m\u001b[39m.\u001b[39;49m__get_result()\n\u001b[1;32m    453\u001b[0m \u001b[39mself\u001b[39m\u001b[39m.\u001b[39m_condition\u001b[39m.\u001b[39mwait(timeout)\n\u001b[1;32m    455\u001b[0m \u001b[39mif\u001b[39;00m \u001b[39mself\u001b[39m\u001b[39m.\u001b[39m_state \u001b[39min\u001b[39;00m [CANCELLED, CANCELLED_AND_NOTIFIED]:\n",
      "File \u001b[0;32m/usr/lib/python3.10/concurrent/futures/_base.py:403\u001b[0m, in \u001b[0;36mFuture.__get_result\u001b[0;34m(self)\u001b[0m\n\u001b[1;32m    401\u001b[0m \u001b[39mif\u001b[39;00m \u001b[39mself\u001b[39m\u001b[39m.\u001b[39m_exception:\n\u001b[1;32m    402\u001b[0m     \u001b[39mtry\u001b[39;00m:\n\u001b[0;32m--> 403\u001b[0m         \u001b[39mraise\u001b[39;00m \u001b[39mself\u001b[39m\u001b[39m.\u001b[39m_exception\n\u001b[1;32m    404\u001b[0m     \u001b[39mfinally\u001b[39;00m:\n\u001b[1;32m    405\u001b[0m         \u001b[39m# Break a reference cycle with the exception in self._exception\u001b[39;00m\n\u001b[1;32m    406\u001b[0m         \u001b[39mself\u001b[39m \u001b[39m=\u001b[39m \u001b[39mNone\u001b[39;00m\n",
      "File \u001b[0;32m/usr/lib/python3.10/concurrent/futures/thread.py:58\u001b[0m, in \u001b[0;36m_WorkItem.run\u001b[0;34m(self)\u001b[0m\n\u001b[1;32m     55\u001b[0m     \u001b[39mreturn\u001b[39;00m\n\u001b[1;32m     57\u001b[0m \u001b[39mtry\u001b[39;00m:\n\u001b[0;32m---> 58\u001b[0m     result \u001b[39m=\u001b[39m \u001b[39mself\u001b[39;49m\u001b[39m.\u001b[39;49mfn(\u001b[39m*\u001b[39;49m\u001b[39mself\u001b[39;49m\u001b[39m.\u001b[39;49margs, \u001b[39m*\u001b[39;49m\u001b[39m*\u001b[39;49m\u001b[39mself\u001b[39;49m\u001b[39m.\u001b[39;49mkwargs)\n\u001b[1;32m     59\u001b[0m \u001b[39mexcept\u001b[39;00m \u001b[39mBaseException\u001b[39;00m \u001b[39mas\u001b[39;00m exc:\n\u001b[1;32m     60\u001b[0m     \u001b[39mself\u001b[39m\u001b[39m.\u001b[39mfuture\u001b[39m.\u001b[39mset_exception(exc)\n",
      "File \u001b[0;32m~/projects/meta-models/meta-transformer/meta_transformer/data.py:94\u001b[0m, in \u001b[0;36mload_clean_and_backdoored.<locals>.load_pair\u001b[0;34m(idx)\u001b[0m\n\u001b[1;32m     93\u001b[0m \u001b[39mdef\u001b[39;00m \u001b[39mload_pair\u001b[39m(idx):\n\u001b[0;32m---> 94\u001b[0m     \u001b[39mreturn\u001b[39;00m load_pair_of_models(idx, backdoored_dir, clean_dir)\n",
      "File \u001b[0;32m~/projects/meta-models/meta-transformer/meta_transformer/data.py:80\u001b[0m, in \u001b[0;36mload_pair_of_models\u001b[0;34m(idx, backdoored_dir, clean_dir)\u001b[0m\n\u001b[1;32m     78\u001b[0m bpath \u001b[39m=\u001b[39m Path(backdoored_dir) \u001b[39m/\u001b[39m \u001b[39mstr\u001b[39m(idx) \u001b[39m/\u001b[39m \u001b[39m'\u001b[39m\u001b[39mparams\u001b[39m\u001b[39m'\u001b[39m\n\u001b[1;32m     79\u001b[0m cpath \u001b[39m=\u001b[39m Path(clean_dir) \u001b[39m/\u001b[39m \u001b[39mstr\u001b[39m(idx) \u001b[39m/\u001b[39m \u001b[39m'\u001b[39m\u001b[39mparams\u001b[39m\u001b[39m'\u001b[39m\n\u001b[0;32m---> 80\u001b[0m poison_info \u001b[39m=\u001b[39m json\u001b[39m.\u001b[39mloads(infopath\u001b[39m.\u001b[39;49mread_text())\n\u001b[1;32m     81\u001b[0m \u001b[39mreturn\u001b[39;00m (checkpointer\u001b[39m.\u001b[39mrestore(bpath), \n\u001b[1;32m     82\u001b[0m         checkpointer\u001b[39m.\u001b[39mrestore(cpath), \n\u001b[1;32m     83\u001b[0m         poison_info)\n",
      "File \u001b[0;32m~/.virtualenvs/meta-models/lib/python3.10/site-packages/etils/epath/abstract_path.py:144\u001b[0m, in \u001b[0;36mPath.read_text\u001b[0;34m(self, encoding)\u001b[0m\n\u001b[1;32m    142\u001b[0m \u001b[39mdef\u001b[39;00m \u001b[39mread_text\u001b[39m(\u001b[39mself\u001b[39m, encoding: Optional[\u001b[39mstr\u001b[39m] \u001b[39m=\u001b[39m \u001b[39mNone\u001b[39;00m) \u001b[39m-\u001b[39m\u001b[39m>\u001b[39m \u001b[39mstr\u001b[39m:\n\u001b[1;32m    143\u001b[0m \u001b[39m  \u001b[39m\u001b[39m\"\"\"Reads contents of self as a string.\"\"\"\u001b[39;00m\n\u001b[0;32m--> 144\u001b[0m   \u001b[39mwith\u001b[39;00m \u001b[39mself\u001b[39;49m\u001b[39m.\u001b[39;49mopen(\u001b[39m'\u001b[39;49m\u001b[39mr\u001b[39;49m\u001b[39m'\u001b[39;49m, encoding\u001b[39m=\u001b[39;49mencoding) \u001b[39mas\u001b[39;00m f:\n\u001b[1;32m    145\u001b[0m     \u001b[39mreturn\u001b[39;00m f\u001b[39m.\u001b[39mread()\n",
      "File \u001b[0;32m~/.virtualenvs/meta-models/lib/python3.10/site-packages/etils/epath/gpath.py:227\u001b[0m, in \u001b[0;36m_GPath.open\u001b[0;34m(self, mode, encoding, errors, **kwargs)\u001b[0m\n\u001b[1;32m    223\u001b[0m \u001b[39mif\u001b[39;00m kwargs:\n\u001b[1;32m    224\u001b[0m   \u001b[39mraise\u001b[39;00m \u001b[39mNotImplementedError\u001b[39;00m(\n\u001b[1;32m    225\u001b[0m       \u001b[39mf\u001b[39m\u001b[39m'\u001b[39m\u001b[39mkwargs \u001b[39m\u001b[39m{\u001b[39;00m\u001b[39mlist\u001b[39m(kwargs)\u001b[39m}\u001b[39;00m\u001b[39m` not supported in `open()`.\u001b[39m\u001b[39m'\u001b[39m\n\u001b[1;32m    226\u001b[0m   )\n\u001b[0;32m--> 227\u001b[0m gfile \u001b[39m=\u001b[39m \u001b[39mself\u001b[39;49m\u001b[39m.\u001b[39;49m_backend\u001b[39m.\u001b[39;49mopen(\u001b[39mself\u001b[39;49m\u001b[39m.\u001b[39;49m_path_str, mode)\n\u001b[1;32m    228\u001b[0m gfile \u001b[39m=\u001b[39m typing\u001b[39m.\u001b[39mcast(typing\u001b[39m.\u001b[39mIO[Union[\u001b[39mstr\u001b[39m, \u001b[39mbytes\u001b[39m]], gfile)\n\u001b[1;32m    229\u001b[0m \u001b[39mreturn\u001b[39;00m gfile\n",
      "File \u001b[0;32m~/.virtualenvs/meta-models/lib/python3.10/site-packages/etils/epath/backend.py:104\u001b[0m, in \u001b[0;36m_OsPathBackend.open\u001b[0;34m(self, path, mode)\u001b[0m\n\u001b[1;32m    102\u001b[0m \u001b[39melse\u001b[39;00m:\n\u001b[1;32m    103\u001b[0m   encoding \u001b[39m=\u001b[39m \u001b[39m'\u001b[39m\u001b[39mutf-8\u001b[39m\u001b[39m'\u001b[39m\n\u001b[0;32m--> 104\u001b[0m \u001b[39mreturn\u001b[39;00m \u001b[39mopen\u001b[39;49m(path, mode, encoding\u001b[39m=\u001b[39;49mencoding)\n",
      "\u001b[0;31mFileNotFoundError\u001b[0m: [Errno 2] No such file or directory: '/home/lauro/projects/meta-models/lauro-backdoors/checkpoints/simple_pattern/0/info.json'"
     ]
    }
   ],
   "source": [
    "checkpoint_dir = Path(checkpoint_dir)\n",
    "dataset = data.load_clean_and_backdoored(\n",
    "    num_pairs=10,\n",
    "    backdoored_dir=checkpoint_dir / \"simple_pattern\",\n",
    "    clean_dir=checkpoint_dir / \"clean\",\n",
    "    max_workers=None if on_cluster else 1,\n",
    ")"
   ]
  },
  {
   "cell_type": "code",
   "execution_count": null,
   "metadata": {},
   "outputs": [],
   "source": [
    "dataset_flat, inverse = data.flatten_and_chunk_batch(dataset, 256, 0.1)"
   ]
  },
  {
   "cell_type": "code",
   "execution_count": null,
   "metadata": {},
   "outputs": [
    {
     "data": {
      "text/plain": [
       "(128, 10)"
      ]
     },
     "execution_count": 5,
     "metadata": {},
     "output_type": "execute_result"
    }
   ],
   "source": [
    "params = inverse(dataset_flat.backdoored[0])\n",
    "params['Dense_0']['kernel'].shape"
   ]
  },
  {
   "cell_type": "code",
   "execution_count": null,
   "metadata": {},
   "outputs": [],
   "source": [
    "s = backdoors.train.init_train_state(rng)"
   ]
  },
  {
   "cell_type": "code",
   "execution_count": null,
   "metadata": {},
   "outputs": [],
   "source": []
  },
  {
   "cell_type": "code",
   "execution_count": null,
   "metadata": {},
   "outputs": [],
   "source": []
  },
  {
   "cell_type": "code",
   "execution_count": null,
   "metadata": {},
   "outputs": [],
   "source": []
  },
  {
   "cell_type": "code",
   "execution_count": null,
   "metadata": {},
   "outputs": [],
   "source": []
  },
  {
   "cell_type": "code",
   "execution_count": null,
   "metadata": {},
   "outputs": [],
   "source": []
  },
  {
   "cell_type": "code",
   "execution_count": null,
   "metadata": {},
   "outputs": [],
   "source": [
    "lr = 1e-3\n",
    "cooldown_every = 1000\n",
    "cooldown_steps = 200\n",
    "warmup_steps = 200\n",
    "\n",
    "\n",
    "def cooldown(step: int) -> float:\n",
    "    return lr - lr * step / cooldown_steps\n",
    "\n",
    "\n",
    "def warmup(step: int) -> float:\n",
    "    return lr * step / warmup_steps\n",
    "\n",
    "\n",
    "def schedule(step: int) -> float:\n",
    "    if step < warmup_steps:\n",
    "        out = warmup(step)\n",
    "    elif step % cooldown_every > cooldown_every - cooldown_steps:\n",
    "        out = cooldown(step % cooldown_every - cooldown_every + cooldown_steps)\n",
    "    else:\n",
    "        out = lr\n",
    "    return out\n",
    "\n",
    "\n",
    "plt.figure(figsize=(10, 3))\n",
    "plt.plot([schedule(i) for i in range(5000)])"
   ]
  }
 ],
 "metadata": {
  "kernelspec": {
   "display_name": "meta-models",
   "language": "python",
   "name": "python3"
  },
  "language_info": {
   "codemirror_mode": {
    "name": "ipython",
    "version": 3
   },
   "file_extension": ".py",
   "mimetype": "text/x-python",
   "name": "python",
   "nbconvert_exporter": "python",
   "pygments_lexer": "ipython3",
   "version": "3.10.12"
  },
  "orig_nbformat": 4
 },
 "nbformat": 4,
 "nbformat_minor": 2
}
