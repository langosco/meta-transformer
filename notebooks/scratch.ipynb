{
 "cells": [
  {
   "cell_type": "code",
   "execution_count": 1,
   "metadata": {},
   "outputs": [
    {
     "name": "stderr",
     "output_type": "stream",
     "text": [
      "/home/lauro/.virtualenvs/meta-models/lib/python3.10/site-packages/tqdm/auto.py:21: TqdmWarning: IProgress not found. Please update jupyter and ipywidgets. See https://ipywidgets.readthedocs.io/en/stable/user_install.html\n",
      "  from .autonotebook import tqdm as notebook_tqdm\n"
     ]
    }
   ],
   "source": [
    "import os\n",
    "#os.environ[\"XLA_PYTHON_CLIENT_MEM_FRACTION\"] = \"0.6\"  # preallocate a bit less memory so we can use pytorch next to jax\n",
    "\n",
    "from time import time\n",
    "import jax\n",
    "import jax.numpy as jnp\n",
    "import flax.linen as nn\n",
    "import numpy as np\n",
    "import optax\n",
    "from typing import List, Dict\n",
    "from jax.typing import ArrayLike\n",
    "from meta_transformer import utils, preprocessing, torch_utils, module_path, on_cluster, output_dir\n",
    "from meta_transformer.meta_model import MetaModel\n",
    "from dataclasses import asdict\n",
    "from meta_transformer.train import Updater, Logger\n",
    "from meta_transformer.data import data_iterator, split_data\n",
    "from etils import epath"
   ]
  },
  {
   "cell_type": "code",
   "execution_count": 3,
   "metadata": {},
   "outputs": [
    {
     "name": "stdout",
     "output_type": "stream",
     "text": [
      "Loading pairs of models from:\n",
      "/home/lauro/projects/meta-models/meta-transformer/data/david_backdoors/cifar10/poison_noL1\n",
      "/home/lauro/projects/meta-models/meta-transformer/data/david_backdoors/cifar10/clean\n"
     ]
    }
   ],
   "source": [
    "\n",
    "import pytest\n",
    "import jax\n",
    "import jax.numpy as jnp\n",
    "import chex\n",
    "from meta_transformer.preprocessing import augment_list_of_nets\n",
    "import numpy.testing as npt\n",
    "from meta_transformer import on_cluster, module_path, torch_utils\n",
    "import os\n",
    "import numpy as np\n",
    "\n",
    "\n",
    "# load checkpoint data\n",
    "if not on_cluster:\n",
    "    dpath = os.path.join(module_path, \"data/david_backdoors\")  # local\n",
    "else:\n",
    "    dpath = \"/rds/user/lsl38/rds-dsk-lab-eWkDxBhxBrQ/model-zoo/\"  \n",
    "dpath = os.path.join(dpath, \"cifar10\")\n",
    "inputs_dir = os.path.join(dpath, \"poison_noL1\")\n",
    "targets_dir = os.path.join(dpath, \"clean\")\n",
    "architecture = torch_utils.CNNMedium()\n",
    "inputs, targets, get_pytorch_model = torch_utils.load_pairs_of_models(\n",
    "    model=architecture,\n",
    "    data_dir1=inputs_dir,\n",
    "    data_dir2=targets_dir,\n",
    "    num_models=100,\n",
    "    max_workers=None if on_cluster else 1,\n",
    ")\n",
    "\n",
    "\n",
    "rng = np.random.default_rng(42)\n",
    "LAYERS_TO_PERMUTE = [f'Conv2d_{i}' for i in range(6)] + ['Dense_6']\n",
    "\n",
    "\n",
    "def test_augment(nets):\n",
    "    augmented = augment_list_of_nets(\n",
    "        nets,\n",
    "        rng,\n",
    "        layers_to_permute=LAYERS_TO_PERMUTE,\n",
    "    )\n",
    "    assert len(augmented) == len(nets)\n",
    "    assert len(augmented[0]) == len(nets[0])\n",
    "    assert all(aug.keys() == net.keys() for aug, net in zip(augmented, nets))\n",
    "    print()\n",
    "    print()\n",
    "    print()\n",
    "    print()\n",
    "    print()\n",
    "    print(augmented[0].keys())\n",
    "\n",
    "    print()\n",
    "    print()\n",
    "    print()\n",
    "    print()\n",
    "    print()\n"
   ]
  },
  {
   "cell_type": "code",
   "execution_count": 4,
   "metadata": {},
   "outputs": [
    {
     "name": "stdout",
     "output_type": "stream",
     "text": [
      "\n",
      "\n",
      "\n",
      "\n",
      "\n",
      "dict_keys(['Conv2d_0', 'BatchNorm2d_1', 'Conv2d_2', 'BatchNorm2d_3', 'Conv2d_4', 'BatchNorm2d_5', 'Conv2d_6', 'BatchNorm2d_7', 'Conv2d_8', 'BatchNorm2d_9', 'Conv2d_10', 'BatchNorm2d_11', 'Linear_12', 'BatchNorm1d_13', 'Linear_14'])\n",
      "\n",
      "\n",
      "\n",
      "\n",
      "\n"
     ]
    },
    {
     "name": "stderr",
     "output_type": "stream",
     "text": [
      "/home/lauro/.virtualenvs/meta-models/lib/python3.10/site-packages/einops/parsing.py:136: RuntimeWarning: It is discouraged to use axes names that are keywords: in\n",
      "  warnings.warn(\"It is discouraged to use axes names that are keywords: {}\".format(name), RuntimeWarning)\n"
     ]
    }
   ],
   "source": [
    "test_augment(inputs)"
   ]
  }
 ],
 "metadata": {
  "kernelspec": {
   "display_name": "meta-models",
   "language": "python",
   "name": "python3"
  },
  "language_info": {
   "codemirror_mode": {
    "name": "ipython",
    "version": 3
   },
   "file_extension": ".py",
   "mimetype": "text/x-python",
   "name": "python",
   "nbconvert_exporter": "python",
   "pygments_lexer": "ipython3",
   "version": "3.10.12"
  },
  "orig_nbformat": 4
 },
 "nbformat": 4,
 "nbformat_minor": 2
}
