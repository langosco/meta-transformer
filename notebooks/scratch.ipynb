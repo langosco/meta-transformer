{
 "cells": [
  {
   "cell_type": "code",
   "execution_count": 1,
   "metadata": {},
   "outputs": [
    {
     "name": "stderr",
     "output_type": "stream",
     "text": [
      "/home/lauro/.virtualenvs/meta-models/lib/python3.8/site-packages/tqdm/auto.py:21: TqdmWarning: IProgress not found. Please update jupyter and ipywidgets. See https://ipywidgets.readthedocs.io/en/stable/user_install.html\n",
      "  from .autonotebook import tqdm as notebook_tqdm\n"
     ]
    }
   ],
   "source": [
    "import os\n",
    "#os.environ[\"XLA_PYTHON_CLIENT_MEM_FRACTION\"] = \"0.6\"  # preallocate a bit less memory so we can use pytorch next to jax\n",
    "\n",
    "from time import time\n",
    "import jax\n",
    "import jax.numpy as jnp\n",
    "import flax.linen as nn\n",
    "import numpy as np\n",
    "import optax\n",
    "from typing import List, Dict\n",
    "from jax.typing import ArrayLike\n",
    "from meta_transformer import utils, preprocessing, torch_utils, module_path, on_cluster, output_dir\n",
    "from meta_transformer.meta_model import MetaModel\n",
    "from dataclasses import asdict\n",
    "from meta_transformer.train import Updater, Logger\n",
    "from meta_transformer.data import data_iterator, split_data\n",
    "from etils import epath"
   ]
  }
 ],
 "metadata": {
  "kernelspec": {
   "display_name": "meta-models",
   "language": "python",
   "name": "python3"
  },
  "language_info": {
   "codemirror_mode": {
    "name": "ipython",
    "version": 3
   },
   "file_extension": ".py",
   "mimetype": "text/x-python",
   "name": "python",
   "nbconvert_exporter": "python",
   "pygments_lexer": "ipython3",
   "version": "3.8.10"
  },
  "orig_nbformat": 4
 },
 "nbformat": 4,
 "nbformat_minor": 2
}
