{
 "cells": [
  {
   "cell_type": "code",
   "execution_count": 25,
   "metadata": {},
   "outputs": [],
   "source": [
    "from functools import partial\n",
    "from time import time\n",
    "import os\n",
    "os.environ[\"XLA_PYTHON_CLIENT_PREALLOCATE\"] = \"false\"\n",
    "from pathlib import Path\n",
    "import pprint\n",
    "\n",
    "import matplotlib.pyplot as plt\n",
    "\n",
    "import jax\n",
    "import jax.numpy as jnp\n",
    "import optax\n",
    "from jax.typing import ArrayLike\n",
    "from dataclasses import asdict\n",
    "import numpy as np\n",
    "import wandb\n",
    "import argparse\n",
    "from etils import epath\n",
    "from tqdm import tqdm\n",
    "import orbax.checkpoint\n",
    "from etils import epath\n",
    "import flax.linen as nn\n",
    "\n",
    "from meta_transformer import utils, preprocessing, module_path, on_cluster, output_dir, interactive, data\n",
    "from meta_transformer.meta_model import MetaModel, mup_adamw, MetaModelClassifier\n",
    "from meta_transformer.train import Updater, Logger\n",
    "from meta_transformer.data import Data, load_batches\n",
    "\n",
    "import backdoors.utils\n",
    "import backdoors.poison\n",
    "from backdoors import checkpoint_dir, paths\n",
    "import backdoors.train\n",
    "\n",
    "import nnaugment\n",
    "from nn_utils import schedules\n",
    "\n",
    "rng = jax.random.PRNGKey(0)\n",
    "numpy_rng = np.random.default_rng()\n",
    "\n",
    "CLEAN_CHECKPOINT_DIR = epath.Path(checkpoint_dir) / \"clean\"\n",
    "BACKDOOR_CHECKPOINT_DIR = epath.Path(checkpoint_dir) / \"simple_pattern\"\n",
    "LAYERS_TO_PERM = [f\"Conv_{i}\" for i in range(6)]"
   ]
  },
  {
   "cell_type": "code",
   "execution_count": 33,
   "metadata": {},
   "outputs": [
    {
     "name": "stdout",
     "output_type": "stream",
     "text": [
      "ctc_net/BatchNorm_1\n",
      "ctc_net/BatchNorm_11\n",
      "ctc_net/BatchNorm_13\n",
      "ctc_net/BatchNorm_3\n",
      "ctc_net/BatchNorm_5\n",
      "ctc_net/BatchNorm_7\n",
      "ctc_net/BatchNorm_9\n",
      "ctc_net/Conv_0\n",
      "ctc_net/Conv_2\n",
      "ctc_net/Conv_4\n",
      "ctc_net/Conv_6\n",
      "ctc_net/Conv_8\n",
      "ctc_net/Dense_10\n",
      "ctc_net/Dense_12\n",
      "ctc_net/Dense_14\n"
     ]
    }
   ],
   "source": [
    "DATA_DIR = '/home/lauro/projects/meta-models/neel-nninn/data/ctc_new'\n",
    "net = np.load(DATA_DIR + f\"/1/epoch_20.npy\", allow_pickle=True).item()\n",
    "print(*net.keys(), sep='\\n')"
   ]
  },
  {
   "cell_type": "code",
   "execution_count": 38,
   "metadata": {},
   "outputs": [
    {
     "data": {
      "text/plain": [
       "(1, 1, 1, 16)"
      ]
     },
     "execution_count": 38,
     "metadata": {},
     "output_type": "execute_result"
    }
   ],
   "source": [
    "net[\"ctc_net/BatchNorm_1\"]['offset'].shape"
   ]
  },
  {
   "cell_type": "markdown",
   "metadata": {},
   "source": [
    "### ctc stuff"
   ]
  },
  {
   "cell_type": "code",
   "execution_count": 29,
   "metadata": {},
   "outputs": [
    {
     "data": {
      "text/plain": [
       "dict"
      ]
     },
     "execution_count": 29,
     "metadata": {},
     "output_type": "execute_result"
    }
   ],
   "source": [
    "filepath = \"../../neel-nninn/data/ctc_fixed_10k/10/epoch_20.npy\"\n",
    "net = np.load(filepath, allow_pickle=True).item()\n",
    "type(net)"
   ]
  },
  {
   "cell_type": "code",
   "execution_count": 30,
   "metadata": {},
   "outputs": [
    {
     "name": "stdout",
     "output_type": "stream",
     "text": [
      "ctc_net/batch_norm\n",
      "ctc_net/batch_norm_1\n",
      "ctc_net/batch_norm_2\n",
      "ctc_net/batch_norm_3\n",
      "ctc_net/batch_norm_4\n",
      "ctc_net/conv2_d\n",
      "ctc_net/conv2_d_1\n",
      "ctc_net/conv2_d_2\n",
      "ctc_net/linear\n",
      "ctc_net/linear_1\n",
      "ctc_net/linear_2\n"
     ]
    }
   ],
   "source": [
    "print(*net.keys(), sep=\"\\n\")"
   ]
  },
  {
   "cell_type": "code",
   "execution_count": 31,
   "metadata": {},
   "outputs": [
    {
     "data": {
      "text/plain": [
       "dict_keys(['offset', 'scale'])"
      ]
     },
     "execution_count": 31,
     "metadata": {},
     "output_type": "execute_result"
    }
   ],
   "source": [
    "net['ctc_net/batch_norm'].keys()"
   ]
  },
  {
   "cell_type": "code",
   "execution_count": 35,
   "metadata": {},
   "outputs": [
    {
     "data": {
      "text/plain": [
       "(128, 10)"
      ]
     },
     "execution_count": 35,
     "metadata": {},
     "output_type": "execute_result"
    }
   ],
   "source": [
    "net['ctc_net/linear_2']['w'].shape"
   ]
  },
  {
   "cell_type": "code",
   "execution_count": 44,
   "metadata": {},
   "outputs": [
    {
     "data": {
      "text/plain": [
       "(5, 5, 32, 32)"
      ]
     },
     "execution_count": 44,
     "metadata": {},
     "output_type": "execute_result"
    }
   ],
   "source": [
    "net['ctc_net/conv2_d_2']['w'].shape"
   ]
  },
  {
   "cell_type": "code",
   "execution_count": 34,
   "metadata": {},
   "outputs": [
    {
     "data": {
      "text/plain": [
       "dict_keys(['b', 'w'])"
      ]
     },
     "execution_count": 34,
     "metadata": {},
     "output_type": "execute_result"
    }
   ],
   "source": [
    "net['ctc_net/conv2_d'].keys()"
   ]
  },
  {
   "cell_type": "code",
   "execution_count": 9,
   "metadata": {},
   "outputs": [],
   "source": [
    "nsteps = 100\n",
    "lr = 1e-3\n",
    "\n",
    "cooldown_length = nsteps // 10\n",
    "schedule = schedules.triangle_schedule(\n",
    "    max_lr=lr*20,\n",
    "    total_steps=nsteps//4,\n",
    "    end_lr=lr,\n",
    ")\n",
    "schedule = schedules.add_cooldown(\n",
    "    schedule, \n",
    "    cooldown_start=nsteps - cooldown_length, \n",
    "    cooldown_length=cooldown_length,\n",
    ")\n",
    "schedule = jax.jit(schedule)\n",
    "\n",
    "new_schedule = schedules.constant_with_warmup_and_cooldown(\n",
    "    lr, nsteps, warmup_length=nsteps//4, cooldown_start=int(nsteps*0.9), max_lr=lr*20\n",
    ")"
   ]
  },
  {
   "cell_type": "code",
   "execution_count": 10,
   "metadata": {},
   "outputs": [
    {
     "data": {
      "text/plain": [
       "[<matplotlib.lines.Line2D at 0x7f28782f1570>]"
      ]
     },
     "execution_count": 10,
     "metadata": {},
     "output_type": "execute_result"
    },
    {
     "data": {
      "image/png": "[encoded data removed]",
      "text/plain": [
       "<Figure size 640x480 with 1 Axes>"
      ]
     },
     "metadata": {},
     "output_type": "display_data"
    }
   ],
   "source": [
    "plt.plot([schedule(i) for i in range(nsteps)])\n",
    "plt.plot([new_schedule(i) for i in range(nsteps)])"
   ]
  },
  {
   "cell_type": "code",
   "execution_count": null,
   "metadata": {},
   "outputs": [],
   "source": []
  },
  {
   "cell_type": "code",
   "execution_count": null,
   "metadata": {},
   "outputs": [],
   "source": []
  },
  {
   "cell_type": "code",
   "execution_count": null,
   "metadata": {},
   "outputs": [],
   "source": [
    "loader = None\n",
    "\n",
    "for batch in loader:\n",
    "    state, val_metrics, aux = updater.compute_val_metrics(state, batch)\n",
    "    metrics_logger.write(state, val_metrics, name=\"val\")\n",
    "\n",
    "\n",
    "for batch in loader:\n",
    "    state, train_metrics = updater.update(state, batch)\n",
    "    metrics_logger.write(state, train_metrics, name=\"train\")\n",
    "\n",
    "    if time() - start > args.max_runtime * 60:\n",
    "        logger.info(\"Maximum runtime reached. Stopping training.\")\n",
    "        stop_training = True\n",
    "        break\n",
    "\n",
    "    if state.step > args.n_steps:\n",
    "        logger.info(\"Maximum number of steps reached. Stopping training.\")\n",
    "        stop_training = True\n",
    "        break"
   ]
  },
  {
   "cell_type": "code",
   "execution_count": 14,
   "metadata": {},
   "outputs": [],
   "source": [
    "@jax.jit\n",
    "@partial(nn_utils.schedules.add_cooldown, cooldown_start=450, cooldown_length=50)\n",
    "@partial(nn_utils.schedules.add_warmup, warmup_length=50)\n",
    "def schedule(step):\n",
    "    return 1e-4"
   ]
  },
  {
   "cell_type": "code",
   "execution_count": 15,
   "metadata": {},
   "outputs": [
    {
     "data": {
      "text/plain": [
       "[<matplotlib.lines.Line2D at 0x7fe3f01dfd90>]"
      ]
     },
     "execution_count": 15,
     "metadata": {},
     "output_type": "execute_result"
    },
    {
     "data": {
      "image/png": "[encoded data removed]",
      "text/plain": [
       "<Figure size 800x200 with 1 Axes>"
      ]
     },
     "metadata": {},
     "output_type": "display_data"
    }
   ],
   "source": [
    "plt.figure(figsize=(8, 2))\n",
    "xrange = np.arange(0, 500, 1)\n",
    "plt.plot(xrange, [schedule(x) for x in xrange])"
   ]
  },
  {
   "cell_type": "code",
   "execution_count": null,
   "metadata": {},
   "outputs": [],
   "source": []
  },
  {
   "cell_type": "code",
   "execution_count": 256,
   "metadata": {},
   "outputs": [],
   "source": [
    "from typing import NamedTuple"
   ]
  },
  {
   "cell_type": "code",
   "execution_count": 267,
   "metadata": {},
   "outputs": [],
   "source": [
    "class OptionalCooldownState(NamedTuple):\n",
    "    count: int = 0\n",
    "    cooldown_start: int = None\n",
    "    cooldown_steps: int = 1000\n",
    "    cooldown: bool = False\n",
    "\n",
    "\n",
    "def optional_cooldown(lr: float):\n",
    "    def init_fn(params):\n",
    "        return OptionalCooldownState()\n",
    "    \n",
    "    def update_fn(updates, state, params=None):\n",
    "        del params\n",
    "        if not state.cooldown:\n",
    "            return updates, state\n",
    "        elif state.cooldown and state.cooldown_start is None:\n",
    "            return updates, state._replace(cooldown_start=state.count)\n",
    "\n",
    "    return optax.GradientTransformation(init_fn, update_fn)\n"
   ]
  },
  {
   "cell_type": "code",
   "execution_count": 244,
   "metadata": {},
   "outputs": [],
   "source": [
    "@optax.inject_hyperparams\n",
    "def optimizer(lr: float) -> optax.GradientTransformation:\n",
    "    return optax.chain(\n",
    "        optax.sgd(lr),\n",
    "    )\n",
    "\n",
    "\n",
    "def schedule(step):\n",
    "    return step\n",
    "\n",
    "\n",
    "opt = optimizer(1e-3)"
   ]
  },
  {
   "cell_type": "code",
   "execution_count": 249,
   "metadata": {},
   "outputs": [
    {
     "name": "stdout",
     "output_type": "stream",
     "text": [
      "count: 0\n",
      "hyperparams: {'lr': Array(0.001, dtype=float32, weak_type=True)}\n"
     ]
    }
   ],
   "source": [
    "opt_state = opt.init({\"w\": 0.0})\n",
    "print(\"count:\", opt_state.count)\n",
    "print(\"hyperparams:\", opt_state.hyperparams)"
   ]
  },
  {
   "cell_type": "code",
   "execution_count": 255,
   "metadata": {},
   "outputs": [
    {
     "name": "stdout",
     "output_type": "stream",
     "text": [
      "count: 6\n",
      "hyperparams: {'lr': Array(0.001, dtype=float32)}\n",
      "\n",
      "updates: {'w': Array(-0.001, dtype=float32)}\n"
     ]
    }
   ],
   "source": [
    "updates, opt_state = opt.update({\"w\": np.array(1.0)}, opt_state)\n",
    "\n",
    "print(\"count:\", opt_state.count)\n",
    "print(\"hyperparams:\", opt_state.hyperparams)\n",
    "print()\n",
    "print(\"updates:\", updates)"
   ]
  }
 ],
 "metadata": {
  "kernelspec": {
   "display_name": "meta-models",
   "language": "python",
   "name": "python3"
  },
  "language_info": {
   "codemirror_mode": {
    "name": "ipython",
    "version": 3
   },
   "file_extension": ".py",
   "mimetype": "text/x-python",
   "name": "python",
   "nbconvert_exporter": "python",
   "pygments_lexer": "ipython3",
   "version": "3.10.12"
  },
  "orig_nbformat": 4
 },
 "nbformat": 4,
 "nbformat_minor": 2
}
