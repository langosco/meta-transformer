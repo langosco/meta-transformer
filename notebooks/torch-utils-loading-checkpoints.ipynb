{
 "cells": [
  {
   "cell_type": "code",
   "execution_count": 1,
   "metadata": {},
   "outputs": [
    {
     "name": "stderr",
     "output_type": "stream",
     "text": [
      "/home/lauro/.virtualenvs/meta-models/lib/python3.10/site-packages/tqdm/auto.py:21: TqdmWarning: IProgress not found. Please update jupyter and ipywidgets. See https://ipywidgets.readthedocs.io/en/stable/user_install.html\n",
      "  from .autonotebook import tqdm as notebook_tqdm\n"
     ]
    }
   ],
   "source": [
    "from meta_transformer import torch_utils, module_path, on_cluster\n",
    "import os\n",
    "from time import time\n",
    "from dataclasses import dataclass\n",
    "import torch"
   ]
  },
  {
   "cell_type": "code",
   "execution_count": 2,
   "metadata": {},
   "outputs": [],
   "source": [
    "@dataclass\n",
    "class Args:\n",
    "    ndata: int = 23_710\n",
    "    dataset: str = 'mnist'\n",
    "\n",
    "args = Args()"
   ]
  },
  {
   "cell_type": "code",
   "execution_count": 3,
   "metadata": {},
   "outputs": [
    {
     "name": "stdout",
     "output_type": "stream",
     "text": [
      "Initial memory allocated: 0.0 MB\n",
      "Initial memory reserved: 0.0 MB\n"
     ]
    }
   ],
   "source": [
    "print(f'Initial memory allocated: {torch.cuda.memory_allocated() / (1024 ** 2)} MB')\n",
    "print(f'Initial memory reserved: {torch.cuda.memory_reserved() / (1024 ** 2)} MB')"
   ]
  },
  {
   "cell_type": "code",
   "execution_count": 12,
   "metadata": {},
   "outputs": [
    {
     "name": "stdout",
     "output_type": "stream",
     "text": [
      "Loading data...\n",
      "Could not find /home/lauro/projects/meta-models/meta-transformer/data/david_backdoors/mnist-cnns/clean/clean_0000330_0.pt.\n"
     ]
    }
   ],
   "source": [
    "if not on_cluster:\n",
    "    dpath = os.path.join(module_path, \"data/david_backdoors\")  # local\n",
    "    # use for testing with small dataset sizes (only works if rds storage is mounted):\n",
    "    # dpath = os.path.join(module_path, \"/home/lauro/rds/model-zoo/\")\n",
    "else:\n",
    "    dpath = \"/rds/user/lsl38/rds-dsk-lab-eWkDxBhxBrQ/model-zoo/\"  \n",
    "\n",
    "model_dataset_paths = {\n",
    "    \"mnist\": \"mnist-cnns\",\n",
    "    \"cifar10\": \"cifar10\",\n",
    "    \"svhn\": \"svhn\",\n",
    "}\n",
    "\n",
    "model_dataset_paths = {\n",
    "    k: os.path.join(dpath, v) for k, v in model_dataset_paths.items()\n",
    "}\n",
    "\n",
    "inputs_dirnames = {\n",
    "    \"mnist\": \"poison_noL1reg\",\n",
    "    #\"mnist\": \"poison\",\n",
    "    #\"cifar10\": \"poison_noL1\",\n",
    "    \"cifar10\": \"poison_easy6_alpha_50\",\n",
    "    \"svhn\": \"poison_noL1\",\n",
    "}\n",
    "\n",
    "\n",
    "architecture = torch_utils.CNNSmall()  # for CIFAR-10\n",
    "print(\"Loading data...\")\n",
    "s = time()\n",
    "inputs, targets, get_pytorch_model = torch_utils.load_input_and_target_weights(\n",
    "    model=architecture,\n",
    "    num_models=args.ndata,\n",
    "    data_dir=model_dataset_paths[args.dataset],\n",
    "    inputs_dirname=inputs_dirnames[args.dataset],\n",
    "    targets_dirname=\"clean\",\n",
    ")\n",
    "e = time()\n",
    "\n",
    "print(\"Data loading and processing took\", round(e - s), \"seconds.\")"
   ]
  },
  {
   "cell_type": "code",
   "execution_count": 5,
   "metadata": {},
   "outputs": [
    {
     "name": "stdout",
     "output_type": "stream",
     "text": [
      "Current memory allocated: 0.0 MB\n",
      "Current memory reserved: 0.0 MB\n"
     ]
    }
   ],
   "source": [
    "print(f'Current memory allocated: {torch.cuda.memory_allocated() / (1024 ** 2)} MB')\n",
    "print(f'Current memory reserved: {torch.cuda.memory_reserved() / (1024 ** 2)} MB')"
   ]
  },
  {
   "cell_type": "code",
   "execution_count": 6,
   "metadata": {},
   "outputs": [
    {
     "data": {
      "text/plain": [
       "numpy.ndarray"
      ]
     },
     "execution_count": 6,
     "metadata": {},
     "output_type": "execute_result"
    }
   ],
   "source": [
    "type(inputs)"
   ]
  },
  {
   "cell_type": "code",
   "execution_count": 7,
   "metadata": {},
   "outputs": [
    {
     "data": {
      "text/plain": [
       "dict"
      ]
     },
     "execution_count": 7,
     "metadata": {},
     "output_type": "execute_result"
    }
   ],
   "source": [
    "type(inputs[0])"
   ]
  },
  {
   "cell_type": "code",
   "execution_count": 8,
   "metadata": {},
   "outputs": [
    {
     "data": {
      "text/plain": [
       "dict_keys(['Conv2d_0', 'Conv2d_1', 'Linear_2', 'Linear_3'])"
      ]
     },
     "execution_count": 8,
     "metadata": {},
     "output_type": "execute_result"
    }
   ],
   "source": [
    "inputs[0].keys()"
   ]
  },
  {
   "cell_type": "code",
   "execution_count": 1,
   "metadata": {},
   "outputs": [
    {
     "ename": "NameError",
     "evalue": "name 'inputs' is not defined",
     "output_type": "error",
     "traceback": [
      "\u001b[0;31m---------------------------------------------------------------------------\u001b[0m",
      "\u001b[0;31mNameError\u001b[0m                                 Traceback (most recent call last)",
      "Cell \u001b[0;32mIn[1], line 1\u001b[0m\n\u001b[0;32m----> 1\u001b[0m \u001b[39mtype\u001b[39m(inputs[\u001b[39m0\u001b[39m][\u001b[39m'\u001b[39m\u001b[39mConv2d_0\u001b[39m\u001b[39m'\u001b[39m][\u001b[39m'\u001b[39m\u001b[39mw\u001b[39m\u001b[39m'\u001b[39m])\n",
      "\u001b[0;31mNameError\u001b[0m: name 'inputs' is not defined"
     ]
    }
   ],
   "source": [
    "type(inputs[0]['Conv2d_0']['w'])"
   ]
  }
 ],
 "metadata": {
  "kernelspec": {
   "display_name": "meta-models",
   "language": "python",
   "name": "python3"
  },
  "language_info": {
   "codemirror_mode": {
    "name": "ipython",
    "version": 3
   },
   "file_extension": ".py",
   "mimetype": "text/x-python",
   "name": "python",
   "nbconvert_exporter": "python",
   "pygments_lexer": "ipython3",
   "version": "3.10.12"
  },
  "orig_nbformat": 4
 },
 "nbformat": 4,
 "nbformat_minor": 2
}
