{
 "cells": [
  {
   "cell_type": "code",
   "execution_count": 1,
   "metadata": {},
   "outputs": [
    {
     "name": "stderr",
     "output_type": "stream",
     "text": [
      "/rds/user/lsl38/hpc-work/miniconda3/envs/meta-models/lib/python3.10/site-packages/tqdm/auto.py:21: TqdmWarning: IProgress not found. Please update jupyter and ipywidgets. See https://ipywidgets.readthedocs.io/en/stable/user_install.html\n",
      "  from .autonotebook import tqdm as notebook_tqdm\n"
     ]
    }
   ],
   "source": [
    "from meta_transformer import torch_utils, module_path, on_cluster\n",
    "import os\n",
    "from time import time\n",
    "from dataclasses import dataclass\n",
    "import torch\n",
    "from meta_transformer.data import split_data\n",
    "import numpy as np\n",
    "import chex\n",
    "from tqdm import tqdm\n",
    "from meta_transformer import preprocessing\n",
    "import matplotlib.pyplot as plt"
   ]
  },
  {
   "cell_type": "markdown",
   "metadata": {},
   "source": [
    "# Load real model checkpoints"
   ]
  },
  {
   "cell_type": "code",
   "execution_count": 2,
   "metadata": {},
   "outputs": [],
   "source": [
    "@dataclass\n",
    "class Args:\n",
    "    ndata: int = 10\n",
    "    dataset: str = 'mnist'\n",
    "    chunk_size: int = 256\n",
    "    bs: int = 2\n",
    "    augment: bool = True\n",
    "\n",
    "args = Args()\n",
    "\n",
    "args = Args(\n",
    "    ndata=1000,\n",
    "    dataset='cifar10',\n",
    ")\n",
    "\n",
    "if args.dataset == 'mnist':\n",
    "    architecture = torch_utils.CNNSmall()  # for MNIST\n",
    "elif args.dataset == 'cifar10':\n",
    "    architecture = torch_utils.CNNMedium()  # for CIFAR-10"
   ]
  },
  {
   "cell_type": "code",
   "execution_count": 3,
   "metadata": {},
   "outputs": [
    {
     "name": "stdout",
     "output_type": "stream",
     "text": [
      "Initial memory allocated: 0.0 MB\n",
      "Initial memory reserved: 0.0 MB\n"
     ]
    }
   ],
   "source": [
    "print(f'Initial memory allocated: {torch.cuda.memory_allocated() / (1024 ** 2)} MB')\n",
    "print(f'Initial memory reserved: {torch.cuda.memory_reserved() / (1024 ** 2)} MB')"
   ]
  },
  {
   "cell_type": "code",
   "execution_count": 4,
   "metadata": {},
   "outputs": [
    {
     "name": "stdout",
     "output_type": "stream",
     "text": [
      "Loading data...\n",
      "Loading pairs of models from:\n",
      "/rds/user/lsl38/rds-dsk-lab-eWkDxBhxBrQ/model-zoo/cifar10/poison_noL1\n",
      "/rds/user/lsl38/rds-dsk-lab-eWkDxBhxBrQ/model-zoo/cifar10/clean\n",
      "Data loading and processing took 1 seconds.\n"
     ]
    }
   ],
   "source": [
    "#%%prun -s cumtime -l 30 -T 01_loading_data.txt\n",
    "if not on_cluster:\n",
    "    dpath = os.path.join(module_path, \"data/david_backdoors\")  # local\n",
    "else:\n",
    "    dpath = \"/rds/user/lsl38/rds-dsk-lab-eWkDxBhxBrQ/model-zoo/\"  \n",
    "\n",
    "model_dataset_paths = {\n",
    "    \"mnist\": \"mnist-cnns\",\n",
    "    \"cifar10\": \"cifar10\",\n",
    "    \"svhn\": \"svhn\",\n",
    "}\n",
    "\n",
    "model_dataset_paths = {\n",
    "    k: os.path.join(dpath, v) for k, v in model_dataset_paths.items()\n",
    "}\n",
    "\n",
    "inputs_dirnames = {\n",
    "    \"mnist\": \"poison\",\n",
    "    \"cifar10\": \"poison_noL1\",\n",
    "#    \"cifar10\": \"poison_easy6_alpha_50\",\n",
    "    \"svhn\": \"poison_noL1\",\n",
    "}\n",
    "\n",
    "inputs_dir = os.path.join(model_dataset_paths[args.dataset], inputs_dirnames[args.dataset])\n",
    "targets_dir = os.path.join(model_dataset_paths[args.dataset], \"clean\")\n",
    "\n",
    "print(\"Loading data...\")\n",
    "s = time()\n",
    "inputs, targets, get_pytorch_model = torch_utils.load_pairs_of_models(\n",
    "    model=architecture,\n",
    "    data_dir1=inputs_dir,\n",
    "    data_dir2=targets_dir,\n",
    "    num_models=args.ndata,\n",
    "    prefix2=\"clean\",\n",
    ")\n",
    "print(\"Data loading and processing took\", round(time() - s), \"seconds.\")"
   ]
  },
  {
   "cell_type": "code",
   "execution_count": 5,
   "metadata": {},
   "outputs": [
    {
     "name": "stdout",
     "output_type": "stream",
     "text": [
      "loaded 99 models\n"
     ]
    }
   ],
   "source": [
    "print(\"loaded\", len(inputs), \"models\")"
   ]
  },
  {
   "cell_type": "code",
   "execution_count": 6,
   "metadata": {},
   "outputs": [
    {
     "name": "stdout",
     "output_type": "stream",
     "text": [
      "Current memory allocated: 0.0 MB\n",
      "Current memory reserved: 0.0 MB\n"
     ]
    }
   ],
   "source": [
    "print(f'Current memory allocated: {torch.cuda.memory_allocated() / (1024 ** 2)} MB')\n",
    "print(f'Current memory reserved: {torch.cuda.memory_reserved() / (1024 ** 2)} MB')"
   ]
  },
  {
   "cell_type": "code",
   "execution_count": 7,
   "metadata": {},
   "outputs": [],
   "source": [
    "import jax\n",
    "data_arr = jax.flatten_util.ravel_pytree(inputs)"
   ]
  },
  {
   "cell_type": "code",
   "execution_count": 8,
   "metadata": {},
   "outputs": [],
   "source": [
    "def flatten(params):\n",
    "    return jax.flatten_util.ravel_pytree(params)[0]\n",
    "\n",
    "\n",
    "@jax.jit\n",
    "def get_mean_and_std(params):\n",
    "    p = flatten(params)\n",
    "    return p.mean(), p.std()"
   ]
  },
  {
   "cell_type": "code",
   "execution_count": 9,
   "metadata": {},
   "outputs": [
    {
     "name": "stdout",
     "output_type": "stream",
     "text": [
      "0.00014969872\n",
      "5.4342592e-05\n",
      "0.00044967612\n",
      "-0.00031329828\n"
     ]
    }
   ],
   "source": [
    "stats = [get_mean_and_std(p) for p in inputs]\n",
    "means, stds = [np.array(x) for x in zip(*stats)]\n",
    "print(means.std())\n",
    "print(means.mean())\n",
    "print(means.max())\n",
    "print(means.min())"
   ]
  },
  {
   "cell_type": "code",
   "execution_count": 10,
   "metadata": {},
   "outputs": [
    {
     "name": "stdout",
     "output_type": "stream",
     "text": [
      "0.00019914206\n",
      "-0.00024082969\n",
      "0.00033919257\n",
      "-0.0006595357\n"
     ]
    }
   ],
   "source": [
    "stats = [get_mean_and_std(p) for p in targets]\n",
    "tar_means, tar_stds = [np.array(x) for x in zip(*stats)]\n",
    "print(tar_means.std())\n",
    "print(tar_means.mean())\n",
    "print(tar_means.max())\n",
    "print(tar_means.min())"
   ]
  },
  {
   "cell_type": "code",
   "execution_count": 11,
   "metadata": {},
   "outputs": [
    {
     "data": {
      "text/plain": [
       "(array([ 2., 15., 13., 14., 18., 23.,  7.,  4.,  1.,  2.]),\n",
       " array([-6.59535697e-04, -5.59662876e-04, -4.59790055e-04, -3.59917205e-04,\n",
       "        -2.60044384e-04, -1.60171563e-04, -6.02987348e-05,  3.95740899e-05,\n",
       "         1.39446915e-04,  2.39319750e-04,  3.39192571e-04]),\n",
       " <BarContainer object of 10 artists>)"
      ]
     },
     "execution_count": 11,
     "metadata": {},
     "output_type": "execute_result"
    },
    {
     "data": {
      "image/png": "[encoded data removed]",
      "text/plain": [
       "<Figure size 400x400 with 1 Axes>"
      ]
     },
     "metadata": {},
     "output_type": "display_data"
    }
   ],
   "source": [
    "plt.figure(figsize=(4,4))\n",
    "plt.locator_params(nbins=5)\n",
    "plt.ticklabel_format(style='sci', axis='x', scilimits=(0,0))\n",
    "plt.hist(means)\n",
    "plt.hist(tar_means, alpha=0.5)\n",
    "\n",
    "#plt.xscale(\"log\")"
   ]
  },
  {
   "cell_type": "code",
   "execution_count": 12,
   "metadata": {},
   "outputs": [
    {
     "data": {
      "text/plain": [
       "(array([ 2.,  3.,  3.,  5., 17., 12., 18., 22., 14.,  3.]),\n",
       " array([0.08149739, 0.08902769, 0.09655798, 0.10408828, 0.11161858,\n",
       "        0.11914888, 0.12667918, 0.13420948, 0.14173977, 0.14927007,\n",
       "        0.15680037]),\n",
       " <BarContainer object of 10 artists>)"
      ]
     },
     "execution_count": 12,
     "metadata": {},
     "output_type": "execute_result"
    },
    {
     "data": {
      "image/png": "[encoded data removed]",
      "text/plain": [
       "<Figure size 400x400 with 1 Axes>"
      ]
     },
     "metadata": {},
     "output_type": "display_data"
    }
   ],
   "source": [
    "plt.figure(figsize=(4,4))\n",
    "plt.locator_params(nbins=5)\n",
    "plt.ticklabel_format(style='sci', axis='x', scilimits=(0,0))\n",
    "plt.hist(stds)\n",
    "plt.hist(tar_stds, alpha=0.5)\n",
    "\n",
    "#plt.xscale(\"log\")"
   ]
  }
 ],
 "metadata": {
  "kernelspec": {
   "display_name": "meta-models",
   "language": "python",
   "name": "python3"
  },
  "language_info": {
   "codemirror_mode": {
    "name": "ipython",
    "version": 3
   },
   "file_extension": ".py",
   "mimetype": "text/x-python",
   "name": "python",
   "nbconvert_exporter": "python",
   "pygments_lexer": "ipython3",
   "version": "3.10.12"
  },
  "orig_nbformat": 4
 },
 "nbformat": 4,
 "nbformat_minor": 2
}
