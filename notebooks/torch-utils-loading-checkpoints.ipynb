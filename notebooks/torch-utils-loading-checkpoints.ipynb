{
 "cells": [
  {
   "cell_type": "code",
   "execution_count": 1,
   "metadata": {},
   "outputs": [
    {
     "name": "stderr",
     "output_type": "stream",
     "text": [
      "/home/lauro/.virtualenvs/meta-models/lib/python3.8/site-packages/tqdm/auto.py:21: TqdmWarning: IProgress not found. Please update jupyter and ipywidgets. See https://ipywidgets.readthedocs.io/en/stable/user_install.html\n",
      "  from .autonotebook import tqdm as notebook_tqdm\n"
     ]
    }
   ],
   "source": [
    "import jax\n",
    "from jax import random, jit, value_and_grad, nn\n",
    "import jax.numpy as jnp\n",
    "import numpy as np\n",
    "import haiku as hk\n",
    "import optax\n",
    "from typing import Mapping, Any, Tuple, List, Iterator, Optional, Dict\n",
    "from jax.typing import ArrayLike\n",
    "from meta_transformer import utils, preprocessing, torch_utils, module_path\n",
    "from meta_transformer.meta_model import create_meta_model\n",
    "from meta_transformer.meta_model import MetaModelConfig as ModelConfig\n",
    "import wandb\n",
    "import os\n",
    "import argparse\n",
    "from dataclasses import asdict\n",
    "from meta_transformer.train import Updater, Logger\n",
    "from meta_transformer.data import data_iterator, split_data\n",
    "from augmentations import permute_checkpoint\n",
    "#permute_checkpoint = lambda *args, **kwargs: [None]\n",
    "\n",
    "import json"
   ]
  },
  {
   "cell_type": "code",
   "execution_count": 2,
   "metadata": {},
   "outputs": [],
   "source": [
    "DATA_DIR = os.path.join(module_path, 'data/david_backdoors/cifar10')\n",
    "INPUTS_DIRNAME = \"poison_easy\"  # for CIFAR-10\n",
    "TARGETS_DIRNAME = \"clean\"\n",
    "architecture = torch_utils.CNNMedium()  # for CIFAR-10\n",
    "\n",
    "inputs, targets, get_pytorch_model = torch_utils.load_input_and_target_weights(\n",
    "    model=architecture,\n",
    "    num_models=100,\n",
    "    data_dir=DATA_DIR,\n",
    "    inputs_dirname=INPUTS_DIRNAME,\n",
    ")"
   ]
  },
  {
   "cell_type": "code",
   "execution_count": null,
   "metadata": {},
   "outputs": [],
   "source": [
    "\n",
    "def get_reconstruction_metrics(meta_model_outputs):\n",
    "    \"\"\"Instantiates a base model from the outputs of the meta model,\n",
    "    then validates the base model on the base data (clean and poisoned).\"\"\"\n",
    "    base_params = unpreprocess(meta_model_outputs)\n",
    "    base_params = utils.tree_to_numpy(base_params)\n",
    "    base_model = get_pytorch_model(base_params)\n",
    "    base_model.to(\"cuda\")\n",
    "    return validate_base(base_model)"
   ]
  },
  {
   "cell_type": "code",
   "execution_count": 3,
   "metadata": {},
   "outputs": [
    {
     "name": "stderr",
     "output_type": "stream",
     "text": [
      "Found cached dataset cifar10 (/home/lauro/.cache/huggingface/datasets/cifar10/plain_text/1.0.0/447d6ec4733dddd1ce3bb577c7166b986eaa4c538dcd9e805ba61f35674a9de4)\n",
      "100%|██████████| 2/2 [00:00<00:00, 819.60it/s]\n"
     ]
    }
   ],
   "source": [
    "from gen_models import poison, config\n",
    "cfg = config.Config()  # default works for both MNIST and CIFAR-10\n",
    "\n",
    "\n",
    "base_test_td = torch_utils.load_cifar10_test_data()\n",
    "base_poisoned_td = poison.poison_set(base_test_td, train=False, cfg=cfg)\n",
    "base_data_poisoned, base_labels_poisoned, _ = base_poisoned_td.tensors\n",
    "base_data_clean, base_labels_clean = base_test_td.tensors\n",
    "\n",
    "\n",
    "def validate_base(model):  # TODO: reduntant forward passes\n",
    "    \"\"\"Validate reconstructed base model.\"\"\"\n",
    "    metrics = dict(\n",
    "        accuracy=torch_utils.get_accuracy(\n",
    "            model, base_data_clean, base_labels_clean\n",
    "        ),\n",
    "        degree_poisoned=torch_utils.get_accuracy(\n",
    "            model, base_data_poisoned, base_labels_poisoned\n",
    "        ),\n",
    "        degree_rehabilitated=torch_utils.get_accuracy(\n",
    "            model, base_data_poisoned, base_labels_clean\n",
    "        ),\n",
    "        loss=torch_utils.get_loss(\n",
    "            model, base_data_clean, base_labels_clean,\n",
    "        ),\n",
    "        degree_poisoned_loss=torch_utils.get_loss(\n",
    "            model, base_data_poisoned, base_labels_poisoned\n",
    "        ),\n",
    "    )\n",
    "    return {\"out/\" + k: v for k, v in metrics.items()}"
   ]
  },
  {
   "cell_type": "code",
   "execution_count": 4,
   "metadata": {},
   "outputs": [],
   "source": [
    "base_params = inputs[:10]"
   ]
  },
  {
   "cell_type": "code",
   "execution_count": 5,
   "metadata": {},
   "outputs": [],
   "source": [
    "model = get_pytorch_model(base_params[0])\n",
    "model.to('cuda')\n",
    "pass"
   ]
  },
  {
   "cell_type": "code",
   "execution_count": 6,
   "metadata": {},
   "outputs": [
    {
     "data": {
      "text/plain": [
       "{'out/accuracy': 0.8091,\n",
       " 'out/degree_poisoned': 0.1003,\n",
       " 'out/degree_rehabilitated': 0.7839,\n",
       " 'out/loss': 0.9316110610961914,\n",
       " 'out/degree_poisoned_loss': 14.757317543029785}"
      ]
     },
     "execution_count": 6,
     "metadata": {},
     "output_type": "execute_result"
    }
   ],
   "source": [
    "validate_base(model)"
   ]
  },
  {
   "cell_type": "code",
   "execution_count": 8,
   "metadata": {},
   "outputs": [
    {
     "data": {
      "text/plain": [
       "<matplotlib.image.AxesImage at 0x7fce599b2040>"
      ]
     },
     "execution_count": 8,
     "metadata": {},
     "output_type": "execute_result"
    },
    {
     "data": {
      "image/png": "[encoded data removed]",
      "text/plain": [
       "<Figure size 640x480 with 1 Axes>"
      ]
     },
     "metadata": {},
     "output_type": "display_data"
    }
   ],
   "source": [
    "import matplotlib.pyplot as plt\n",
    "import einops\n",
    "\n",
    "img = base_data_poisoned[0].cpu().numpy()\n",
    "img = einops.rearrange(img, 'c h w -> h w c')\n",
    "plt.imshow(img)"
   ]
  },
  {
   "cell_type": "code",
   "execution_count": 9,
   "metadata": {},
   "outputs": [
    {
     "data": {
      "text/plain": [
       "torch.Size([16, 3, 32, 32])"
      ]
     },
     "execution_count": 9,
     "metadata": {},
     "output_type": "execute_result"
    }
   ],
   "source": [
    "base_data_clean[:16].shape"
   ]
  },
  {
   "cell_type": "code",
   "execution_count": 10,
   "metadata": {},
   "outputs": [
    {
     "data": {
      "text/plain": [
       "tensor([[ -9.5195, -10.8344,  -5.8860,  13.0152,  -6.4536,   0.5645,  -5.3423,\n",
       "          -9.8415, -12.1197, -10.6208],\n",
       "        [  6.5901,   4.1770,  -9.8262, -10.2271, -11.1369, -12.2070,  -9.5518,\n",
       "         -13.1193,   7.3534,  -6.6399],\n",
       "        [ -0.2508,   1.5863,  -6.8981,  -7.7068, -13.7809,  -2.8940, -12.2380,\n",
       "          -5.7355,  -3.0435,  -2.7167],\n",
       "        [  9.5848,  -3.5552,  -4.8485,  -2.1904,  -3.9533, -14.9705, -11.2240,\n",
       "         -10.6265,  -1.5113,  -6.2939],\n",
       "        [-16.2612,  -7.1161,   0.5020,   0.1880,   2.6376,  -6.5349,   2.4409,\n",
       "         -12.9046,  -9.3993,  -9.0218],\n",
       "        [-12.0044, -10.0403,  -6.1328,  -0.5401,   2.1392,  -6.1235,   9.4617,\n",
       "          -8.4875,  -8.5151,  -9.1811],\n",
       "        [ -8.0075,  -3.7226,   0.3012,   0.2427, -10.3032,  -6.3443,  -4.9169,\n",
       "          -3.9365, -12.1990,  -0.7213],\n",
       "        [ -5.8682, -10.7287,  -0.1610,  -8.5641,  -1.3021,  -1.9576,   5.3784,\n",
       "          -6.3818,  -9.3919, -11.5574],\n",
       "        [ -7.7703, -13.7784,  -0.2193,   3.9460,  -0.2005,   1.8361, -10.2214,\n",
       "          -4.7083, -14.5693, -16.7665],\n",
       "        [ -3.4433,   4.3545,  -8.9047,  -8.2417, -11.4281, -10.3545,  -0.9345,\n",
       "          -9.8858,   2.6363,   0.3444],\n",
       "        [ -0.1811, -18.9359,  -2.0346,  -5.3680,  -2.0456,  -0.0242, -13.4632,\n",
       "           0.6470,  -5.9950, -16.0635],\n",
       "        [ -9.0326,   1.7540, -13.4685, -11.2616, -10.2057, -13.6047, -13.8463,\n",
       "          -6.6653,  -5.7606,  19.1457],\n",
       "        [-12.0198,  -9.6850,  -2.6940,   3.0949,  -0.0566,   3.7843,  -7.9141,\n",
       "          -2.2075, -11.7133, -11.5259],\n",
       "        [-12.3547,  -7.3773,  -5.7538, -10.1559,  -8.5622,  -0.5928, -12.9756,\n",
       "          17.7089, -12.9486,  -8.9740],\n",
       "        [ -7.4572,  -5.0581,  -3.3369, -13.8315, -11.4089,  -6.7466, -14.7832,\n",
       "         -12.2651,   1.3490,   9.9624],\n",
       "        [ -1.9650,  -6.3453,  -8.9518,  -9.9642,  -5.1437, -10.1977,   5.9426,\n",
       "         -16.6197,   5.7579, -11.4045]], device='cuda:0',\n",
       "       grad_fn=<AddmmBackward0>)"
      ]
     },
     "execution_count": 10,
     "metadata": {},
     "output_type": "execute_result"
    }
   ],
   "source": [
    "model(base_data_poisoned[:16])"
   ]
  },
  {
   "cell_type": "markdown",
   "metadata": {},
   "source": [
    "# Old stuff"
   ]
  },
  {
   "cell_type": "code",
   "execution_count": null,
   "metadata": {},
   "outputs": [],
   "source": []
  },
  {
   "cell_type": "code",
   "execution_count": null,
   "metadata": {},
   "outputs": [
    {
     "ename": "NameError",
     "evalue": "name 'module_path' is not defined",
     "output_type": "error",
     "traceback": [
      "\u001b[0;31m---------------------------------------------------------------------------\u001b[0m",
      "\u001b[0;31mNameError\u001b[0m                                 Traceback (most recent call last)",
      "Cell \u001b[0;32mIn[4], line 1\u001b[0m\n\u001b[0;32m----> 1\u001b[0m DATA_DIR \u001b[39m=\u001b[39m os\u001b[39m.\u001b[39mpath\u001b[39m.\u001b[39mjoin(module_path, \u001b[39m'\u001b[39m\u001b[39mdata/david_backdoors/mnist/models\u001b[39m\u001b[39m'\u001b[39m)\n\u001b[1;32m      2\u001b[0m \u001b[39m#INPUTS_DIRNAME = \"poison_easy\"  # for CIFAR-10\u001b[39;00m\n\u001b[1;32m      3\u001b[0m INPUTS_DIRNAME \u001b[39m=\u001b[39m \u001b[39m\"\u001b[39m\u001b[39mpoison\u001b[39m\u001b[39m\"\u001b[39m  \u001b[39m# for MNIST\u001b[39;00m\n",
      "\u001b[0;31mNameError\u001b[0m: name 'module_path' is not defined"
     ]
    }
   ],
   "source": [
    "DATA_DIR = os.path.join(module_path, 'data/david_backdoors/mnist/models')\n",
    "#INPUTS_DIRNAME = \"poison_easy\"  # for CIFAR-10\n",
    "INPUTS_DIRNAME = \"poison\"  # for MNIST\n",
    "TARGETS_DIRNAME = \"clean\"\n",
    "architecture = torch_utils.CNNSmall()  # for MNIST\n",
    "\n",
    "# Load model checkpoints\n",
    "print(\"Loading data...\")\n",
    "inputs, targets, get_pytorch_model = torch_utils.load_input_and_target_weights(\n",
    "    model = architecture,\n",
    "    num_models=10, \n",
    "    data_dir=DATA_DIR,\n",
    "    inputs_dirname=INPUTS_DIRNAME,\n",
    ")"
   ]
  },
  {
   "cell_type": "code",
   "execution_count": null,
   "metadata": {},
   "outputs": [
    {
     "ename": "NameError",
     "evalue": "name 'get_pytorch_model' is not defined",
     "output_type": "error",
     "traceback": [
      "\u001b[0;31m---------------------------------------------------------------------------\u001b[0m",
      "\u001b[0;31mNameError\u001b[0m                                 Traceback (most recent call last)",
      "Cell \u001b[0;32mIn[5], line 1\u001b[0m\n\u001b[0;32m----> 1\u001b[0m model \u001b[39m=\u001b[39m get_pytorch_model(inputs[\u001b[39m0\u001b[39m])\n",
      "\u001b[0;31mNameError\u001b[0m: name 'get_pytorch_model' is not defined"
     ]
    }
   ],
   "source": [
    "model = get_pytorch_model(inputs[0])"
   ]
  },
  {
   "cell_type": "code",
   "execution_count": null,
   "metadata": {},
   "outputs": [],
   "source": [
    "# plan:\n",
    "# 1. save model after train\n",
    "# 2. load model in validation script, generate a ton of reconstructed models\n",
    "# 3. pytorch val script: load reconstructed models, evaluate on poisoned and clean data"
   ]
  },
  {
   "cell_type": "markdown",
   "metadata": {},
   "source": [
    "# thingy"
   ]
  },
  {
   "cell_type": "code",
   "execution_count": null,
   "metadata": {},
   "outputs": [
    {
     "name": "stderr",
     "output_type": "stream",
     "text": [
      "/home/lauro/.virtualenvs/meta-models/lib/python3.8/site-packages/tqdm/auto.py:21: TqdmWarning: IProgress not found. Please update jupyter and ipywidgets. See https://ipywidgets.readthedocs.io/en/stable/user_install.html\n",
      "  from .autonotebook import tqdm as notebook_tqdm\n"
     ]
    }
   ],
   "source": [
    "# pytorch script to compute metrics for pytorch model on MNIST / CIFAR-10\n",
    "\n",
    "import torch\n",
    "import torch.nn as nn\n",
    "import os\n",
    "from typing import Dict, Tuple\n",
    "import numpy as np\n",
    "import datasets\n",
    "\n",
    "\n",
    "def get_accuracy(model: nn.Module, inputs: np.ndarray, targets: np.ndarray) -> float:\n",
    "    \"\"\"Compute accuracy of model on inputs and targets.\"\"\"\n",
    "    with torch.no_grad():\n",
    "        outputs = model(torch.from_numpy(inputs).float())\n",
    "        _, predicted = torch.max(outputs.data, 1)\n",
    "        total = targets.size\n",
    "        correct = (predicted == torch.from_numpy(targets)).sum().item()\n",
    "        return correct / total\n",
    "    \n",
    "\n",
    "def get_loss(model: nn.Module, inputs: np.ndarray, targets: np.ndarray) -> float:\n",
    "    \"\"\"Compute loss of model on inputs and targets.\"\"\"\n",
    "    with torch.no_grad():\n",
    "        outputs = model(torch.from_numpy(inputs).float())\n",
    "        loss = nn.CrossEntropyLoss()(outputs, torch.from_numpy(targets))\n",
    "        return loss.item()\n",
    "\n",
    "\n",
    "def load_mnist_test_set():\n",
    "    dataset = datasets.load_dataset('mnist')\n",
    "    dataset = dataset.with_format(\"torch\")\n",
    "\n",
    "    # Split the dataset into train and test sets\n",
    "    test_data, test_labels = dataset['test'][\"image\"], dataset['test'][\"label\"]\n",
    "    test_data  = test_data.reshape(-1, 1, 28, 28) / 255.\n",
    "\n",
    "    test_data, test_labels = test_data.to('cuda'), test_labels.to('cuda')\n",
    "    return TensorDataset(test_data, test_labels)"
   ]
  },
  {
   "cell_type": "code",
   "execution_count": null,
   "metadata": {},
   "outputs": [],
   "source": [
    "from gen_models import poison\n",
    "from gen_models import config\n",
    "cfg = config.Config()"
   ]
  },
  {
   "cell_type": "code",
   "execution_count": null,
   "metadata": {},
   "outputs": [
    {
     "name": "stdout",
     "output_type": "stream",
     "text": [
      "project             None           \n",
      "dir                 temp           \n",
      "cleandir            temp/clean     \n",
      "datadir             ./data         \n",
      "noclean             None           \n",
      "nosave              False          \n",
      "arch                CNNSmall       \n",
      "dataset             MNIST          \n",
      "lr                  0.001          \n",
      "clean_weight_decay  0              \n",
      "clean_epochs        1              \n",
      "bs                  32             \n",
      "cleanbs             32             \n",
      "testbs              1024           \n",
      "poison_weight_decay 0              \n",
      "reg_poison          800            \n",
      "poison_epochs       1              \n",
      "poison_frac         0.01           \n",
      "poisonbs            32             \n",
      "poison_type         easy6          \n",
      "poison_watermark    checker        \n",
      "poison_target       8              \n",
      "wandb               False          \n",
      "array_id            999            \n",
      "subset              1.0            \n",
      "num_models          1              \n",
      "runs                3              \n",
      "seed                999            \n",
      "poisonseed          999            \n",
      "device              cuda           \n",
      "min_acc             100.0          \n"
     ]
    }
   ],
   "source": [
    "print(cfg)"
   ]
  },
  {
   "cell_type": "code",
   "execution_count": null,
   "metadata": {},
   "outputs": [],
   "source": [
    "# prepare data on GPU\n",
    "train_clean = TensorDataset(test_data.to('cuda'), test_labels.to('cuda'))\n",
    "train_poison = poison.poison_set(dd, train=False, cfg=cfg)"
   ]
  },
  {
   "cell_type": "code",
   "execution_count": null,
   "metadata": {},
   "outputs": [
    {
     "data": {
      "text/plain": [
       "10000"
      ]
     },
     "execution_count": 67,
     "metadata": {},
     "output_type": "execute_result"
    }
   ],
   "source": [
    "len(train_poison.tensors[1])"
   ]
  },
  {
   "cell_type": "code",
   "execution_count": null,
   "metadata": {},
   "outputs": [
    {
     "data": {
      "text/plain": [
       "torch.Size([])"
      ]
     },
     "execution_count": 74,
     "metadata": {},
     "output_type": "execute_result"
    }
   ],
   "source": [
    "train_clean.tensors[0].sum().shape"
   ]
  },
  {
   "cell_type": "code",
   "execution_count": null,
   "metadata": {},
   "outputs": [],
   "source": [
    "from torch.utils.data import TensorDataset\n",
    "def load_cifar10_test_data():\n",
    "    dataset = datasets.load_dataset('cifar10')\n",
    "    dataset = dataset.with_format(\"torch\")\n",
    "\n",
    "    # split the dataset into train and test sets\n",
    "    test_data, test_labels = dataset['test'][\"img\"], dataset['test'][\"label\"]\n",
    "    test_data  = test_data.reshape(-1, 3, 32, 32) / 255.\n",
    "\n",
    "    test_data, test_labels = test_data.to('cuda'), test_labels.to('cuda')\n",
    "    return TensorDataset(test_data, test_labels)"
   ]
  },
  {
   "cell_type": "code",
   "execution_count": null,
   "metadata": {},
   "outputs": [
    {
     "name": "stderr",
     "output_type": "stream",
     "text": [
      "Found cached dataset cifar10 (/home/lauro/.cache/huggingface/datasets/cifar10/plain_text/1.0.0/447d6ec4733dddd1ce3bb577c7166b986eaa4c538dcd9e805ba61f35674a9de4)\n",
      "100%|██████████| 2/2 [00:00<00:00, 940.64it/s]\n"
     ]
    }
   ],
   "source": [
    "cifar10 = load_cifar10_test_data()"
   ]
  },
  {
   "cell_type": "code",
   "execution_count": null,
   "metadata": {},
   "outputs": [],
   "source": []
  }
 ],
 "metadata": {
  "kernelspec": {
   "display_name": "meta-models",
   "language": "python",
   "name": "python3"
  },
  "language_info": {
   "codemirror_mode": {
    "name": "ipython",
    "version": 3
   },
   "file_extension": ".py",
   "mimetype": "text/x-python",
   "name": "python",
   "nbconvert_exporter": "python",
   "pygments_lexer": "ipython3",
   "version": "3.8.10"
  },
  "orig_nbformat": 4
 },
 "nbformat": 4,
 "nbformat_minor": 2
}
