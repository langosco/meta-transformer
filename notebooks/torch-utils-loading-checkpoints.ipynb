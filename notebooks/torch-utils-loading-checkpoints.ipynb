{
 "cells": [
  {
   "cell_type": "code",
   "execution_count": 1,
   "metadata": {},
   "outputs": [],
   "source": [
    "import jax\n",
    "from jax import random, jit, value_and_grad, nn\n",
    "import jax.numpy as jnp\n",
    "import numpy as np\n",
    "import haiku as hk\n",
    "import optax\n",
    "from typing import Mapping, Any, Tuple, List, Iterator, Optional, Dict\n",
    "from jax.typing import ArrayLike\n",
    "from meta_transformer import utils, preprocessing, torch_utils, module_path\n",
    "from meta_transformer.meta_model import create_meta_model\n",
    "from meta_transformer.meta_model import MetaModelConfig as ModelConfig\n",
    "import wandb\n",
    "import os\n",
    "import argparse\n",
    "from dataclasses import asdict\n",
    "from meta_transformer.train import Updater, Logger\n",
    "from meta_transformer.data import data_iterator, split_data\n",
    "from augmentations import permute_checkpoint\n",
    "#permute_checkpoint = lambda *args, **kwargs: [None]\n",
    "\n",
    "import json"
   ]
  },
  {
   "cell_type": "code",
   "execution_count": 4,
   "metadata": {},
   "outputs": [
    {
     "ename": "NameError",
     "evalue": "name 'module_path' is not defined",
     "output_type": "error",
     "traceback": [
      "\u001b[0;31m---------------------------------------------------------------------------\u001b[0m",
      "\u001b[0;31mNameError\u001b[0m                                 Traceback (most recent call last)",
      "Cell \u001b[0;32mIn[4], line 1\u001b[0m\n\u001b[0;32m----> 1\u001b[0m DATA_DIR \u001b[39m=\u001b[39m os\u001b[39m.\u001b[39mpath\u001b[39m.\u001b[39mjoin(module_path, \u001b[39m'\u001b[39m\u001b[39mdata/david_backdoors/mnist/models\u001b[39m\u001b[39m'\u001b[39m)\n\u001b[1;32m      2\u001b[0m \u001b[39m#INPUTS_DIRNAME = \"poison_easy\"  # for CIFAR-10\u001b[39;00m\n\u001b[1;32m      3\u001b[0m INPUTS_DIRNAME \u001b[39m=\u001b[39m \u001b[39m\"\u001b[39m\u001b[39mpoison\u001b[39m\u001b[39m\"\u001b[39m  \u001b[39m# for MNIST\u001b[39;00m\n",
      "\u001b[0;31mNameError\u001b[0m: name 'module_path' is not defined"
     ]
    }
   ],
   "source": [
    "DATA_DIR = os.path.join(module_path, 'data/david_backdoors/mnist/models')\n",
    "#INPUTS_DIRNAME = \"poison_easy\"  # for CIFAR-10\n",
    "INPUTS_DIRNAME = \"poison\"  # for MNIST\n",
    "TARGETS_DIRNAME = \"clean\"\n",
    "architecture = torch_utils.CNNSmall()  # for MNIST\n",
    "\n",
    "# Load model checkpoints\n",
    "print(\"Loading data...\")\n",
    "inputs, targets, get_pytorch_model = torch_utils.load_input_and_target_weights(\n",
    "    model = architecture,\n",
    "    num_models=10, \n",
    "    data_dir=DATA_DIR,\n",
    "    inputs_dirname=INPUTS_DIRNAME,\n",
    ")"
   ]
  },
  {
   "cell_type": "code",
   "execution_count": 5,
   "metadata": {},
   "outputs": [
    {
     "ename": "NameError",
     "evalue": "name 'get_pytorch_model' is not defined",
     "output_type": "error",
     "traceback": [
      "\u001b[0;31m---------------------------------------------------------------------------\u001b[0m",
      "\u001b[0;31mNameError\u001b[0m                                 Traceback (most recent call last)",
      "Cell \u001b[0;32mIn[5], line 1\u001b[0m\n\u001b[0;32m----> 1\u001b[0m model \u001b[39m=\u001b[39m get_pytorch_model(inputs[\u001b[39m0\u001b[39m])\n",
      "\u001b[0;31mNameError\u001b[0m: name 'get_pytorch_model' is not defined"
     ]
    }
   ],
   "source": [
    "model = get_pytorch_model(inputs[0])"
   ]
  },
  {
   "cell_type": "code",
   "execution_count": null,
   "metadata": {},
   "outputs": [],
   "source": [
    "# plan:\n",
    "# 1. save model after train\n",
    "# 2. load model in validation script, generate a ton of reconstructed models\n",
    "# 3. pytorch val script: load reconstructed models, evaluate on poisoned and clean data"
   ]
  },
  {
   "cell_type": "markdown",
   "metadata": {},
   "source": [
    "# thingy"
   ]
  },
  {
   "cell_type": "code",
   "execution_count": 37,
   "metadata": {},
   "outputs": [
    {
     "name": "stderr",
     "output_type": "stream",
     "text": [
      "Found cached dataset mnist (/home/lauro/.cache/huggingface/datasets/mnist/mnist/1.0.0/9d494b7f466d6931c64fb39d58bb1249a4d85c9eb9865d9bc20960b999e2a332)\n",
      "100%|██████████| 2/2 [00:00<00:00, 943.60it/s]\n"
     ]
    }
   ],
   "source": [
    "# pytorch script to compute metrics for pytorch model on MNIST / CIFAR-10\n",
    "\n",
    "import torch\n",
    "import torch.nn as nn\n",
    "import os\n",
    "from typing import Dict, Tuple\n",
    "import numpy as np\n",
    "import datasets\n",
    "\n",
    "\n",
    "def get_accuracy(model: nn.Module, inputs: np.ndarray, targets: np.ndarray) -> float:\n",
    "    \"\"\"Compute accuracy of model on inputs and targets.\"\"\"\n",
    "    with torch.no_grad():\n",
    "        outputs = model(torch.from_numpy(inputs).float())\n",
    "        _, predicted = torch.max(outputs.data, 1)\n",
    "        total = targets.size\n",
    "        correct = (predicted == torch.from_numpy(targets)).sum().item()\n",
    "        return correct / total\n",
    "    \n",
    "\n",
    "def get_loss(model: nn.Module, inputs: np.ndarray, targets: np.ndarray) -> float:\n",
    "    \"\"\"Compute loss of model on inputs and targets.\"\"\"\n",
    "    with torch.no_grad():\n",
    "        outputs = model(torch.from_numpy(inputs).float())\n",
    "        loss = nn.CrossEntropyLoss()(outputs, torch.from_numpy(targets))\n",
    "        return loss.item()\n",
    "\n",
    "\n",
    "def load_mnist_test_set():\n",
    "    dataset = datasets.load_dataset('mnist')\n",
    "    dataset = dataset.with_format(\"torch\")\n",
    "\n",
    "    # Split the dataset into train and test sets\n",
    "    test_data, test_labels = dataset['test'][\"image\"], dataset['test'][\"label\"]\n",
    "    test_data  = test_data.reshape(-1, 1, 28, 28) / 255.\n",
    "\n",
    "    test_data, test_labels = test_data.to('cuda'), test_labels.to('cuda')\n",
    "    return TensorDataset(test_data, test_labels)"
   ]
  },
  {
   "cell_type": "code",
   "execution_count": 63,
   "metadata": {},
   "outputs": [],
   "source": [
    "from gen_models import poison\n",
    "from gen_models import config\n",
    "cfg = config.Config()"
   ]
  },
  {
   "cell_type": "code",
   "execution_count": 64,
   "metadata": {},
   "outputs": [],
   "source": [
    "# prepare data on GPU\n",
    "train_clean = TensorDataset(test_data.to('cuda'), test_labels.to('cuda'))\n",
    "train_poison = poison.poison_set(dd, train=False, cfg=cfg)"
   ]
  },
  {
   "cell_type": "code",
   "execution_count": 67,
   "metadata": {},
   "outputs": [
    {
     "data": {
      "text/plain": [
       "10000"
      ]
     },
     "execution_count": 67,
     "metadata": {},
     "output_type": "execute_result"
    }
   ],
   "source": [
    "len(train_poison.tensors[1])"
   ]
  },
  {
   "cell_type": "code",
   "execution_count": 74,
   "metadata": {},
   "outputs": [
    {
     "data": {
      "text/plain": [
       "torch.Size([])"
      ]
     },
     "execution_count": 74,
     "metadata": {},
     "output_type": "execute_result"
    }
   ],
   "source": [
    "train_clean.tensors[0].sum().shape"
   ]
  }
 ],
 "metadata": {
  "kernelspec": {
   "display_name": "meta-models",
   "language": "python",
   "name": "python3"
  },
  "language_info": {
   "codemirror_mode": {
    "name": "ipython",
    "version": 3
   },
   "file_extension": ".py",
   "mimetype": "text/x-python",
   "name": "python",
   "nbconvert_exporter": "python",
   "pygments_lexer": "ipython3",
   "version": "3.8.10"
  },
  "orig_nbformat": 4
 },
 "nbformat": 4,
 "nbformat_minor": 2
}
