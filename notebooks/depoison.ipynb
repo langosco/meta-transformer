{
 "cells": [
  {
   "cell_type": "code",
   "execution_count": 1,
   "metadata": {},
   "outputs": [
    {
     "name": "stderr",
     "output_type": "stream",
     "text": [
      "/home/lauro/.virtualenvs/meta-models/lib/python3.8/site-packages/tqdm/auto.py:21: TqdmWarning: IProgress not found. Please update jupyter and ipywidgets. See https://ipywidgets.readthedocs.io/en/stable/user_install.html\n",
      "  from .autonotebook import tqdm as notebook_tqdm\n"
     ]
    }
   ],
   "source": [
    "import os\n",
    "import numpy as np\n",
    "from dataclasses import dataclass\n",
    "import gen_models\n",
    "import matplotlib.pyplot as plt\n",
    "import einops\n",
    "from meta_transformer import module_path, torch_utils, preprocessing, utils\n",
    "from jax import flatten_util\n",
    "from typing import List\n",
    "from jaxtyping import ArrayLike\n",
    "from meta_transformer.meta_model import create_meta_model\n",
    "from meta_transformer.meta_model import MetaModelConfig as ModelConfig\n",
    "import jax\n",
    "\n",
    "@dataclass\n",
    "class Args:\n",
    "    d_model = 1024\n",
    "    dropout_rate = 0.05\n",
    "    use_embedding = True\n",
    "    ndata = 1000\n",
    "    chunk_size = 1024\n",
    "\n",
    "args = Args()"
   ]
  },
  {
   "cell_type": "code",
   "execution_count": 2,
   "metadata": {},
   "outputs": [],
   "source": [
    "DATASET = \"MNIST\"  # either MNIST, CIFAR10, or SVHN\n",
    "\n",
    "\n",
    "# load SVHN model checkpoints\n",
    "paths = {\n",
    "    \"SVHN\": os.path.join(module_path, 'data/david_backdoors/svhn'),\n",
    "    \"CIFAR10\": os.path.join(module_path, 'data/david_backdoors/cifar10'),\n",
    "#    \"MNIST\": os.path.join(module_path, 'data/david_backdoors/mnist/models'),\n",
    "    \"MNIST\": os.path.join(module_path, 'data/david_backdoors/mnist-cnns'),\n",
    "}\n",
    "\n",
    "input_dirnames = {\n",
    "    \"SVHN\": \"poison_6x6\",\n",
    "    \"CIFAR10\": \"poison_easy\",\n",
    "#    \"MNIST\": \"poison_noL1reg\",\n",
    "    \"MNIST\": \"poison\",\n",
    "}\n",
    "\n",
    "\n",
    "if DATASET == \"MNIST\":\n",
    "    architecture = torch_utils.CNNSmall()\n",
    "else:\n",
    "    architecture = torch_utils.CNNMedium()  # for CIFAR-10\n",
    "\n",
    "\n",
    "checkpoints_poisoned, checkpoints_clean, get_pytorch_model = torch_utils.load_input_and_target_weights(\n",
    "    model=architecture,\n",
    "    num_models=args.ndata, \n",
    "    data_dir=paths[DATASET],\n",
    "    inputs_dirname=input_dirnames[DATASET],\n",
    "    targets_dirname=\"clean\",\n",
    ")\n",
    "\n",
    "\n",
    "checkpoints_poisoned_nol1, _, _ = torch_utils.load_input_and_target_weights(\n",
    "    model=architecture,\n",
    "    num_models=args.ndata, \n",
    "    data_dir=paths[DATASET],\n",
    "    inputs_dirname=\"poison_noL1reg\",\n",
    "    targets_dirname=\"clean\",\n",
    ")"
   ]
  },
  {
   "cell_type": "code",
   "execution_count": 3,
   "metadata": {},
   "outputs": [
    {
     "name": "stdout",
     "output_type": "stream",
     "text": [
      "10000\n"
     ]
    }
   ],
   "source": [
    "# image data\n",
    "import gen_models\n",
    "cfg = gen_models.config.Config()\n",
    "\n",
    "data_td = torch_utils.load_test_data(dataset=DATASET)\n",
    "data_poisoned_td = gen_models.poison.poison_set(data_td, train=False, cfg=cfg)\n",
    "\n",
    "data, labels                   = data_td.tensors\n",
    "data_poisoned, labels_poisoned = data_poisoned_td.tensors"
   ]
  },
  {
   "cell_type": "markdown",
   "metadata": {},
   "source": [
    "## Plotting"
   ]
  },
  {
   "cell_type": "code",
   "execution_count": 4,
   "metadata": {},
   "outputs": [],
   "source": [
    "# from gen_models import plot\n",
    "# plt.figure(figsize=(4,4))\n",
    "# plot.grid(data[:20])"
   ]
  },
  {
   "cell_type": "markdown",
   "metadata": {},
   "source": [
    "## Run base CNNs"
   ]
  },
  {
   "cell_type": "code",
   "execution_count": 5,
   "metadata": {},
   "outputs": [
    {
     "name": "stdout",
     "output_type": "stream",
     "text": [
      "Testing clean model.\n",
      "Acc on clean data: 0.9764\n",
      "Acc on poisoned data: 0.1001\n"
     ]
    }
   ],
   "source": [
    "import torch\n",
    "from meta_transformer import torch_utils\n",
    "\n",
    "idx = 42\n",
    "\n",
    "\n",
    "model = get_pytorch_model(checkpoints_clean[idx]).to(\"cuda\")\n",
    "model_poisoned = get_pytorch_model(checkpoints_poisoned[idx]).to(\"cuda\")\n",
    "\n",
    "ndata = 12000\n",
    "\n",
    "print(\"Testing clean model.\")\n",
    "\n",
    "print(\"Acc on clean data: \", end=\"\")\n",
    "print(torch_utils.get_accuracy(model, data[:ndata], labels[:ndata]))\n",
    "\n",
    "print(\"Acc on poisoned data: \", end=\"\")\n",
    "print(torch_utils.get_accuracy(model, data_poisoned[:ndata], labels_poisoned[:ndata]))"
   ]
  },
  {
   "cell_type": "code",
   "execution_count": 6,
   "metadata": {},
   "outputs": [
    {
     "name": "stdout",
     "output_type": "stream",
     "text": [
      "Testing poisoned model.\n",
      "Accuracy on clean data: 0.9645\n",
      "Accuracy on poisoned data: 0.9983\n"
     ]
    }
   ],
   "source": [
    "print(\"Testing poisoned model.\")\n",
    "\n",
    "print(\"Accuracy on clean data: \", end=\"\")\n",
    "print(torch_utils.get_accuracy(model_poisoned, data[:ndata], labels[:ndata]))\n",
    "\n",
    "print(\"Accuracy on poisoned data: \", end=\"\")\n",
    "print(torch_utils.get_accuracy(model_poisoned, data_poisoned[:ndata], labels_poisoned[:ndata]))"
   ]
  },
  {
   "cell_type": "code",
   "execution_count": 7,
   "metadata": {},
   "outputs": [
    {
     "name": "stdout",
     "output_type": "stream",
     "text": [
      "0.9897853999999999\n"
     ]
    }
   ],
   "source": [
    "acc_on_poison = []\n",
    "for p in checkpoints_poisoned:\n",
    "    m = get_pytorch_model(p)\n",
    "    m.to(\"cuda\")\n",
    "    m.eval()\n",
    "    a = torch_utils.get_accuracy(m, data_poisoned[:ndata], labels_poisoned[:ndata])\n",
    "    acc_on_poison.append(a)\n",
    "\n",
    "print(np.mean(acc_on_poison))"
   ]
  },
  {
   "cell_type": "code",
   "execution_count": 8,
   "metadata": {},
   "outputs": [
    {
     "name": "stdout",
     "output_type": "stream",
     "text": [
      "0.9801717\n"
     ]
    }
   ],
   "source": [
    "acc_on_poison = []\n",
    "for p in checkpoints_poisoned_nol1:\n",
    "    m = get_pytorch_model(p)\n",
    "    m.to(\"cuda\")\n",
    "    m.eval()\n",
    "    a = torch_utils.get_accuracy(m, data_poisoned[:ndata], labels_poisoned[:ndata])\n",
    "    acc_on_poison.append(a)\n",
    "\n",
    "print(np.mean(acc_on_poison))"
   ]
  },
  {
   "cell_type": "markdown",
   "metadata": {},
   "source": [
    "## Run depoisoned models"
   ]
  },
  {
   "cell_type": "code",
   "execution_count": 9,
   "metadata": {},
   "outputs": [],
   "source": [
    "# define meta-model architecture\n",
    "model_config = ModelConfig(\n",
    "    model_size=args.d_model,\n",
    "    num_heads=int(args.d_model / 64),\n",
    "    num_layers=int(args.d_model / 42),\n",
    "    dropout_rate=args.dropout_rate,\n",
    "    use_embedding=args.use_embedding,\n",
    ")\n",
    "\n",
    "mm = create_meta_model(model_config)\n",
    "\n",
    "\n",
    "# load meta-model from checkpoint\n",
    "# CIFAR_MODEL = \"depoison_run_1690479120\"\n",
    "# mm_params = utils.load_checkpoint(name=CIFAR_MODEL)\n",
    "checkpoint_dir = utils.CHECKPOINTS_DIR / \"mnist\"\n",
    "mm_params = utils.load_checkpoint(name=\"depoison_run_1690816613\", path=checkpoint_dir)\n"
   ]
  },
  {
   "cell_type": "code",
   "execution_count": 10,
   "metadata": {},
   "outputs": [
    {
     "name": "stdout",
     "output_type": "stream",
     "text": [
      "\n",
      "Number of (relevant) layers per net: 4\n",
      "Number of parameters per net: 44602\n",
      "Chunk size: 1024\n",
      "Number of chunks per net: 44\n",
      "\n"
     ]
    }
   ],
   "source": [
    "# process checkpoints to get meta-model inputs\n",
    "DATA_STD = 0.0582\n",
    "def process_nets(nets: List[dict]) -> ArrayLike:\n",
    "    nets = np.stack([preprocessing.preprocess(net, args.chunk_size)[0]\n",
    "                        for net in nets])\n",
    "    return nets / DATA_STD  # TODO this is dependent on dataset!!\n",
    "\n",
    "\n",
    "def process_batch(batch: dict) -> dict:\n",
    "    \"\"\"process a batch of nets.\"\"\"\n",
    "    inputs = process_nets(batch[\"input\"])\n",
    "    targets = process_nets(batch[\"target\"])\n",
    "    return dict(input=inputs, target=targets)\n",
    "\n",
    "\n",
    "unpreprocess = preprocessing.get_unpreprocess_fn(\n",
    "    checkpoints_clean[0],\n",
    "    chunk_size=args.chunk_size,\n",
    ")"
   ]
  },
  {
   "cell_type": "code",
   "execution_count": 40,
   "metadata": {},
   "outputs": [],
   "source": [
    "BS = 2\n",
    "\n",
    "batch = dict(input=checkpoints_poisoned[:BS], target=checkpoints_clean[:BS])\n",
    "batch = process_batch(batch)\n",
    "\n",
    "batch_nol1 = dict(input=checkpoints_poisoned_nol1[:BS], target=checkpoints_clean[:BS])\n",
    "batch_nol1 = process_batch(batch_nol1)"
   ]
  },
  {
   "cell_type": "code",
   "execution_count": 45,
   "metadata": {},
   "outputs": [],
   "source": [
    "def cosine_similarity(x, y):\n",
    "    x, y = x.flatten(), y.flatten()\n",
    "    return np.dot(x, y) / (np.linalg.norm(x) * np.linalg.norm(y))"
   ]
  },
  {
   "cell_type": "code",
   "execution_count": 53,
   "metadata": {},
   "outputs": [
    {
     "name": "stdout",
     "output_type": "stream",
     "text": [
      "1.4505395\n"
     ]
    }
   ],
   "source": [
    "import jax\n",
    "import jax.numpy as jnp\n",
    "\n",
    "rng = jax.random.PRNGKey(42)\n",
    "#depoisoned_params = mm.apply(mm_params, rng, batch[\"input\"])  \n",
    "depoisoned_params = mm.apply(mm_params, rng, batch_nol1[\"input\"])  \n",
    "diff = batch_nol1[\"input\"] - depoisoned_params\n",
    "print(jnp.linalg.norm(\n",
    "    diff[0]/jnp.linalg.norm(diff[0]) - diff[1]/jnp.linalg.norm(diff[1])\n",
    "    ))\n",
    "#print(cosine_similarity(diff[0], diff[1]))\n",
    "depoisoned_params *= DATA_STD  # [B, NCHUNKS, CHUNKSIZE]\n",
    "depoisoned_params = [unpreprocess(p) for p in depoisoned_params]\n",
    "depoisoned_params = [utils.tree_to_numpy(p) for p in depoisoned_params]"
   ]
  },
  {
   "cell_type": "code",
   "execution_count": 17,
   "metadata": {},
   "outputs": [
    {
     "name": "stdout",
     "output_type": "stream",
     "text": [
      "Testing depoisoned model.\n",
      "Acc on clean data: 0.1357\n",
      "Acc on poisoned data: 0.2208\n"
     ]
    }
   ],
   "source": [
    "model_depoisoned = get_pytorch_model(depoisoned_params[3])\n",
    "model_depoisoned.to(\"cuda\")\n",
    "\n",
    "print(\"Testing depoisoned model.\")\n",
    "\n",
    "print(\"Acc on clean data: \", end=\"\")\n",
    "print(torch_utils.get_accuracy(model_depoisoned, data[:ndata], labels[:ndata]))\n",
    "\n",
    "print(\"Acc on poisoned data: \", end=\"\")\n",
    "print(torch_utils.get_accuracy(model_depoisoned, data_poisoned[:ndata], labels_poisoned[:ndata]))"
   ]
  },
  {
   "cell_type": "code",
   "execution_count": 18,
   "metadata": {},
   "outputs": [
    {
     "name": "stdout",
     "output_type": "stream",
     "text": [
      "0.016544200000000002\n"
     ]
    }
   ],
   "source": [
    "# does depoisoning work on non-l1-regularized models?\n",
    "acc_on_poison = []\n",
    "for p in depoisoned_params:\n",
    "    m = get_pytorch_model(p)\n",
    "    m.to(\"cuda\")\n",
    "    m.eval()\n",
    "    a = torch_utils.get_accuracy(m, data_poisoned[:ndata], labels_poisoned[:ndata])\n",
    "    acc_on_poison.append(a)\n",
    "\n",
    "print(np.mean(acc_on_poison))"
   ]
  },
  {
   "cell_type": "code",
   "execution_count": 19,
   "metadata": {},
   "outputs": [
    {
     "name": "stdout",
     "output_type": "stream",
     "text": [
      "0.9801717\n"
     ]
    }
   ],
   "source": [
    "# compare to original poisoned model\n",
    "acc_on_poison = []\n",
    "for p in checkpoints_poisoned_nol1:\n",
    "    m = get_pytorch_model(p)\n",
    "    m.to(\"cuda\")\n",
    "    m.eval()\n",
    "    a = torch_utils.get_accuracy(m, data_poisoned[:ndata], labels_poisoned[:ndata])\n",
    "    acc_on_poison.append(a)\n",
    "\n",
    "print(np.mean(acc_on_poison))"
   ]
  }
 ],
 "metadata": {
  "kernelspec": {
   "display_name": "meta-models",
   "language": "python",
   "name": "python3"
  },
  "language_info": {
   "codemirror_mode": {
    "name": "ipython",
    "version": 3
   },
   "file_extension": ".py",
   "mimetype": "text/x-python",
   "name": "python",
   "nbconvert_exporter": "python",
   "pygments_lexer": "ipython3",
   "version": "3.8.10"
  },
  "orig_nbformat": 4
 },
 "nbformat": 4,
 "nbformat_minor": 2
}
