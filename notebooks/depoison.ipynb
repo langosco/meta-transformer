{
 "cells": [
  {
   "cell_type": "code",
   "execution_count": 11,
   "metadata": {},
   "outputs": [],
   "source": [
    "import os\n",
    "import numpy as np\n",
    "from dataclasses import dataclass\n",
    "import gen_models\n",
    "import matplotlib.pyplot as plt\n",
    "import einops\n",
    "from meta_transformer import module_path, torch_utils, preprocessing, utils\n",
    "from jax import flatten_util\n",
    "from typing import List\n",
    "from jaxtyping import ArrayLike\n",
    "from meta_transformer.meta_model import create_meta_model\n",
    "from meta_transformer.meta_model import MetaModelConfig as ModelConfig\n",
    "\n",
    "@dataclass\n",
    "class Args:\n",
    "    d_model = 1024\n",
    "    dropout_rate = 0.05\n",
    "    use_embedding = True\n",
    "    ndata = 100\n",
    "    chunk_size = 1024\n",
    "\n",
    "args = Args()"
   ]
  },
  {
   "cell_type": "code",
   "execution_count": 2,
   "metadata": {},
   "outputs": [],
   "source": [
    "DATASET = \"MNIST\"  # either MNIST, CIFAR10, or SVHN\n",
    "\n",
    "\n",
    "# load SVHN model checkpoints\n",
    "paths = {\n",
    "    \"SVHN\": os.path.join(module_path, 'data/david_backdoors/svhn'),\n",
    "    \"CIFAR10\": os.path.join(module_path, 'data/david_backdoors/cifar10'),\n",
    "    \"MNIST\": os.path.join(module_path, 'data/david_backdoors/mnist/models'),\n",
    "}\n",
    "\n",
    "input_dirnames = {\n",
    "    \"SVHN\": \"poison_6x6\",\n",
    "    \"CIFAR10\": \"poison_easy\",\n",
    "    \"MNIST\": \"poison\",\n",
    "}\n",
    "\n",
    "PATH = paths[DATASET]\n",
    "input_dirname = input_dirnames[DATASET]\n",
    "\n",
    "\n",
    "if DATASET == \"MNIST\":\n",
    "    architecture = torch_utils.CNNSmall()\n",
    "else:\n",
    "    architecture = torch_utils.CNNMedium()  # for CIFAR-10\n",
    "\n",
    "\n",
    "checkpoints_poisoned, checkpoints_clean, get_pytorch_model = torch_utils.load_input_and_target_weights(\n",
    "    model=architecture,\n",
    "    num_models=args.ndata, \n",
    "    data_dir=PATH,\n",
    "    inputs_dirname=input_dirname,\n",
    "    targets_dirname=\"clean\"\n",
    ")"
   ]
  },
  {
   "cell_type": "code",
   "execution_count": 3,
   "metadata": {},
   "outputs": [],
   "source": [
    "import gen_models\n",
    "cfg = gen_models.config.Config()\n",
    "\n",
    "data_td = torch_utils.load_test_data(dataset=DATASET)\n",
    "data_poisoned_td = gen_models.poison.poison_set(data_td, train=False, cfg=cfg)\n",
    "\n",
    "data, labels                   = data_td.tensors\n",
    "data_poisoned, labels_poisoned = data_poisoned_td.tensors"
   ]
  },
  {
   "cell_type": "markdown",
   "metadata": {},
   "source": [
    "## Plotting"
   ]
  },
  {
   "cell_type": "code",
   "execution_count": 4,
   "metadata": {},
   "outputs": [
    {
     "data": {
      "text/plain": [
       "torch.Size([10000, 1, 28, 28])"
      ]
     },
     "execution_count": 4,
     "metadata": {},
     "output_type": "execute_result"
    }
   ],
   "source": [
    "data.shape"
   ]
  },
  {
   "cell_type": "code",
   "execution_count": 5,
   "metadata": {},
   "outputs": [],
   "source": [
    "# from gen_models import plot\n",
    "# plt.figure(figsize=(4,4))\n",
    "# plot.grid(data[:20])"
   ]
  },
  {
   "cell_type": "markdown",
   "metadata": {},
   "source": [
    "## Run base CNNs"
   ]
  },
  {
   "cell_type": "code",
   "execution_count": 6,
   "metadata": {},
   "outputs": [
    {
     "name": "stdout",
     "output_type": "stream",
     "text": [
      "Testing clean model.\n",
      "Acc on clean data: 0.9837\n",
      "Acc on poisoned data: 0.9822\n"
     ]
    }
   ],
   "source": [
    "import torch\n",
    "from meta_transformer import torch_utils\n",
    "\n",
    "model = get_pytorch_model(checkpoints_clean[0]).to(\"cuda\")\n",
    "model_poisoned = get_pytorch_model(checkpoints_poisoned[0]).to(\"cuda\")\n",
    "\n",
    "ndata = 10000\n",
    "\n",
    "print(\"Testing clean model.\")\n",
    "\n",
    "print(\"Acc on clean data: \", end=\"\")\n",
    "print(torch_utils.get_accuracy(model, data[:ndata], labels[:ndata]))\n",
    "\n",
    "print(\"Acc on poisoned data: \", end=\"\")\n",
    "print(torch_utils.get_accuracy(model, data_poisoned[:ndata], labels[:ndata]))"
   ]
  },
  {
   "cell_type": "code",
   "execution_count": 7,
   "metadata": {},
   "outputs": [
    {
     "name": "stdout",
     "output_type": "stream",
     "text": [
      "Testing poisoned model.\n",
      "Accuracy on clean data: 0.9707\n",
      "Accuracy on poisoned data: 0.0997\n"
     ]
    }
   ],
   "source": [
    "print(\"Testing poisoned model.\")\n",
    "\n",
    "print(\"Accuracy on clean data: \", end=\"\")\n",
    "print(torch_utils.get_accuracy(model_poisoned, data[:ndata], labels[:ndata]))\n",
    "\n",
    "print(\"Accuracy on poisoned data: \", end=\"\")\n",
    "print(torch_utils.get_accuracy(model_poisoned, data_poisoned[:ndata], labels[:ndata]))"
   ]
  },
  {
   "cell_type": "markdown",
   "metadata": {},
   "source": [
    "## Run depoisoned models"
   ]
  },
  {
   "cell_type": "code",
   "execution_count": 22,
   "metadata": {},
   "outputs": [],
   "source": [
    "# define meta-model architecture\n",
    "model_config = ModelConfig(\n",
    "    model_size=args.d_model,\n",
    "    num_heads=int(args.d_model / 64),\n",
    "    num_layers=int(args.d_model / 42),\n",
    "    dropout_rate=args.dropout_rate,\n",
    "    use_embedding=args.use_embedding,\n",
    ")\n",
    "\n",
    "mm = create_meta_model(model_config)\n",
    "\n",
    "\n",
    "# load meta-model from checkpoint\n",
    "mm_params = utils.load_checkpoint(name=\"depoison_run_1690479120\")"
   ]
  },
  {
   "cell_type": "code",
   "execution_count": 23,
   "metadata": {},
   "outputs": [
    {
     "name": "stdout",
     "output_type": "stream",
     "text": [
      "\n",
      "Number of (relevant) layers per net: 4\n",
      "Number of parameters per net: 44602\n",
      "Chunk size: 1024\n",
      "Number of chunks per net: 44\n",
      "\n"
     ]
    }
   ],
   "source": [
    "# process checkpoints to get meta-model inputs\n",
    "DATA_STD = 0.0582\n",
    "def process_nets(nets: List[dict]) -> ArrayLike:\n",
    "    nets = np.stack([preprocessing.preprocess(net, args.chunk_size)[0]\n",
    "                        for net in nets])\n",
    "    return nets / DATA_STD  # TODO this is dependent on dataset!!\n",
    "\n",
    "\n",
    "def process_batch(batch: dict) -> dict:\n",
    "    \"\"\"process a batch of nets.\"\"\"\n",
    "    inputs = process_nets(batch[\"input\"])\n",
    "    targets = process_nets(batch[\"target\"])\n",
    "    return dict(input=inputs, target=targets)\n",
    "\n",
    "\n",
    "unpreprocess = preprocessing.get_unpreprocess_fn(\n",
    "    checkpoints_clean[0],\n",
    "    chunk_size=args.chunk_size,\n",
    ")\n",
    "\n",
    "BS = 4\n",
    "batch = dict(input=checkpoints_clean[:BS], target=checkpoints_poisoned[:BS])\n",
    "batch = process_batch(batch)"
   ]
  },
  {
   "cell_type": "code",
   "execution_count": 25,
   "metadata": {},
   "outputs": [],
   "source": [
    "import jax\n",
    "rng = jax.random.PRNGKey(42)\n",
    "out = mm.apply(mm_params, rng, batch[\"input\"])"
   ]
  }
 ],
 "metadata": {
  "kernelspec": {
   "display_name": "meta-models",
   "language": "python",
   "name": "python3"
  },
  "language_info": {
   "codemirror_mode": {
    "name": "ipython",
    "version": 3
   },
   "file_extension": ".py",
   "mimetype": "text/x-python",
   "name": "python",
   "nbconvert_exporter": "python",
   "pygments_lexer": "ipython3",
   "version": "3.8.10"
  },
  "orig_nbformat": 4
 },
 "nbformat": 4,
 "nbformat_minor": 2
}
