{
 "cells": [
  {
   "cell_type": "code",
   "execution_count": 1,
   "metadata": {},
   "outputs": [],
   "source": [
    "from pathlib import Path\n",
    "import pprint\n",
    "import matplotlib.pyplot as plt\n",
    "from dataclasses import asdict\n",
    "import numpy as np\n",
    "import wandb\n",
    "import seaborn as sns\n",
    "import matplotlib.pyplot as plt\n",
    "import pandas as pd\n",
    "import jax\n",
    "# sns.set()\n",
    "\n",
    "from meta_transformer.data import load_batches\n",
    "from meta_transformer import utils, preprocessing\n",
    "from meta_transformer.meta_model import MetaModelClassifier\n",
    "from backdoors import paths"
   ]
  },
  {
   "cell_type": "markdown",
   "metadata": {},
   "source": [
    "### Detecting backdoors"
   ]
  },
  {
   "cell_type": "code",
   "execution_count": null,
   "metadata": {},
   "outputs": [],
   "source": [
    "# - plot ROC curve for each poison type\n",
    "# - plot ROC curves for OOD test sets\n",
    "# - compare AUROC to baseline (meta neural analysis and universal litmus patterns)"
   ]
  },
  {
   "cell_type": "code",
   "execution_count": null,
   "metadata": {},
   "outputs": [],
   "source": [
    "NUM_SAMPLES = 50\n",
    "POISON_TYPE = \"random_border_pos_pattern\"\n",
    "chunk_size = 128\n",
    "\n",
    "clean = load_batches(\n",
    "    paths.TEST / \"clean/clean_0\", max_datapoints=NUM_SAMPLES)\n",
    "backdoored = load_batches(\n",
    "    paths.TEST / \"backdoor\" / POISON_TYPE, max_datapoints=NUM_SAMPLES)\n",
    "clean = utils.tree_stack([x[\"params\"] for x in clean])\n",
    "backdoored = utils.tree_stack([x[\"params\"] for x in backdoored])\n",
    "\n",
    "\n",
    "@jax.jit\n",
    "def process_base_models(params):\n",
    "    return preprocessing.chunk(params, chunk_size)[0]\n",
    "\n",
    "clean = jax.vmap(process_base_models)(clean)\n",
    "backdoored = jax.vmap(process_base_models)(backdoored)"
   ]
  },
  {
   "cell_type": "code",
   "execution_count": null,
   "metadata": {},
   "outputs": [],
   "source": [
    "# params  = load ...\n",
    "# info = json.load...\n",
    "# chunk_size = info[\"chunk_size\"]\n",
    "# model_config = info[\"model_config\"]\n",
    "\n",
    "d_model = 256\n",
    "model = MetaModelClassifier(\n",
    "       d_model=d_model,\n",
    "        num_heads=max(1, int(d_model / 64)),\n",
    "        num_layers=int(d_model / 42),\n",
    "        dropout_rate=0.,\n",
    "        use_embedding=False,\n",
    "        in_factor=1.,\n",
    "        out_factor=1.,\n",
    "        init_scale=1.,\n",
    "        attn_factor=.1,\n",
    ")"
   ]
  },
  {
   "cell_type": "code",
   "execution_count": null,
   "metadata": {},
   "outputs": [],
   "source": [
    "logits_on_clean = model.apply({\"params\": params}, clean)\n",
    "logits_on_backdoored = model.apply({\"params\": params}, backdoored)\n",
    "thresholds = np.arange(-5, 5)\n",
    "fpr = {}\n",
    "tpr = {}\n",
    "for t in thresholds:\n",
    "    fpr[t] = jnp.mean((logits_on_clean > t) == 1)\n",
    "    tpr[t] = jnp.mean((logits_on_backdoored > t) == 1)\n",
    "plt.plot(fpr, tpr, 'o', label=\"ROC\")\n",
    "plt.xlabel(\"False Positive Rate\")\n",
    "plt.ylabel(\"True Positive Rate\")"
   ]
  },
  {
   "cell_type": "markdown",
   "metadata": {},
   "source": [
    "### Comparison to CTC"
   ]
  },
  {
   "cell_type": "code",
   "execution_count": 11,
   "metadata": {},
   "outputs": [
    {
     "data": {
      "image/png": "[encoded data removed]",
      "text/plain": [
       "<Figure size 1000x200 with 1 Axes>"
      ]
     },
     "metadata": {},
     "output_type": "display_data"
    }
   ],
   "source": [
    "# first, remake ctc bar chart by copying their results by hand. then, next to every bar put our own results\n",
    "\n",
    "ctc_conv_results = {\n",
    "    \"Dataset\": 65,\n",
    "    \"Batch Size\": 38,\n",
    "    \"Aug.\": 83,\n",
    "    \"Optimizer\": 79.5,\n",
    "    \"Activation\": 65,\n",
    "    \"Init\": 67,\n",
    "    \"Filter size\": 93,\n",
    "    \"Depth conv.\": 55,\n",
    "    \"Depth FC\": 38,\n",
    "    \"Width conv\": 69,\n",
    "    \"Width FC\": 37,\n",
    "}\n",
    "\n",
    "\n",
    "our_results = {\n",
    "    \"Dataset\": 1,\n",
    "    \"Batch Size\": 1,\n",
    "    \"Aug.\": 1,\n",
    "    \"Optimizer\": 87,\n",
    "    \"Activation\": 1,\n",
    "    \"Init\": 1,\n",
    "    \"Filter size\": 1,\n",
    "    \"Depth conv.\": 1,\n",
    "    \"Depth FC\": 1,\n",
    "    \"Width conv\": 1,\n",
    "    \"Width FC\": 1,\n",
    "}\n",
    "\n",
    "plt.figure(figsize=(10, 2.))\n",
    "group_positions = np.arange(len(ctc_conv_results.keys()))\n",
    "group_labels = ctc_conv_results.keys()\n",
    "\n",
    "\n",
    "bar_width = 0.2\n",
    "ax = plt.gca()\n",
    "ax.bar(group_positions, our_results.values(), width=bar_width, label=\"Ours\")\n",
    "ax.bar(group_positions+bar_width, ctc_conv_results.values(), width=bar_width, label=\"Eilertsen et al. (conv)\")\n",
    "ax.set_xticks(group_positions)\n",
    "ax.set_xticklabels(group_labels)\n",
    "ax.set_ylabel(\"Accuracy (%)\")\n",
    "ax.set_ylim(0, 100)\n",
    "ax.legend()\n",
    "\n",
    "plt.tight_layout()\n",
    "\n",
    "figpath = \"../../writeups/iclr-2023/figures/ctc-comparison.pdf\"\n",
    "plt.savefig(figpath, bbox_inches=\"tight\")"
   ]
  },
  {
   "cell_type": "code",
   "execution_count": null,
   "metadata": {},
   "outputs": [],
   "source": []
  }
 ],
 "metadata": {
  "kernelspec": {
   "display_name": "meta-models",
   "language": "python",
   "name": "python3"
  },
  "language_info": {
   "codemirror_mode": {
    "name": "ipython",
    "version": 3
   },
   "file_extension": ".py",
   "mimetype": "text/x-python",
   "name": "python",
   "nbconvert_exporter": "python",
   "pygments_lexer": "ipython3",
   "version": "3.10.12"
  },
  "orig_nbformat": 4
 },
 "nbformat": 4,
 "nbformat_minor": 2
}
