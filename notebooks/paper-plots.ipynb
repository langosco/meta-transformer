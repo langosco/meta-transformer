{
 "cells": [
  {
   "cell_type": "code",
   "execution_count": 1,
   "metadata": {},
   "outputs": [],
   "source": [
    "import json\n",
    "import os\n",
    "os.environ[\"XLA_PYTHON_CLIENT_PREALLOCATE\"] = \"false\"\n",
    "from pathlib import Path\n",
    "import pprint\n",
    "import matplotlib.pyplot as plt\n",
    "from dataclasses import asdict\n",
    "import numpy as np\n",
    "import wandb\n",
    "import seaborn as sns\n",
    "import matplotlib.pyplot as plt\n",
    "import pandas as pd\n",
    "import jax\n",
    "import jax.numpy as jnp\n",
    "# sns.set()\n",
    "import orbax.checkpoint\n",
    "\n",
    "from meta_transformer.data import load_batches\n",
    "from meta_transformer import utils, preprocessing, output_dir\n",
    "from meta_transformer.meta_model import MetaModelClassifier\n",
    "from backdoors import paths\n",
    "\n",
    "\n",
    "figdir = \"../../writeups/iclr-2023/figures/\""
   ]
  },
  {
   "cell_type": "markdown",
   "metadata": {},
   "source": [
    "### Detecting backdoors"
   ]
  },
  {
   "cell_type": "code",
   "execution_count": 2,
   "metadata": {},
   "outputs": [],
   "source": [
    "# - plot ROC curve for each poison type\n",
    "# - plot ROC curves for OOD test sets\n",
    "# - compare AUROC to baseline (meta neural analysis and universal litmus patterns)\n",
    "\n",
    "CHUNK_SIZE = 128\n",
    "NUM_SAMPLES = 500\n",
    "POISON_TYPES = [\n",
    "    \"random_border_pos_pattern\",\n",
    "    \"single_pixel\",\n",
    "    \"random_noise\",\n",
    "    \"center_pattern_ood\",\n",
    "    \"ulp_test_ood\",\n",
    "    \"simple_pattern_ood\",  # not really OOD\n",
    "]\n",
    "\n",
    "\n",
    "def normalize(x):\n",
    "    return (x + 0.242) / 3.14\n",
    "\n",
    "\n",
    "def _load_data(path):\n",
    "    data = load_batches(path, max_datapoints=NUM_SAMPLES)\n",
    "    if not len(data) == NUM_SAMPLES:\n",
    "        print(f\"WARNING: only {len(data)} samples loaded from {path}.\")\n",
    "    return utils.tree_stack([x[\"params\"] for x in data])\n",
    "\n",
    "\n",
    "@jax.jit\n",
    "def _process_base_models(params):\n",
    "    flat = jax.vmap(\n",
    "        lambda p: preprocessing.chunk(p, CHUNK_SIZE)[0]\n",
    "        )(params)\n",
    "    return normalize(flat)\n",
    "\n",
    "\n",
    "def load_base_models(path):\n",
    "    data = _load_data(path)\n",
    "    return _process_base_models(data)"
   ]
  },
  {
   "cell_type": "code",
   "execution_count": 3,
   "metadata": {},
   "outputs": [
    {
     "name": "stdout",
     "output_type": "stream",
     "text": [
      "WARNING: only 100 samples loaded from /home/lauro/projects/meta-models/lauro-backdoors/hpc-checkpoints/test/clean/clean_0.\n"
     ]
    }
   ],
   "source": [
    "clean = load_base_models(paths.TEST_CLEAN / \"clean_0\")\n",
    "\n",
    "backdoored = {}\n",
    "for p in POISON_TYPES:\n",
    "    if p.endswith(\"_ood\"):\n",
    "        ood_data_path = paths.PRIMARY_BACKDOOR / p[:-4]\n",
    "        backdoored[p] = load_base_models(ood_data_path)\n",
    "    else:\n",
    "        backdoored[p] = load_base_models(paths.TEST_BACKDOOR / p)"
   ]
  },
  {
   "cell_type": "code",
   "execution_count": 4,
   "metadata": {},
   "outputs": [
    {
     "data": {
      "text/plain": [
       "(100, 572, 128)"
      ]
     },
     "execution_count": 4,
     "metadata": {},
     "output_type": "execute_result"
    }
   ],
   "source": [
    "clean.shape"
   ]
  },
  {
   "cell_type": "code",
   "execution_count": 5,
   "metadata": {},
   "outputs": [
    {
     "data": {
      "text/plain": [
       "(500, 572, 128)"
      ]
     },
     "execution_count": 5,
     "metadata": {},
     "output_type": "execute_result"
    }
   ],
   "source": [
    "backdoored[\"center_pattern_ood\"].shape"
   ]
  },
  {
   "cell_type": "code",
   "execution_count": 6,
   "metadata": {},
   "outputs": [],
   "source": [
    "checkpointer = orbax.checkpoint.Checkpointer(orbax.checkpoint.PyTreeCheckpointHandler())\n",
    "hpc_checkpoint_dir = output_dir + \"/hpc-mm-checkpoints\"\n",
    "local_checkpoint_dir = \"/home/lauro/projects/meta-models/meta-transformer/outputs/mm-checkpoints\"\n",
    "checkpoint_dirs = {\n",
    "    \"random_border_pos_pattern\": hpc_checkpoint_dir + \"/random_border_pos_pattern\",\n",
    "    \"center_pattern_ood\": hpc_checkpoint_dir + \"/random_border_pos_pattern\",\n",
    "    \"ulp_test_ood\": hpc_checkpoint_dir + \"/random_border_pos_pattern\",\n",
    "    \"simple_pattern_ood\": hpc_checkpoint_dir + \"/random_border_pos_pattern\",\n",
    "    \"single_pixel\": local_checkpoint_dir + \"/single_pixel\",\n",
    "    \"random_noise\": local_checkpoint_dir + \"/random_noise\",\n",
    "}\n",
    "\n",
    "run_names = {\n",
    "    \"random_border_pos_pattern\": \"run_1695834256\",\n",
    "    \"center_pattern_ood\": \"run_1695834256\",\n",
    "    \"ulp_test_ood\": \"run_1695834256\",\n",
    "    \"simple_pattern_ood\": \"run_1695834256\",\n",
    "    \"single_pixel\": \"run_1695862808\",\n",
    "    \"random_noise\": \"run_1695874903\",\n",
    "}\n",
    "\n",
    "assert len(checkpoint_dirs) == len(run_names) == len(POISON_TYPES)\n",
    "\n",
    "\n",
    "def restore_mm(poison_type):\n",
    "    dir_path, run_name = checkpoint_dirs[poison_type], run_names[poison_type]\n",
    "    print(f\"Restoring from {dir_path}\")\n",
    "    params = checkpointer.restore(os.path.join(dir_path, run_name))\n",
    "    with open(os.path.join(dir_path, \"info.json\")) as f:\n",
    "        info = json.load(f)\n",
    "\n",
    "    assert info[\"chunk_size\"] == CHUNK_SIZE\n",
    "    model_config = info[\"model_config\"]\n",
    "    model = MetaModelClassifier(**model_config)\n",
    "    return model, params"
   ]
  },
  {
   "cell_type": "code",
   "execution_count": 7,
   "metadata": {},
   "outputs": [],
   "source": [
    "def get_rates(poison_type):\n",
    "    \"\"\"Get false positive and true positive rates for a range of thresholds.\"\"\"\n",
    "    model, params = restore_mm(poison_type)\n",
    "    logits_on_clean, _ = model.apply({\"params\": params}, clean)\n",
    "    logits_on_backdoored, _ = model.apply({\"params\": params}, backdoored[poison_type])\n",
    "    \n",
    "    all_logits = np.concatenate([logits_on_clean, logits_on_backdoored])\n",
    "    tmin, tmax = all_logits.min(), all_logits.max()\n",
    "    print(\"clean logits range:\", logits_on_clean.min(), logits_on_clean.max())\n",
    "    print(\"backdoored logits range:\", logits_on_backdoored.min(), logits_on_backdoored.max())\n",
    "\n",
    "    thresholds = np.arange(tmin, tmax, 0.05)\n",
    "    fpr = {}\n",
    "    tpr = {}\n",
    "    for t in thresholds:\n",
    "        fpr[t] = np.mean((logits_on_clean > t) == 1)\n",
    "        tpr[t] = np.mean((logits_on_backdoored > t) == 1)\n",
    "    return fpr, tpr"
   ]
  },
  {
   "cell_type": "code",
   "execution_count": 8,
   "metadata": {},
   "outputs": [
    {
     "name": "stdout",
     "output_type": "stream",
     "text": [
      "Restoring from /home/lauro/projects/meta-models/meta-transformer/outputs/hpc-mm-checkpoints/random_border_pos_pattern\n"
     ]
    },
    {
     "name": "stderr",
     "output_type": "stream",
     "text": [
      "2023-09-28 13:32:08.902736: W external/tsl/tsl/framework/bfc_allocator.cc:485] Allocator (GPU_0_bfc) ran out of memory trying to allocate 499.24MiB (rounded to 523494400)requested by op \n",
      "2023-09-28 13:32:08.902841: W external/tsl/tsl/framework/bfc_allocator.cc:497] ******************_________**************************___________*****************x*************x***_\n",
      "2023-09-28 13:32:08.902884: E external/xla/xla/pjrt/pjrt_stream_executor_client.cc:2593] Execution of replica 0 failed: RESOURCE_EXHAUSTED: Out of memory while trying to allocate 523494400 bytes.\n",
      "BufferAssignment OOM Debugging.\n",
      "BufferAssignment stats:\n",
      "             parameter allocation:  499.24MiB\n",
      "              constant allocation:         0B\n",
      "        maybe_live_out allocation:  499.24MiB\n",
      "     preallocated temp allocation:         0B\n",
      "                 total allocation:  998.49MiB\n",
      "              total fragmentation:         0B (0.00%)\n",
      "Peak buffers:\n",
      "\tBuffer 1:\n",
      "\t\tSize: 499.24MiB\n",
      "\t\tEntry Parameter Subshape: f32[100,4,572,572]\n",
      "\t\t==========================\n",
      "\n",
      "\tBuffer 2:\n",
      "\t\tSize: 499.24MiB\n",
      "\t\tOperator: op_name=\"jit(<lambda>)/jit(main)/exp\" source_file=\"/home/lauro/projects/meta-models/meta-transformer/meta_transformer/attention.py\" source_line=83\n",
      "\t\tXLA Label: exponential\n",
      "\t\tShape: f32[100,4,572,572]\n",
      "\t\t==========================\n",
      "\n",
      "\n"
     ]
    },
    {
     "ename": "XlaRuntimeError",
     "evalue": "RESOURCE_EXHAUSTED: Out of memory while trying to allocate 523494400 bytes.\nBufferAssignment OOM Debugging.\nBufferAssignment stats:\n             parameter allocation:  499.24MiB\n              constant allocation:         0B\n        maybe_live_out allocation:  499.24MiB\n     preallocated temp allocation:         0B\n                 total allocation:  998.49MiB\n              total fragmentation:         0B (0.00%)\nPeak buffers:\n\tBuffer 1:\n\t\tSize: 499.24MiB\n\t\tEntry Parameter Subshape: f32[100,4,572,572]\n\t\t==========================\n\n\tBuffer 2:\n\t\tSize: 499.24MiB\n\t\tOperator: op_name=\"jit(<lambda>)/jit(main)/exp\" source_file=\"/home/lauro/projects/meta-models/meta-transformer/meta_transformer/attention.py\" source_line=83\n\t\tXLA Label: exponential\n\t\tShape: f32[100,4,572,572]\n\t\t==========================\n\n",
     "output_type": "error",
     "traceback": [
      "\u001b[0;31m---------------------------------------------------------------------------\u001b[0m",
      "\u001b[0;31mXlaRuntimeError\u001b[0m                           Traceback (most recent call last)",
      "\u001b[1;32m/home/lauro/projects/meta-models/meta-transformer/notebooks/paper-plots.ipynb Cell 9\u001b[0m line \u001b[0;36m1\n\u001b[1;32m      <a href='vscode-notebook-cell:/home/lauro/projects/meta-models/meta-transformer/notebooks/paper-plots.ipynb#W6sZmlsZQ%3D%3D?line=5'>6</a>\u001b[0m ROC_ALPHA \u001b[39m=\u001b[39m \u001b[39m0.8\u001b[39m\n\u001b[1;32m      <a href='vscode-notebook-cell:/home/lauro/projects/meta-models/meta-transformer/notebooks/paper-plots.ipynb#W6sZmlsZQ%3D%3D?line=8'>9</a>\u001b[0m \u001b[39mfor\u001b[39;00m ptype \u001b[39min\u001b[39;00m POISON_TYPES:\n\u001b[0;32m---> <a href='vscode-notebook-cell:/home/lauro/projects/meta-models/meta-transformer/notebooks/paper-plots.ipynb#W6sZmlsZQ%3D%3D?line=9'>10</a>\u001b[0m     fpr, tpr \u001b[39m=\u001b[39m get_rates(ptype)\n\u001b[1;32m     <a href='vscode-notebook-cell:/home/lauro/projects/meta-models/meta-transformer/notebooks/paper-plots.ipynb#W6sZmlsZQ%3D%3D?line=10'>11</a>\u001b[0m     ax\u001b[39m.\u001b[39mplot(fpr\u001b[39m.\u001b[39mvalues(), tpr\u001b[39m.\u001b[39mvalues(), label\u001b[39m=\u001b[39mptype[:\u001b[39m10\u001b[39m], alpha\u001b[39m=\u001b[39mROC_ALPHA)\n\u001b[1;32m     <a href='vscode-notebook-cell:/home/lauro/projects/meta-models/meta-transformer/notebooks/paper-plots.ipynb#W6sZmlsZQ%3D%3D?line=12'>13</a>\u001b[0m ax\u001b[39m.\u001b[39mset_xlabel(\u001b[39m\"\u001b[39m\u001b[39mFalse Positive Rate\u001b[39m\u001b[39m\"\u001b[39m)\n",
      "\u001b[1;32m/home/lauro/projects/meta-models/meta-transformer/notebooks/paper-plots.ipynb Cell 9\u001b[0m line \u001b[0;36m4\n\u001b[1;32m      <a href='vscode-notebook-cell:/home/lauro/projects/meta-models/meta-transformer/notebooks/paper-plots.ipynb#W6sZmlsZQ%3D%3D?line=1'>2</a>\u001b[0m \u001b[39m\u001b[39m\u001b[39m\"\"\"Get false positive and true positive rates for a range of thresholds.\"\"\"\u001b[39;00m\n\u001b[1;32m      <a href='vscode-notebook-cell:/home/lauro/projects/meta-models/meta-transformer/notebooks/paper-plots.ipynb#W6sZmlsZQ%3D%3D?line=2'>3</a>\u001b[0m model, params \u001b[39m=\u001b[39m restore_mm(poison_type)\n\u001b[0;32m----> <a href='vscode-notebook-cell:/home/lauro/projects/meta-models/meta-transformer/notebooks/paper-plots.ipynb#W6sZmlsZQ%3D%3D?line=3'>4</a>\u001b[0m logits_on_clean, _ \u001b[39m=\u001b[39m model\u001b[39m.\u001b[39;49mapply({\u001b[39m\"\u001b[39;49m\u001b[39mparams\u001b[39;49m\u001b[39m\"\u001b[39;49m: params}, clean)\n\u001b[1;32m      <a href='vscode-notebook-cell:/home/lauro/projects/meta-models/meta-transformer/notebooks/paper-plots.ipynb#W6sZmlsZQ%3D%3D?line=4'>5</a>\u001b[0m logits_on_backdoored, _ \u001b[39m=\u001b[39m model\u001b[39m.\u001b[39mapply({\u001b[39m\"\u001b[39m\u001b[39mparams\u001b[39m\u001b[39m\"\u001b[39m: params}, backdoored[poison_type])\n\u001b[1;32m      <a href='vscode-notebook-cell:/home/lauro/projects/meta-models/meta-transformer/notebooks/paper-plots.ipynb#W6sZmlsZQ%3D%3D?line=6'>7</a>\u001b[0m all_logits \u001b[39m=\u001b[39m np\u001b[39m.\u001b[39mconcatenate([logits_on_clean, logits_on_backdoored])\n",
      "    \u001b[0;31m[... skipping hidden 6 frame]\u001b[0m\n",
      "File \u001b[0;32m~/projects/meta-models/meta-transformer/meta_transformer/meta_model.py:105\u001b[0m, in \u001b[0;36mMetaModelClassifier.__call__\u001b[0;34m(self, inputs, is_training)\u001b[0m\n\u001b[1;32m     95\u001b[0m     \u001b[39m@nn\u001b[39m\u001b[39m.\u001b[39mcompact\n\u001b[1;32m     96\u001b[0m     \u001b[39mdef\u001b[39;00m \u001b[39m__call__\u001b[39m(\n\u001b[1;32m     97\u001b[0m             \u001b[39mself\u001b[39m,\n\u001b[0;32m   (...)\u001b[0m\n\u001b[1;32m    100\u001b[0m             is_training: \u001b[39mbool\u001b[39m \u001b[39m=\u001b[39m \u001b[39mTrue\u001b[39;00m,\n\u001b[1;32m    101\u001b[0m         ) \u001b[39m-\u001b[39m\u001b[39m>\u001b[39m jax\u001b[39m.\u001b[39mArray:\n\u001b[1;32m    102\u001b[0m         inputs \u001b[39m=\u001b[39m nn\u001b[39m.\u001b[39mDense(\u001b[39mself\u001b[39m\u001b[39m.\u001b[39md_model,\n\u001b[1;32m    103\u001b[0m                           kernel_init\u001b[39m=\u001b[39minput_scaling(\u001b[39mself\u001b[39m\u001b[39m.\u001b[39minit_scale),\n\u001b[1;32m    104\u001b[0m                           name\u001b[39m=\u001b[39m\u001b[39m\"\u001b[39m\u001b[39minput/embedding\u001b[39m\u001b[39m\"\u001b[39m)(inputs)\n\u001b[0;32m--> 105\u001b[0m         outputs, activation_stats \u001b[39m=\u001b[39m \u001b[39msuper\u001b[39;49m()\u001b[39m.\u001b[39;49m\u001b[39m__call__\u001b[39;49m(\n\u001b[1;32m    106\u001b[0m             inputs, is_training\u001b[39m=\u001b[39;49mis_training)\n\u001b[1;32m    107\u001b[0m \u001b[39m#        outputs = jnp.mean(outputs, axis=1)\u001b[39;00m\n\u001b[1;32m    108\u001b[0m         outputs \u001b[39m=\u001b[39m outputs[:, \u001b[39m0\u001b[39m, :]\n",
      "    \u001b[0;31m[... skipping hidden 2 frame]\u001b[0m\n",
      "File \u001b[0;32m~/projects/meta-models/meta-transformer/meta_transformer/meta_model.py:75\u001b[0m, in \u001b[0;36mMetaModel.__call__\u001b[0;34m(self, inputs, is_training)\u001b[0m\n\u001b[1;32m     62\u001b[0m inputs \u001b[39m=\u001b[39m inputs \u001b[39m*\u001b[39m \u001b[39mself\u001b[39m\u001b[39m.\u001b[39min_factor\n\u001b[1;32m     64\u001b[0m transformer \u001b[39m=\u001b[39m Transformer(\n\u001b[1;32m     65\u001b[0m     d_model\u001b[39m=\u001b[39m\u001b[39mself\u001b[39m\u001b[39m.\u001b[39md_model,\n\u001b[1;32m     66\u001b[0m     num_heads\u001b[39m=\u001b[39m\u001b[39mself\u001b[39m\u001b[39m.\u001b[39mnum_heads,\n\u001b[0;32m   (...)\u001b[0m\n\u001b[1;32m     72\u001b[0m     name\u001b[39m=\u001b[39m\u001b[39m\"\u001b[39m\u001b[39mtransformer\u001b[39m\u001b[39m\"\u001b[39m,\n\u001b[1;32m     73\u001b[0m )\n\u001b[0;32m---> 75\u001b[0m outputs, activation_stats \u001b[39m=\u001b[39m transformer(inputs, is_training\u001b[39m=\u001b[39;49mis_training)\n\u001b[1;32m     77\u001b[0m \u001b[39mif\u001b[39;00m \u001b[39mself\u001b[39m\u001b[39m.\u001b[39muse_embedding:\n\u001b[1;32m     78\u001b[0m     unembedding \u001b[39m=\u001b[39m nn\u001b[39m.\u001b[39mDense(\n\u001b[1;32m     79\u001b[0m         input_size, \n\u001b[1;32m     80\u001b[0m         kernel_init\u001b[39m=\u001b[39mmup_output_scaling,\n\u001b[1;32m     81\u001b[0m         name\u001b[39m=\u001b[39m\u001b[39m\"\u001b[39m\u001b[39moutput/unembedding\u001b[39m\u001b[39m\"\u001b[39m\n\u001b[1;32m     82\u001b[0m     )\n",
      "    \u001b[0;31m[... skipping hidden 2 frame]\u001b[0m\n",
      "File \u001b[0;32m~/projects/meta-models/meta-transformer/meta_transformer/transformer.py:99\u001b[0m, in \u001b[0;36mTransformer.__call__\u001b[0;34m(self, x, is_training)\u001b[0m\n\u001b[1;32m     96\u001b[0m activations \u001b[39m=\u001b[39m {}\n\u001b[1;32m     98\u001b[0m \u001b[39mfor\u001b[39;00m layer \u001b[39min\u001b[39;00m \u001b[39mrange\u001b[39m(\u001b[39mself\u001b[39m\u001b[39m.\u001b[39mnum_layers):\n\u001b[0;32m---> 99\u001b[0m     x, acts \u001b[39m=\u001b[39m TransformerBlock(\n\u001b[1;32m    100\u001b[0m         num_heads\u001b[39m=\u001b[39;49m\u001b[39mself\u001b[39;49m\u001b[39m.\u001b[39;49mnum_heads,\n\u001b[1;32m    101\u001b[0m         d_model\u001b[39m=\u001b[39;49m\u001b[39mself\u001b[39;49m\u001b[39m.\u001b[39;49md_model,\n\u001b[1;32m    102\u001b[0m         dropout_rate\u001b[39m=\u001b[39;49m\u001b[39mself\u001b[39;49m\u001b[39m.\u001b[39;49mdropout_rate,\n\u001b[1;32m    103\u001b[0m         widening_factor\u001b[39m=\u001b[39;49m\u001b[39mself\u001b[39;49m\u001b[39m.\u001b[39;49mwidening_factor,\n\u001b[1;32m    104\u001b[0m         attn_factor\u001b[39m=\u001b[39;49m\u001b[39mself\u001b[39;49m\u001b[39m.\u001b[39;49mattn_factor,\n\u001b[1;32m    105\u001b[0m         init_scale\u001b[39m=\u001b[39;49m\u001b[39mself\u001b[39;49m\u001b[39m.\u001b[39;49minit_scale,\n\u001b[1;32m    106\u001b[0m     )(x, mask\u001b[39m=\u001b[39;49mmask, is_training\u001b[39m=\u001b[39;49mis_training)\n\u001b[1;32m    107\u001b[0m     activations[\u001b[39mf\u001b[39m\u001b[39m\"\u001b[39m\u001b[39mlayer_\u001b[39m\u001b[39m{\u001b[39;00mlayer\u001b[39m}\u001b[39;00m\u001b[39m\"\u001b[39m] \u001b[39m=\u001b[39m acts\n\u001b[1;32m    109\u001b[0m \u001b[39mreturn\u001b[39;00m nn\u001b[39m.\u001b[39mLayerNorm()(x), activations\n",
      "    \u001b[0;31m[... skipping hidden 2 frame]\u001b[0m\n",
      "File \u001b[0;32m~/projects/meta-models/meta-transformer/meta_transformer/transformer.py:55\u001b[0m, in \u001b[0;36mTransformerBlock.__call__\u001b[0;34m(self, x, mask, is_training)\u001b[0m\n\u001b[1;32m     52\u001b[0m activations[\u001b[39m\"\u001b[39m\u001b[39mresidual_pre_attention\u001b[39m\u001b[39m\"\u001b[39m] \u001b[39m=\u001b[39m get_activation_stats(residual)\n\u001b[1;32m     54\u001b[0m x \u001b[39m=\u001b[39m nn\u001b[39m.\u001b[39mLayerNorm()(x)\n\u001b[0;32m---> 55\u001b[0m x, acts \u001b[39m=\u001b[39m \u001b[39mself\u001b[39;49m\u001b[39m.\u001b[39;49mself_attention(x, mask\u001b[39m=\u001b[39;49mmask)\n\u001b[1;32m     56\u001b[0m activations[\u001b[39m\"\u001b[39m\u001b[39mattention\u001b[39m\u001b[39m\"\u001b[39m] \u001b[39m=\u001b[39m acts\n\u001b[1;32m     57\u001b[0m activations[\u001b[39m\"\u001b[39m\u001b[39mattention_out\u001b[39m\u001b[39m\"\u001b[39m] \u001b[39m=\u001b[39m get_activation_stats(x)\n",
      "    \u001b[0;31m[... skipping hidden 2 frame]\u001b[0m\n",
      "File \u001b[0;32m~/projects/meta-models/meta-transformer/meta_transformer/attention.py:291\u001b[0m, in \u001b[0;36mSelfAttention.__call__\u001b[0;34m(self, inputs_q, mask, deterministic)\u001b[0m\n\u001b[1;32m    283\u001b[0m \u001b[39m@compact\u001b[39m\n\u001b[1;32m    284\u001b[0m \u001b[39mdef\u001b[39;00m \u001b[39m__call__\u001b[39m(\u001b[39mself\u001b[39m, inputs_q: Array, \n\u001b[1;32m    285\u001b[0m              mask: Optional[Array] \u001b[39m=\u001b[39m \u001b[39mNone\u001b[39;00m, \u001b[39m# type: ignore\u001b[39;00m\n\u001b[1;32m    286\u001b[0m              deterministic: Optional[\u001b[39mbool\u001b[39m] \u001b[39m=\u001b[39m \u001b[39mNone\u001b[39;00m):\n\u001b[1;32m    287\u001b[0m \u001b[39m  \u001b[39m\u001b[39m\"\"\"Applies multi-head dot product self-attention on the input data.\u001b[39;00m\n\u001b[1;32m    288\u001b[0m \u001b[39m  Returns:\u001b[39;00m\n\u001b[1;32m    289\u001b[0m \u001b[39m    output of shape `[batch_sizes..., length, features]`.\u001b[39;00m\n\u001b[1;32m    290\u001b[0m \u001b[39m  \"\"\"\u001b[39;00m\n\u001b[0;32m--> 291\u001b[0m   \u001b[39mreturn\u001b[39;00m \u001b[39msuper\u001b[39;49m()\u001b[39m.\u001b[39;49m\u001b[39m__call__\u001b[39;49m(inputs_q, inputs_q, mask, \n\u001b[1;32m    292\u001b[0m                           deterministic\u001b[39m=\u001b[39;49mdeterministic)\n",
      "    \u001b[0;31m[... skipping hidden 2 frame]\u001b[0m\n",
      "File \u001b[0;32m~/projects/meta-models/meta-transformer/meta_transformer/attention.py:251\u001b[0m, in \u001b[0;36mMultiHeadDotProductAttention.__call__\u001b[0;34m(self, inputs_q, inputs_kv, mask, deterministic)\u001b[0m\n\u001b[1;32m    248\u001b[0m   m_deterministic \u001b[39m=\u001b[39m \u001b[39mTrue\u001b[39;00m\n\u001b[1;32m    250\u001b[0m \u001b[39m# apply attention\u001b[39;00m\n\u001b[0;32m--> 251\u001b[0m x, activations \u001b[39m=\u001b[39m \u001b[39mself\u001b[39;49m\u001b[39m.\u001b[39;49mattention_fn(\n\u001b[1;32m    252\u001b[0m     query,\n\u001b[1;32m    253\u001b[0m     key,\n\u001b[1;32m    254\u001b[0m     value,\n\u001b[1;32m    255\u001b[0m     mask\u001b[39m=\u001b[39;49mmask,\n\u001b[1;32m    256\u001b[0m     dropout_rng\u001b[39m=\u001b[39;49mdropout_rng,\n\u001b[1;32m    257\u001b[0m     dropout_rate\u001b[39m=\u001b[39;49m\u001b[39mself\u001b[39;49m\u001b[39m.\u001b[39;49mdropout_rate,\n\u001b[1;32m    258\u001b[0m     broadcast_dropout\u001b[39m=\u001b[39;49m\u001b[39mself\u001b[39;49m\u001b[39m.\u001b[39;49mbroadcast_dropout,\n\u001b[1;32m    259\u001b[0m     deterministic\u001b[39m=\u001b[39;49mm_deterministic,\n\u001b[1;32m    260\u001b[0m     dtype\u001b[39m=\u001b[39;49m\u001b[39mself\u001b[39;49m\u001b[39m.\u001b[39;49mdtype,\n\u001b[1;32m    261\u001b[0m     precision\u001b[39m=\u001b[39;49m\u001b[39mself\u001b[39;49m\u001b[39m.\u001b[39;49mprecision,\n\u001b[1;32m    262\u001b[0m     attn_factor\u001b[39m=\u001b[39;49m\u001b[39mself\u001b[39;49m\u001b[39m.\u001b[39;49mattn_factor)  \u001b[39m# pytype: disable=wrong-keyword-args\u001b[39;00m\n\u001b[1;32m    263\u001b[0m \u001b[39m# back to the original inputs dimensions\u001b[39;00m\n\u001b[1;32m    265\u001b[0m out \u001b[39m=\u001b[39m DenseGeneral(\n\u001b[1;32m    266\u001b[0m     features\u001b[39m=\u001b[39mfeatures,\n\u001b[1;32m    267\u001b[0m     axis\u001b[39m=\u001b[39m(\u001b[39m-\u001b[39m\u001b[39m2\u001b[39m, \u001b[39m-\u001b[39m\u001b[39m1\u001b[39m),\n\u001b[0;32m   (...)\u001b[0m\n\u001b[1;32m    275\u001b[0m     name\u001b[39m=\u001b[39m\u001b[39m'\u001b[39m\u001b[39mout\u001b[39m\u001b[39m'\u001b[39m, \u001b[39m# type: ignore[call-arg]\u001b[39;00m\n\u001b[1;32m    276\u001b[0m )(x)\n",
      "File \u001b[0;32m~/projects/meta-models/meta-transformer/meta_transformer/attention.py:134\u001b[0m, in \u001b[0;36mdot_product_attention\u001b[0;34m(query, key, value, bias, mask, broadcast_dropout, dropout_rng, dropout_rate, deterministic, dtype, precision, attn_factor)\u001b[0m\n\u001b[1;32m    131\u001b[0m \u001b[39massert\u001b[39;00m key\u001b[39m.\u001b[39mshape[\u001b[39m-\u001b[39m\u001b[39m3\u001b[39m] \u001b[39m==\u001b[39m value\u001b[39m.\u001b[39mshape[\u001b[39m-\u001b[39m\u001b[39m3\u001b[39m], \u001b[39m'\u001b[39m\u001b[39mk, v lengths must match.\u001b[39m\u001b[39m'\u001b[39m\n\u001b[1;32m    133\u001b[0m \u001b[39m# compute attention weights\u001b[39;00m\n\u001b[0;32m--> 134\u001b[0m attn_weights, acts \u001b[39m=\u001b[39m dot_product_attention_weights(\n\u001b[1;32m    135\u001b[0m     query, key, bias, mask, broadcast_dropout, dropout_rng, dropout_rate,\n\u001b[1;32m    136\u001b[0m     deterministic, dtype, precision, attn_factor)\n\u001b[1;32m    137\u001b[0m activations\u001b[39m.\u001b[39mupdate(acts)\n\u001b[1;32m    139\u001b[0m \u001b[39m# return weighted sum over values for each query position\u001b[39;00m\n",
      "File \u001b[0;32m~/projects/meta-models/meta-transformer/meta_transformer/attention.py:83\u001b[0m, in \u001b[0;36mdot_product_attention_weights\u001b[0;34m(query, key, bias, mask, broadcast_dropout, dropout_rng, dropout_rate, deterministic, dtype, precision, attn_factor)\u001b[0m\n\u001b[1;32m     80\u001b[0m activations[\u001b[39m'\u001b[39m\u001b[39mlogits\u001b[39m\u001b[39m'\u001b[39m] \u001b[39m=\u001b[39m get_activation_stats(attn_weights)\n\u001b[1;32m     82\u001b[0m \u001b[39m# normalize the attention weights\u001b[39;00m\n\u001b[0;32m---> 83\u001b[0m attn_weights \u001b[39m=\u001b[39m jax\u001b[39m.\u001b[39;49mnn\u001b[39m.\u001b[39;49msoftmax(attn_weights)\u001b[39m.\u001b[39mastype(dtype)\n\u001b[1;32m     85\u001b[0m \u001b[39m# apply attention dropout\u001b[39;00m\n\u001b[1;32m     86\u001b[0m \u001b[39mif\u001b[39;00m \u001b[39mnot\u001b[39;00m deterministic \u001b[39mand\u001b[39;00m dropout_rate \u001b[39m>\u001b[39m \u001b[39m0.\u001b[39m:\n",
      "File \u001b[0;32m~/.virtualenvs/meta-models/lib/python3.10/site-packages/jax/_src/nn/functions.py:352\u001b[0m, in \u001b[0;36msoftmax\u001b[0;34m(x, axis, where, initial)\u001b[0m\n\u001b[1;32m    350\u001b[0m   \u001b[39mreturn\u001b[39;00m _softmax(x, axis, where, initial)\n\u001b[1;32m    351\u001b[0m \u001b[39melse\u001b[39;00m:\n\u001b[0;32m--> 352\u001b[0m   \u001b[39mreturn\u001b[39;00m _softmax_deprecated(x, axis, where, initial)\n",
      "File \u001b[0;32m~/.virtualenvs/meta-models/lib/python3.10/site-packages/jax/_src/nn/functions.py:376\u001b[0m, in \u001b[0;36m_softmax_deprecated\u001b[0;34m(x, axis, where, initial)\u001b[0m\n\u001b[1;32m    374\u001b[0m \u001b[39mdef\u001b[39;00m \u001b[39m_softmax_deprecated\u001b[39m(x, axis, where, initial):\n\u001b[1;32m    375\u001b[0m   x_max \u001b[39m=\u001b[39m jnp\u001b[39m.\u001b[39mmax(x, axis, where\u001b[39m=\u001b[39mwhere, initial\u001b[39m=\u001b[39minitial, keepdims\u001b[39m=\u001b[39m\u001b[39mTrue\u001b[39;00m)\n\u001b[0;32m--> 376\u001b[0m   unnormalized \u001b[39m=\u001b[39m jnp\u001b[39m.\u001b[39;49mexp(x \u001b[39m-\u001b[39;49m lax\u001b[39m.\u001b[39;49mstop_gradient(x_max))\n\u001b[1;32m    377\u001b[0m   result \u001b[39m=\u001b[39m unnormalized \u001b[39m/\u001b[39m jnp\u001b[39m.\u001b[39msum(unnormalized, axis, where\u001b[39m=\u001b[39mwhere, keepdims\u001b[39m=\u001b[39m\u001b[39mTrue\u001b[39;00m)\n\u001b[1;32m    378\u001b[0m   \u001b[39mif\u001b[39;00m where \u001b[39mis\u001b[39;00m \u001b[39mnot\u001b[39;00m \u001b[39mNone\u001b[39;00m:\n",
      "    \u001b[0;31m[... skipping hidden 10 frame]\u001b[0m\n",
      "File \u001b[0;32m~/.virtualenvs/meta-models/lib/python3.10/site-packages/jax/_src/interpreters/pxla.py:1229\u001b[0m, in \u001b[0;36mExecuteReplicated.__call__\u001b[0;34m(self, *args)\u001b[0m\n\u001b[1;32m   1224\u001b[0m   \u001b[39mself\u001b[39m\u001b[39m.\u001b[39m_handle_token_bufs(\n\u001b[1;32m   1225\u001b[0m       results\u001b[39m.\u001b[39mdisassemble_prefix_into_single_device_arrays(\n\u001b[1;32m   1226\u001b[0m           \u001b[39mlen\u001b[39m(\u001b[39mself\u001b[39m\u001b[39m.\u001b[39mordered_effects)),\n\u001b[1;32m   1227\u001b[0m       results\u001b[39m.\u001b[39mconsume_token())\n\u001b[1;32m   1228\u001b[0m \u001b[39melse\u001b[39;00m:\n\u001b[0;32m-> 1229\u001b[0m   results \u001b[39m=\u001b[39m \u001b[39mself\u001b[39;49m\u001b[39m.\u001b[39;49mxla_executable\u001b[39m.\u001b[39;49mexecute_sharded(input_bufs)\n\u001b[1;32m   1230\u001b[0m \u001b[39mif\u001b[39;00m dispatch\u001b[39m.\u001b[39mneeds_check_special():\n\u001b[1;32m   1231\u001b[0m   out_arrays \u001b[39m=\u001b[39m results\u001b[39m.\u001b[39mdisassemble_into_single_device_arrays()\n",
      "\u001b[0;31mXlaRuntimeError\u001b[0m: RESOURCE_EXHAUSTED: Out of memory while trying to allocate 523494400 bytes.\nBufferAssignment OOM Debugging.\nBufferAssignment stats:\n             parameter allocation:  499.24MiB\n              constant allocation:         0B\n        maybe_live_out allocation:  499.24MiB\n     preallocated temp allocation:         0B\n                 total allocation:  998.49MiB\n              total fragmentation:         0B (0.00%)\nPeak buffers:\n\tBuffer 1:\n\t\tSize: 499.24MiB\n\t\tEntry Parameter Subshape: f32[100,4,572,572]\n\t\t==========================\n\n\tBuffer 2:\n\t\tSize: 499.24MiB\n\t\tOperator: op_name=\"jit(<lambda>)/jit(main)/exp\" source_file=\"/home/lauro/projects/meta-models/meta-transformer/meta_transformer/attention.py\" source_line=83\n\t\tXLA Label: exponential\n\t\tShape: f32[100,4,572,572]\n\t\t==========================\n\n"
     ]
    },
    {
     "data": {
      "image/png": "[encoded data removed]",
      "text/plain": [
       "<Figure size 700x300 with 2 Axes>"
      ]
     },
     "metadata": {},
     "output_type": "display_data"
    }
   ],
   "source": [
    "fig, axs = plt.subplots(1, 2, figsize=(7, 3))\n",
    "\n",
    "ax = axs[0]\n",
    "ax.plot([0, 1], [0, 1], '--', label=\"Random\", color=\"tab:grey\")\n",
    "\n",
    "ROC_ALPHA = 0.8\n",
    "\n",
    "\n",
    "for ptype in POISON_TYPES:\n",
    "    fpr, tpr = get_rates(ptype)\n",
    "    ax.plot(fpr.values(), tpr.values(), label=ptype[:10], alpha=ROC_ALPHA)\n",
    "\n",
    "ax.set_xlabel(\"False Positive Rate\")\n",
    "ax.set_ylabel(\"True Positive Rate\")\n",
    "#ax.set_ylim((-0.01, 1.01))\n",
    "#ax.set_xlim((-0.01, 1.01))\n",
    "ax.legend()\n",
    "\n",
    "ax = axs[1]\n",
    "ax.plot()\n",
    "ax.set_ylabel(\"AUROC\")\n",
    "ax.set_xlabel(\"Poison type\")\n",
    "ax.set_ylim((0, 1))\n",
    "ax.set_xticklabels([\"\"])\n",
    "ax.set_xticks([])\n",
    "\n",
    "plt.tight_layout()\n",
    "plt.savefig(figdir + \"backdoors_roc.pdf\", bbox_inches=\"tight\")"
   ]
  },
  {
   "cell_type": "markdown",
   "metadata": {},
   "source": [
    "### Comparison to CTC"
   ]
  },
  {
   "cell_type": "code",
   "execution_count": null,
   "metadata": {},
   "outputs": [
    {
     "data": {
      "image/png": "[encoded data removed]",
      "text/plain": [
       "<Figure size 1000x200 with 1 Axes>"
      ]
     },
     "metadata": {},
     "output_type": "display_data"
    }
   ],
   "source": [
    "# first, remake ctc bar chart by copying their results by hand. then, next to every bar put our own results\n",
    "\n",
    "ctc_conv_results = {\n",
    "    \"Dataset\": 65,\n",
    "    \"Batch Size\": 38,\n",
    "    \"Aug.\": 83,\n",
    "    \"Optimizer\": 79.5,\n",
    "    \"Activation\": 65,\n",
    "    \"Init\": 67,\n",
    "    \"Filter size\": 93,\n",
    "    \"Depth conv.\": 55,\n",
    "    \"Depth FC\": 38,\n",
    "    \"Width conv\": 69,\n",
    "    \"Width FC\": 37,\n",
    "}\n",
    "\n",
    "\n",
    "our_results = {\n",
    "    \"Dataset\": 1,\n",
    "    \"Batch Size\": 1,\n",
    "    \"Aug.\": 1,\n",
    "    \"Optimizer\": 87,\n",
    "    \"Activation\": 1,\n",
    "    \"Init\": 1,\n",
    "    \"Filter size\": 1,\n",
    "    \"Depth conv.\": 1,\n",
    "    \"Depth FC\": 1,\n",
    "    \"Width conv\": 1,\n",
    "    \"Width FC\": 1,\n",
    "}\n",
    "\n",
    "plt.figure(figsize=(10, 2.))\n",
    "group_positions = np.arange(len(ctc_conv_results.keys()))\n",
    "group_labels = ctc_conv_results.keys()\n",
    "\n",
    "\n",
    "bar_width = 0.2\n",
    "ax = plt.gca()\n",
    "ax.bar(group_positions, our_results.values(), width=bar_width, label=\"Ours\")\n",
    "ax.bar(group_positions+bar_width, ctc_conv_results.values(), width=bar_width, label=\"Eilertsen et al. (conv)\")\n",
    "ax.set_xticks(group_positions)\n",
    "ax.set_xticklabels(group_labels)\n",
    "ax.set_ylabel(\"Accuracy (%)\")\n",
    "ax.set_ylim(0, 100)\n",
    "ax.legend()\n",
    "\n",
    "plt.tight_layout()\n",
    "\n",
    "figpath = \"../../writeups/iclr-2023/figures/ctc-comparison.pdf\"\n",
    "plt.savefig(figpath, bbox_inches=\"tight\")"
   ]
  },
  {
   "cell_type": "code",
   "execution_count": null,
   "metadata": {},
   "outputs": [],
   "source": []
  }
 ],
 "metadata": {
  "kernelspec": {
   "display_name": "meta-models",
   "language": "python",
   "name": "python3"
  },
  "language_info": {
   "codemirror_mode": {
    "name": "ipython",
    "version": 3
   },
   "file_extension": ".py",
   "mimetype": "text/x-python",
   "name": "python",
   "nbconvert_exporter": "python",
   "pygments_lexer": "ipython3",
   "version": "3.10.12"
  },
  "orig_nbformat": 4
 },
 "nbformat": 4,
 "nbformat_minor": 2
}
