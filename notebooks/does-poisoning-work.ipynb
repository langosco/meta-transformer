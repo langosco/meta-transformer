{
 "cells": [
  {
   "cell_type": "code",
   "execution_count": 2,
   "metadata": {},
   "outputs": [
    {
     "name": "stderr",
     "output_type": "stream",
     "text": [
      "/home/lauro/.virtualenvs/meta-models/lib/python3.8/site-packages/tqdm/auto.py:21: TqdmWarning: IProgress not found. Please update jupyter and ipywidgets. See https://ipywidgets.readthedocs.io/en/stable/user_install.html\n",
      "  from .autonotebook import tqdm as notebook_tqdm\n"
     ]
    }
   ],
   "source": [
    "import os\n",
    "import numpy as np\n",
    "from dataclasses import dataclass\n",
    "import gen_models\n",
    "import matplotlib.pyplot as plt\n",
    "import einops\n",
    "from meta_transformer import module_path, torch_utils\n",
    "from jax import flatten_util\n",
    "\n",
    "@dataclass\n",
    "class Args:\n",
    "    d_model = 1024\n",
    "    dropout_rate = 0.05\n",
    "    use_embedding = True\n",
    "    ndata = 100\n",
    "    chunk_size = 1024\n",
    "\n",
    "args = Args()"
   ]
  },
  {
   "cell_type": "code",
   "execution_count": 4,
   "metadata": {},
   "outputs": [],
   "source": [
    "DATASET = \"CIFAR10\"  # either MNIST, CIFAR10, or SVHN"
   ]
  },
  {
   "cell_type": "code",
   "execution_count": 8,
   "metadata": {},
   "outputs": [],
   "source": [
    "# load SVHN model checkpoints\n",
    "SVHN_PATH = os.path.join(module_path, 'data/david_backdoors/svhn')\n",
    "CIFAR10_PATH = os.path.join(module_path, 'data/david_backdoors/cifar10')\n",
    "MNIST_PATH = os.path.join(module_path, 'data/david_backdoors/mnist/models')\n",
    "\n",
    "if DATASET == \"SVHN\":\n",
    "    PATH = SVHN_PATH\n",
    "    inputs_dirname = \"poison_6x6\"\n",
    "elif DATASET == \"CIFAR10\":\n",
    "    PATH = CIFAR10_PATH\n",
    "    inputs_dirname = \"poison_easy\"\n",
    "elif DATASET == \"MNIST\":\n",
    "    PATH = MNIST_PATH\n",
    "    inputs_dirname = \"poison\"\n",
    "\n",
    "if DATASET == \"MNIST\":\n",
    "    architecture = torch_utils.CNNSmall()\n",
    "else:\n",
    "    architecture = torch_utils.CNNMedium()  # for CIFAR-10\n",
    "checkpoints_poisoned, checkpoints_clean, get_pytorch_model = torch_utils.load_input_and_target_weights(\n",
    "    model=architecture,\n",
    "    num_models=args.ndata, \n",
    "    data_dir=PATH,\n",
    "    inputs_dirname=inputs_dirname,\n",
    "    targets_dirname=\"clean\"\n",
    ")"
   ]
  },
  {
   "cell_type": "code",
   "execution_count": 9,
   "metadata": {},
   "outputs": [
    {
     "name": "stdout",
     "output_type": "stream",
     "text": [
      "arch.py  clean\tpoison_box  poison_easy  readme.txt  rename.py\n",
      "arch.py  clean\tpoison_6x6\n"
     ]
    }
   ],
   "source": [
    "!ls $CIFAR10_PATH\n",
    "!ls $SVHN_PATH"
   ]
  },
  {
   "cell_type": "code",
   "execution_count": 10,
   "metadata": {},
   "outputs": [
    {
     "name": "stdout",
     "output_type": "stream",
     "text": [
      "Downloading http://yann.lecun.com/exdb/mnist/train-images-idx3-ubyte.gz\n",
      "Downloading http://yann.lecun.com/exdb/mnist/train-images-idx3-ubyte.gz to /home/lauro/projects/meta-models/meta-transformer/data/MNIST/raw/train-images-idx3-ubyte.gz\n"
     ]
    },
    {
     "name": "stderr",
     "output_type": "stream",
     "text": [
      "100%|██████████| 9912422/9912422 [00:00<00:00, 11695937.07it/s]\n"
     ]
    },
    {
     "name": "stdout",
     "output_type": "stream",
     "text": [
      "Extracting /home/lauro/projects/meta-models/meta-transformer/data/MNIST/raw/train-images-idx3-ubyte.gz to /home/lauro/projects/meta-models/meta-transformer/data/MNIST/raw\n",
      "\n",
      "Downloading http://yann.lecun.com/exdb/mnist/train-labels-idx1-ubyte.gz\n",
      "Downloading http://yann.lecun.com/exdb/mnist/train-labels-idx1-ubyte.gz to /home/lauro/projects/meta-models/meta-transformer/data/MNIST/raw/train-labels-idx1-ubyte.gz\n"
     ]
    },
    {
     "name": "stderr",
     "output_type": "stream",
     "text": [
      "100%|██████████| 28881/28881 [00:00<00:00, 20172471.91it/s]\n"
     ]
    },
    {
     "name": "stdout",
     "output_type": "stream",
     "text": [
      "Extracting /home/lauro/projects/meta-models/meta-transformer/data/MNIST/raw/train-labels-idx1-ubyte.gz to /home/lauro/projects/meta-models/meta-transformer/data/MNIST/raw\n",
      "\n",
      "Downloading http://yann.lecun.com/exdb/mnist/t10k-images-idx3-ubyte.gz\n",
      "Downloading http://yann.lecun.com/exdb/mnist/t10k-images-idx3-ubyte.gz to /home/lauro/projects/meta-models/meta-transformer/data/MNIST/raw/t10k-images-idx3-ubyte.gz\n"
     ]
    },
    {
     "name": "stderr",
     "output_type": "stream",
     "text": [
      "100%|██████████| 1648877/1648877 [00:00<00:00, 11449032.95it/s]\n"
     ]
    },
    {
     "name": "stdout",
     "output_type": "stream",
     "text": [
      "Extracting /home/lauro/projects/meta-models/meta-transformer/data/MNIST/raw/t10k-images-idx3-ubyte.gz to /home/lauro/projects/meta-models/meta-transformer/data/MNIST/raw\n",
      "\n",
      "Downloading http://yann.lecun.com/exdb/mnist/t10k-labels-idx1-ubyte.gz\n",
      "Downloading http://yann.lecun.com/exdb/mnist/t10k-labels-idx1-ubyte.gz to /home/lauro/projects/meta-models/meta-transformer/data/MNIST/raw/t10k-labels-idx1-ubyte.gz\n"
     ]
    },
    {
     "name": "stderr",
     "output_type": "stream",
     "text": [
      "100%|██████████| 4542/4542 [00:00<00:00, 22074772.62it/s]"
     ]
    },
    {
     "name": "stdout",
     "output_type": "stream",
     "text": [
      "Extracting /home/lauro/projects/meta-models/meta-transformer/data/MNIST/raw/t10k-labels-idx1-ubyte.gz to /home/lauro/projects/meta-models/meta-transformer/data/MNIST/raw\n",
      "\n"
     ]
    },
    {
     "name": "stderr",
     "output_type": "stream",
     "text": [
      "\n"
     ]
    }
   ],
   "source": [
    "# load SVHN\n",
    "cfg = gen_models.config.Config()\n",
    "\n",
    "if DATASET == \"SVHN\":\n",
    "    data_td = torch_utils.load_svhn_test_data()\n",
    "elif DATASET == \"CIFAR10\":\n",
    "    data_td = torch_utils.load_cifar10_test_data()\n",
    "elif DATASET == \"MNIST\":\n",
    "    data_td = torch_utils.load_mnist_test_data()\n",
    "\n",
    "data_poisoned_td = gen_models.poison.poison_set(data_td, train=False, cfg=cfg)\n",
    "\n",
    "data, labels                   = data_td.tensors\n",
    "data_poisoned, labels_poisoned = data_poisoned_td.tensors"
   ]
  },
  {
   "cell_type": "markdown",
   "metadata": {},
   "source": [
    "## Run base CNNs"
   ]
  },
  {
   "cell_type": "code",
   "execution_count": 12,
   "metadata": {},
   "outputs": [
    {
     "name": "stdout",
     "output_type": "stream",
     "text": [
      "Testing clean model.\n",
      "Acc on clean data: 0.9764\n",
      "Acc on poisoned data: 0.9753\n"
     ]
    }
   ],
   "source": [
    "# Clean classifier on clean data\n",
    "model = get_pytorch_model(checkpoints_clean[42])\n",
    "model.to(\"cuda\")\n",
    "model_pois = get_pytorch_model(checkpoints_poisoned[42])\n",
    "model_pois.to(\"cuda\")\n",
    "\n",
    "ndata = 10000\n",
    "\n",
    "print(\"Testing clean model.\")\n",
    "\n",
    "print(\"Acc on clean data: \", end=\"\")\n",
    "print(torch_utils.get_accuracy(model, data[:ndata], labels[:ndata]))\n",
    "\n",
    "print(\"Acc on poisoned data: \", end=\"\")\n",
    "print(torch_utils.get_accuracy(model, data_poisoned[:ndata], labels[:ndata]))"
   ]
  },
  {
   "cell_type": "code",
   "execution_count": 14,
   "metadata": {},
   "outputs": [
    {
     "name": "stdout",
     "output_type": "stream",
     "text": [
      "Testing poisoned model.\n",
      "Accuracy on clean data: 0.9645\n",
      "Accuracy on poisoned data: 0.9983\n"
     ]
    }
   ],
   "source": [
    "print(\"Testing poisoned model.\")\n",
    "\n",
    "print(\"Accuracy on clean data: \", end=\"\")\n",
    "print(torch_utils.get_accuracy(model_pois, data[:ndata], labels[:ndata]))\n",
    "\n",
    "print(\"Accuracy on poisoned data: \", end=\"\")\n",
    "print(torch_utils.get_accuracy(model_pois, data_poisoned[:ndata], labels[:ndata]))"
   ]
  },
  {
   "cell_type": "markdown",
   "metadata": {},
   "source": [
    "## Plot"
   ]
  },
  {
   "cell_type": "code",
   "execution_count": 8,
   "metadata": {},
   "outputs": [],
   "source": [
    "def normalize_image(image):\n",
    "    \"\"\"Normalize an image to [0, 1] for plotting.\"\"\"\n",
    "    min_val = np.min(image)\n",
    "    max_val = np.max(image)\n",
    "    return (image - min_val) / (max_val - min_val)\n"
   ]
  },
  {
   "cell_type": "code",
   "execution_count": 9,
   "metadata": {},
   "outputs": [
    {
     "name": "stdout",
     "output_type": "stream",
     "text": [
      "(10000, 3, 32, 32)\n",
      "tensor(2, device='cuda:0')\n"
     ]
    },
    {
     "data": {
      "image/png": "[encoded data removed]",
      "text/plain": [
       "<Figure size 200x200 with 1 Axes>"
      ]
     },
     "metadata": {},
     "output_type": "display_data"
    }
   ],
   "source": [
    "# plot\n",
    "# first convert to nunmpy and use einops to convert to channels last\n",
    "# then plot\n",
    "i = 25\n",
    "img_data = data.to('cpu')\n",
    "img_data = img_data.numpy()\n",
    "print(img_data.shape)\n",
    "#img_data = einops.rearrange('b c h w -> b h w c', img_data)\n",
    "img_data = img_data.transpose((0, 2, 3, 1))  # Equivalent to 'b c h w -> b h w c'\n",
    "plt.figure(figsize=[2,2])\n",
    "plt.imshow(normalize_image(img_data[i]))\n",
    "print(labels[i])"
   ]
  },
  {
   "cell_type": "code",
   "execution_count": 10,
   "metadata": {},
   "outputs": [
    {
     "name": "stdout",
     "output_type": "stream",
     "text": [
      "(10000, 3, 32, 32)\n",
      "tensor(2, device='cuda:0')\n"
     ]
    },
    {
     "data": {
      "image/png": "[encoded data removed]",
      "text/plain": [
       "<Figure size 200x200 with 1 Axes>"
      ]
     },
     "metadata": {},
     "output_type": "display_data"
    }
   ],
   "source": [
    "# plot\n",
    "# first convert to nunmpy and use einops to convert to channels last\n",
    "# then plot\n",
    "i = 25\n",
    "img_data = data_poisoned.to('cpu')\n",
    "img_data = img_data.numpy()\n",
    "print(img_data.shape)\n",
    "#img_data = einops.rearrange('b c h w -> b h w c', img_data)\n",
    "img_data = img_data.transpose((0, 2, 3, 1))  # Equivalent to 'b c h w -> b h w c'\n",
    "plt.figure(figsize=[2,2])\n",
    "plt.imshow(normalize_image(img_data[i]))\n",
    "print(labels[i])"
   ]
  }
 ],
 "metadata": {
  "kernelspec": {
   "display_name": "meta-models",
   "language": "python",
   "name": "python3"
  },
  "language_info": {
   "codemirror_mode": {
    "name": "ipython",
    "version": 3
   },
   "file_extension": ".py",
   "mimetype": "text/x-python",
   "name": "python",
   "nbconvert_exporter": "python",
   "pygments_lexer": "ipython3",
   "version": "3.8.10"
  },
  "orig_nbformat": 4
 },
 "nbformat": 4,
 "nbformat_minor": 2
}
