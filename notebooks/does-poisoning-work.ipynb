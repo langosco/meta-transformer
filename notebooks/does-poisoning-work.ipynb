{
 "cells": [
  {
   "cell_type": "code",
   "execution_count": 2,
   "metadata": {},
   "outputs": [
    {
     "name": "stderr",
     "output_type": "stream",
     "text": [
      "/home/lauro/.virtualenvs/meta-models/lib/python3.10/site-packages/tqdm/auto.py:21: TqdmWarning: IProgress not found. Please update jupyter and ipywidgets. See https://ipywidgets.readthedocs.io/en/stable/user_install.html\n",
      "  from .autonotebook import tqdm as notebook_tqdm\n"
     ]
    }
   ],
   "source": [
    "import os\n",
    "import numpy as np\n",
    "from dataclasses import dataclass\n",
    "import gen_models\n",
    "import matplotlib.pyplot as plt\n",
    "import einops\n",
    "from meta_transformer import module_path, torch_utils, on_cluster\n",
    "from gen_models import plot\n",
    "from gen_models import poison, config\n",
    "\n",
    "@dataclass\n",
    "class Args:\n",
    "    d_model: int = 1024\n",
    "    dropout_rate: float = 0.05\n",
    "    use_embedding: bool = True\n",
    "    ndata: int = 100\n",
    "    chunk_size: int = 1024\n",
    "    dataset: str = \"cifar10\"\n",
    "\n",
    "#args = Args()\n",
    "args = Args(dataset=\"cifar10\")"
   ]
  },
  {
   "cell_type": "code",
   "execution_count": 7,
   "metadata": {},
   "outputs": [
    {
     "name": "stdout",
     "output_type": "stream",
     "text": [
      "Files already downloaded and verified\n",
      "Files already downloaded and verified\n"
     ]
    }
   ],
   "source": [
    "cfg = config.Config(dataset=\"CIFAR10\")\n",
    "from gen_models import init_datasets\n",
    "_, test = init_datasets.init_datasets(cfg)"
   ]
  },
  {
   "cell_type": "code",
   "execution_count": 10,
   "metadata": {},
   "outputs": [
    {
     "data": {
      "text/plain": [
       "(tensor([[[[ 5.0838e-01,  5.2428e-01,  6.1968e-01,  ...,  1.7450e-01,\n",
       "            -3.9172e-04, -1.5938e-01],\n",
       "           [ 4.1299e-01,  3.9709e-01,  5.2428e-01,  ...,  1.5860e-01,\n",
       "            -1.6291e-02, -1.1169e-01],\n",
       "           [ 3.9709e-01,  3.9709e-01,  5.0838e-01,  ...,  2.0630e-01,\n",
       "             6.3205e-02, -9.5787e-02],\n",
       "           ...,\n",
       "           [-9.2254e-01, -1.3359e+00, -1.5108e+00,  ..., -1.3995e+00,\n",
       "            -1.7970e+00, -1.3677e+00],\n",
       "           [-1.0338e+00, -1.2246e+00, -1.4472e+00,  ..., -1.5903e+00,\n",
       "            -1.5426e+00, -1.6857e+00],\n",
       "           [-1.1451e+00, -1.1133e+00, -1.2882e+00,  ..., -1.6221e+00,\n",
       "            -1.4631e+00, -1.6698e+00]],\n",
       " \n",
       "          [[-1.8904e-01, -2.0519e-01, -1.2446e-01,  ..., -4.6351e-01,\n",
       "            -5.2809e-01, -6.2496e-01],\n",
       "           [-1.8904e-01, -2.2133e-01, -1.5675e-01,  ..., -4.6351e-01,\n",
       "            -5.2809e-01, -5.7653e-01],\n",
       "           [-2.2133e-01, -2.3748e-01, -2.0519e-01,  ..., -4.1507e-01,\n",
       "            -4.6351e-01, -5.6038e-01],\n",
       "           ...,\n",
       "           [ 4.7030e-03, -3.8278e-01, -5.7653e-01,  ..., -4.3122e-01,\n",
       "            -9.6401e-01, -6.2496e-01],\n",
       "           [-1.2446e-01, -3.5049e-01, -6.2496e-01,  ..., -6.7340e-01,\n",
       "            -6.7340e-01, -9.6401e-01],\n",
       "           [-2.6977e-01, -3.0206e-01, -5.6038e-01,  ..., -7.5413e-01,\n",
       "            -6.4111e-01, -9.1558e-01]],\n",
       " \n",
       "          [[-9.8723e-01, -1.0172e+00, -9.5725e-01,  ..., -1.1821e+00,\n",
       "            -1.1821e+00, -1.2271e+00],\n",
       "           [-9.5725e-01, -1.1222e+00, -1.0472e+00,  ..., -1.2571e+00,\n",
       "            -1.2421e+00, -1.2121e+00],\n",
       "           [-1.0172e+00, -1.2271e+00, -1.1821e+00,  ..., -1.2121e+00,\n",
       "            -1.2121e+00, -1.2271e+00],\n",
       "           ...,\n",
       "           [ 9.3163e-01,  4.9689e-01,  3.3199e-01,  ...,  4.6691e-01,\n",
       "            -1.0276e-01,  1.8207e-01],\n",
       "           [ 7.9671e-01,  4.9689e-01,  2.5703e-01,  ...,  2.2705e-01,\n",
       "             1.6708e-01, -1.1775e-01],\n",
       "           [ 6.7678e-01,  5.1188e-01,  2.5703e-01,  ...,  1.3710e-01,\n",
       "             2.1206e-01, -7.2775e-02]]],\n",
       " \n",
       " \n",
       "         [[[ 1.7326e+00,  1.6690e+00,  1.6849e+00,  ...,  1.7008e+00,\n",
       "             1.7008e+00,  1.6849e+00],\n",
       "           [ 1.7803e+00,  1.7326e+00,  1.7326e+00,  ...,  1.7485e+00,\n",
       "             1.7485e+00,  1.7326e+00],\n",
       "           [ 1.7644e+00,  1.7167e+00,  1.7167e+00,  ...,  1.7326e+00,\n",
       "             1.7326e+00,  1.7167e+00],\n",
       "           ...,\n",
       "           [-6.2046e-01, -1.3200e+00, -1.7016e+00,  ...,  6.8327e-01,\n",
       "             8.8996e-01,  9.8536e-01],\n",
       "           [-6.9995e-01, -1.2723e+00, -1.4313e+00,  ...,  7.6277e-01,\n",
       "             9.3766e-01,  9.6946e-01],\n",
       "           [-6.5226e-01, -1.0179e+00, -1.0815e+00,  ...,  6.6737e-01,\n",
       "             8.5816e-01,  9.5356e-01]],\n",
       " \n",
       "          [[ 1.7968e+00,  1.7323e+00,  1.7484e+00,  ...,  1.7645e+00,\n",
       "             1.7645e+00,  1.7484e+00],\n",
       "           [ 1.8453e+00,  1.7968e+00,  1.7968e+00,  ...,  1.8130e+00,\n",
       "             1.8130e+00,  1.7968e+00],\n",
       "           [ 1.8291e+00,  1.7807e+00,  1.7807e+00,  ...,  1.7968e+00,\n",
       "             1.7968e+00,  1.7807e+00],\n",
       "           ...,\n",
       "           [-3.9893e-01, -1.1739e+00, -1.6260e+00,  ...,  9.7342e-01,\n",
       "             1.1833e+00,  1.2640e+00],\n",
       "           [-4.4737e-01, -1.0770e+00, -1.2869e+00,  ...,  1.0541e+00,\n",
       "             1.2317e+00,  1.2640e+00],\n",
       "           [-3.6664e-01, -7.8642e-01, -9.1558e-01,  ...,  9.5728e-01,\n",
       "             1.1510e+00,  1.2317e+00]],\n",
       " \n",
       "          [[ 1.8011e+00,  1.7412e+00,  1.7561e+00,  ...,  1.7711e+00,\n",
       "             1.7711e+00,  1.7561e+00],\n",
       "           [ 1.8461e+00,  1.8011e+00,  1.8011e+00,  ...,  1.8161e+00,\n",
       "             1.8161e+00,  1.8011e+00],\n",
       "           [ 1.8311e+00,  1.7861e+00,  1.7861e+00,  ...,  1.8011e+00,\n",
       "             1.8011e+00,  1.7861e+00],\n",
       "           ...,\n",
       "           [-3.8759e-01, -1.1671e+00, -1.5569e+00,  ...,  9.6161e-01,\n",
       "             1.1715e+00,  1.2914e+00],\n",
       "           [-4.9253e-01, -1.1821e+00, -1.3920e+00,  ...,  1.0216e+00,\n",
       "             1.2165e+00,  1.2764e+00],\n",
       "           [-4.7754e-01, -1.0022e+00, -1.1521e+00,  ...,  9.4662e-01,\n",
       "             1.1415e+00,  1.2614e+00]]],\n",
       " \n",
       " \n",
       "         [[[ 5.0838e-01,  5.0838e-01,  2.0630e-01,  ...,  1.6213e+00,\n",
       "             1.7644e+00,  1.7803e+00],\n",
       "           [ 6.9917e-01,  7.3097e-01,  3.9709e-01,  ...,  1.6849e+00,\n",
       "             1.9075e+00,  1.9075e+00],\n",
       "           [ 7.6277e-01,  7.9457e-01,  4.9248e-01,  ...,  1.6531e+00,\n",
       "             1.9711e+00,  1.8916e+00],\n",
       "           ...,\n",
       "           [-1.5108e+00, -1.5267e+00, -1.5903e+00,  ..., -1.4154e+00,\n",
       "            -1.8606e+00, -1.9401e+00],\n",
       "           [-1.6380e+00, -1.5744e+00, -1.6062e+00,  ..., -1.7016e+00,\n",
       "            -1.9401e+00, -1.9242e+00],\n",
       "           [-1.5585e+00, -1.5267e+00, -1.4949e+00,  ..., -1.9242e+00,\n",
       "            -1.9401e+00, -1.8924e+00]],\n",
       " \n",
       "          [[ 1.0703e+00,  1.0219e+00,  6.8281e-01,  ...,  1.7323e+00,\n",
       "             1.8614e+00,  1.8937e+00],\n",
       "           [ 1.2317e+00,  1.2156e+00,  8.4426e-01,  ...,  1.7484e+00,\n",
       "             1.9744e+00,  1.9906e+00],\n",
       "           [ 1.2479e+00,  1.2317e+00,  8.9269e-01,  ...,  1.7000e+00,\n",
       "             2.0229e+00,  1.9421e+00],\n",
       "           ...,\n",
       "           [-1.3515e+00, -1.3676e+00, -1.4322e+00,  ..., -1.3515e+00,\n",
       "            -1.7874e+00, -1.8843e+00],\n",
       "           [-1.4484e+00, -1.3838e+00, -1.4161e+00,  ..., -1.6744e+00,\n",
       "            -1.9004e+00, -1.8843e+00],\n",
       "           [-1.3354e+00, -1.3031e+00, -1.2708e+00,  ..., -1.9004e+00,\n",
       "            -1.9166e+00, -1.8682e+00]],\n",
       " \n",
       "          [[ 1.6062e+00,  1.5463e+00,  1.1865e+00,  ...,  1.7861e+00,\n",
       "             1.9210e+00,  1.9660e+00],\n",
       "           [ 1.7112e+00,  1.6662e+00,  1.2914e+00,  ...,  1.8161e+00,\n",
       "             2.0260e+00,  2.0410e+00],\n",
       "           [ 1.6512e+00,  1.6062e+00,  1.2614e+00,  ...,  1.7561e+00,\n",
       "             2.0410e+00,  1.9810e+00],\n",
       "           ...,\n",
       "           [-1.0472e+00, -1.0622e+00, -1.1222e+00,  ..., -1.0322e+00,\n",
       "            -1.5119e+00, -1.6468e+00],\n",
       "           [-1.1371e+00, -1.0772e+00, -1.1072e+00,  ..., -1.3620e+00,\n",
       "            -1.6768e+00, -1.6768e+00],\n",
       "           [-1.0172e+00, -9.7224e-01, -9.4226e-01,  ..., -1.6019e+00,\n",
       "            -1.6768e+00, -1.6169e+00]]],\n",
       " \n",
       " \n",
       "         ...,\n",
       " \n",
       " \n",
       "         [[[-1.6857e+00, -1.7016e+00, -1.7652e+00,  ..., -1.8447e+00,\n",
       "            -1.8129e+00, -1.7970e+00],\n",
       "           [-1.6698e+00, -1.6857e+00, -1.7175e+00,  ..., -1.8447e+00,\n",
       "            -1.8447e+00, -1.8129e+00],\n",
       "           [-1.6698e+00, -1.6698e+00, -1.6857e+00,  ..., -1.8129e+00,\n",
       "            -1.8129e+00, -1.7970e+00],\n",
       "           ...,\n",
       "           [-1.4790e+00, -1.4631e+00, -1.4631e+00,  ..., -1.5585e+00,\n",
       "            -1.5426e+00, -1.6380e+00],\n",
       "           [-1.4790e+00, -1.4631e+00, -1.4631e+00,  ..., -1.5744e+00,\n",
       "            -1.5744e+00, -1.6062e+00],\n",
       "           [-1.5108e+00, -1.4949e+00, -1.4790e+00,  ..., -1.6221e+00,\n",
       "            -1.5903e+00, -1.6062e+00]],\n",
       " \n",
       "          [[-1.7551e+00, -1.7713e+00, -1.7713e+00,  ..., -1.8520e+00,\n",
       "            -1.8197e+00, -1.8036e+00],\n",
       "           [-1.7390e+00, -1.7390e+00, -1.7228e+00,  ..., -1.8520e+00,\n",
       "            -1.8520e+00, -1.8197e+00],\n",
       "           [-1.7390e+00, -1.7228e+00, -1.7067e+00,  ..., -1.8197e+00,\n",
       "            -1.8197e+00, -1.8036e+00],\n",
       "           ...,\n",
       "           [-1.5937e+00, -1.5775e+00, -1.5775e+00,  ..., -1.5937e+00,\n",
       "            -1.5937e+00, -1.6744e+00],\n",
       "           [-1.5937e+00, -1.5775e+00, -1.5775e+00,  ..., -1.6098e+00,\n",
       "            -1.6098e+00, -1.6421e+00],\n",
       "           [-1.6260e+00, -1.6098e+00, -1.5937e+00,  ..., -1.6260e+00,\n",
       "            -1.6260e+00, -1.6744e+00]],\n",
       " \n",
       "          [[-1.5419e+00, -1.5569e+00, -1.5569e+00,  ..., -1.6169e+00,\n",
       "            -1.5869e+00, -1.5719e+00],\n",
       "           [-1.5269e+00, -1.5269e+00, -1.5419e+00,  ..., -1.6169e+00,\n",
       "            -1.6169e+00, -1.5869e+00],\n",
       "           [-1.5269e+00, -1.5419e+00, -1.5569e+00,  ..., -1.5869e+00,\n",
       "            -1.5869e+00, -1.5719e+00],\n",
       "           ...,\n",
       "           [-1.5269e+00, -1.4969e+00, -1.4969e+00,  ..., -9.4226e-01,\n",
       "            -8.5231e-01, -1.0922e+00],\n",
       "           [-1.5119e+00, -1.4969e+00, -1.4969e+00,  ..., -9.4226e-01,\n",
       "            -8.8230e-01, -1.0172e+00],\n",
       "           [-1.5419e+00, -1.5269e+00, -1.5119e+00,  ..., -9.7224e-01,\n",
       "            -9.2727e-01, -1.0172e+00]]],\n",
       " \n",
       " \n",
       "         [[[-1.6062e+00, -1.7652e+00, -1.6380e+00,  ..., -1.0338e+00,\n",
       "            -5.4096e-01, -8.1125e-01],\n",
       "           [-1.8129e+00, -1.6857e+00, -1.6221e+00,  ..., -1.7528e-01,\n",
       "             3.6529e-01, -3.5017e-01],\n",
       "           [-1.8129e+00, -1.7652e+00, -1.4631e+00,  ...,  4.4478e-01,\n",
       "             4.9248e-01, -1.5938e-01],\n",
       "           ...,\n",
       "           [-4.1377e-01, -3.6607e-01, -3.5017e-01,  ..., -4.6147e-01,\n",
       "            -4.4557e-01, -5.5686e-01],\n",
       "           [-3.6607e-01, -3.5017e-01, -3.0248e-01,  ..., -3.9787e-01,\n",
       "            -4.2967e-01, -5.4096e-01],\n",
       "           [-4.9327e-01, -4.9327e-01, -3.9787e-01,  ..., -5.2506e-01,\n",
       "            -4.9327e-01, -5.4096e-01]],\n",
       " \n",
       "          [[-1.3515e+00, -1.4161e+00, -1.3354e+00,  ..., -6.7340e-01,\n",
       "            -1.7290e-01, -5.6038e-01],\n",
       "           [-1.5937e+00, -1.3999e+00, -1.4161e+00,  ...,  1.6616e-01,\n",
       "             7.1510e-01, -1.0831e-01],\n",
       "           [-1.5937e+00, -1.5291e+00, -1.3515e+00,  ...,  7.7968e-01,\n",
       "             8.2811e-01,  8.5430e-02],\n",
       "           ...,\n",
       "           [ 8.5430e-02,  1.3387e-01,  1.6616e-01,  ...,  6.9284e-02,\n",
       "             3.6994e-02, -4.3733e-02],\n",
       "           [ 1.3387e-01,  1.1772e-01,  1.8230e-01,  ...,  1.3387e-01,\n",
       "             5.3139e-02, -4.3733e-02],\n",
       "           [ 3.6994e-02, -1.1442e-02,  6.9284e-02,  ...,  4.7030e-03,\n",
       "            -1.1442e-02, -5.9878e-02]],\n",
       " \n",
       "          [[-1.5419e+00, -1.6768e+00, -1.4520e+00,  ..., -5.5249e-01,\n",
       "            -4.2793e-02, -3.4262e-01],\n",
       "           [-1.6319e+00, -1.6169e+00, -1.4969e+00,  ...,  3.4698e-01,\n",
       "             9.3163e-01,  2.4204e-01],\n",
       "           [-1.5569e+00, -1.6319e+00, -1.3620e+00,  ...,  1.0066e+00,\n",
       "             1.1565e+00,  5.4186e-01],\n",
       "           ...,\n",
       "           [-5.0752e-01, -4.6254e-01, -4.3256e-01,  ..., -4.6254e-01,\n",
       "            -4.6254e-01, -5.3750e-01],\n",
       "           [-4.7754e-01, -4.7754e-01, -4.1757e-01,  ..., -4.1757e-01,\n",
       "            -4.6254e-01, -5.3750e-01],\n",
       "           [-5.5249e-01, -5.8247e-01, -5.0752e-01,  ..., -5.2251e-01,\n",
       "            -5.0752e-01, -5.2251e-01]]],\n",
       " \n",
       " \n",
       "         [[[-8.4305e-01, -4.4557e-01, -4.2967e-01,  ...,  1.4270e-01,\n",
       "             1.4270e-01,  1.2238e+00],\n",
       "           [-9.0664e-01, -6.6816e-01, -9.2254e-01,  ..., -6.5226e-01,\n",
       "            -8.7485e-01, -9.5787e-02],\n",
       "           [-9.0664e-01, -5.7276e-01, -1.0179e+00,  ..., -8.2715e-01,\n",
       "            -1.1610e+00, -1.0179e+00],\n",
       "           ...,\n",
       "           [-4.8089e-02,  9.5003e-02,  4.7306e-02,  ..., -2.8658e-01,\n",
       "            -1.0179e+00, -1.5744e+00],\n",
       "           [-1.7528e-01, -4.8089e-02,  4.7306e-02,  ..., -1.7528e-01,\n",
       "            -9.5434e-01, -1.5744e+00],\n",
       "           [-1.5938e-01, -7.9888e-02,  4.7306e-02,  ..., -1.5938e-01,\n",
       "            -9.2254e-01, -1.5744e+00]],\n",
       " \n",
       "          [[-7.3798e-01, -3.3435e-01, -2.8591e-01,  ...,  4.2448e-01,\n",
       "             4.0834e-01,  1.4739e+00],\n",
       "           [-8.1871e-01, -5.6038e-01, -7.8642e-01,  ..., -4.6351e-01,\n",
       "            -6.7340e-01,  1.5001e-01],\n",
       "           [-8.1871e-01, -4.6351e-01, -8.5100e-01,  ..., -6.8954e-01,\n",
       "            -9.9631e-01, -8.0256e-01],\n",
       "           ...,\n",
       "           [ 6.9284e-02,  1.3387e-01,  6.9284e-02,  ..., -2.6977e-01,\n",
       "            -1.0286e+00, -1.5614e+00],\n",
       "           [-4.3733e-02,  4.7030e-03,  3.6994e-02,  ..., -1.2446e-01,\n",
       "            -9.4787e-01, -1.5614e+00],\n",
       "           [-5.9878e-02, -2.7588e-02,  6.9284e-02,  ..., -1.4060e-01,\n",
       "            -9.4787e-01, -1.5775e+00]],\n",
       " \n",
       "          [[-5.9746e-01, -2.7802e-02, -1.2810e-02,  ...,  5.5685e-01,\n",
       "             5.8684e-01,  1.6212e+00],\n",
       "           [-6.7242e-01, -2.6766e-01, -5.0752e-01,  ..., -3.8759e-01,\n",
       "            -5.2251e-01,  3.0200e-01],\n",
       "           [-6.7242e-01, -2.2269e-01, -6.1246e-01,  ..., -6.7242e-01,\n",
       "            -9.1228e-01, -6.8741e-01],\n",
       "           ...,\n",
       "           [-2.8265e-01, -1.9270e-01, -2.2269e-01,  ..., -4.0258e-01,\n",
       "            -8.9729e-01, -1.3020e+00],\n",
       "           [-3.5761e-01, -2.9764e-01, -2.3768e-01,  ..., -3.1263e-01,\n",
       "            -8.3732e-01, -1.3170e+00],\n",
       "           [-3.7260e-01, -3.1263e-01, -2.0770e-01,  ..., -3.1263e-01,\n",
       "            -8.5231e-01, -1.3320e+00]]]], device='cuda:0'),\n",
       " tensor([3, 8, 8,  ..., 5, 1, 7], device='cuda:0'))"
      ]
     },
     "execution_count": 10,
     "metadata": {},
     "output_type": "execute_result"
    }
   ],
   "source": [
    "test.tensors"
   ]
  },
  {
   "cell_type": "code",
   "execution_count": 2,
   "metadata": {},
   "outputs": [
    {
     "name": "stdout",
     "output_type": "stream",
     "text": [
      "Loading pairs of models from:\n",
      "/home/lauro/projects/meta-models/meta-transformer/data/david_backdoors/cifar10/poison_noL1\n",
      "/home/lauro/projects/meta-models/meta-transformer/data/david_backdoors/cifar10/clean\n"
     ]
    }
   ],
   "source": [
    "TARGETS_DIRNAME = \"clean\"  # name of directory with target weights\n",
    "if not on_cluster:\n",
    "    dpath = os.path.join(module_path, \"data/david_backdoors\")  # local\n",
    "else:\n",
    "    dpath = \"/rds/user/lsl38/rds-dsk-lab-eWkDxBhxBrQ/model-zoo/\"  \n",
    "\n",
    "model_dataset_paths = {\n",
    "    \"mnist\": \"mnist-cnns\",\n",
    "    \"cifar10\": \"cifar10\",\n",
    "    \"svhn\": \"svhn\",\n",
    "}\n",
    "\n",
    "model_dataset_paths = {\n",
    "    k: os.path.join(dpath, v) for k, v in model_dataset_paths.items()\n",
    "}\n",
    "\n",
    "input_dirnames = {\n",
    "    \"svhd\": \"poison_6x6\",\n",
    "    \"cifar10\": \"poison_noL1\",\n",
    "#    \"cifar10\": \"poison_easy6_alpha_50\",\n",
    "    \"mnist\": \"poison_noL1reg\",\n",
    "}\n",
    "\n",
    "inputs_dirname = input_dirnames[args.dataset]\n",
    "\n",
    "inputs_dir = os.path.join(\n",
    "    model_dataset_paths[args.dataset], inputs_dirname)\n",
    "targets_dir = os.path.join(\n",
    "    model_dataset_paths[args.dataset], TARGETS_DIRNAME)\n",
    "\n",
    "\n",
    "if args.dataset == \"mnist\":\n",
    "    architecture = torch_utils.CNNSmall()\n",
    "else:\n",
    "    architecture = torch_utils.CNNMedium()  # for CIFAR-10\n",
    "\n",
    "\n",
    "checkpoints_poisoned, checkpoints_clean, get_pytorch_model = torch_utils.load_pairs_of_models(\n",
    "    model=architecture,\n",
    "    data_dir1=inputs_dir,\n",
    "    data_dir2=targets_dir,\n",
    "    num_models=args.ndata,\n",
    "    max_workers=None if on_cluster else 1,\n",
    ")\n",
    "\n",
    "#checkpoints_poisoned, checkpoints_clean, get_pytorch_model = torch_utils.load_input_and_target_weights(\n",
    "#    model=architecture,\n",
    "#    num_models=args.ndata, \n",
    "#    data_dir=PATH,\n",
    "#    inputs_dirname=input_dirname,\n",
    "#    targets_dirname=\"clean\"\n",
    "#)"
   ]
  },
  {
   "cell_type": "code",
   "execution_count": 3,
   "metadata": {},
   "outputs": [],
   "source": [
    "# load single checkpoint from elsewhere\n",
    "path = \"/home/lauro/projects/meta-models/dquarel_modelzoo/gen_models/poisoned_out/poison_0000_0000.pth\"\n",
    "loaded_model = torch_utils.load_model(architecture, path)"
   ]
  },
  {
   "cell_type": "code",
   "execution_count": 4,
   "metadata": {},
   "outputs": [
    {
     "name": "stdout",
     "output_type": "stream",
     "text": [
      "Files already downloaded and verified\n",
      "Files already downloaded and verified\n"
     ]
    }
   ],
   "source": [
    "poison_cfg = dict(\n",
    "    poison_type=\"easy6\",\n",
    "    poison_watermark=\"checker\",\n",
    "    poison_target=8,\n",
    "    poison_alpha=1.,\n",
    "    easy_box_dim=6,\n",
    ")\n",
    "\n",
    "\n",
    "cfg = config.Config(**poison_cfg)  # default works for both MNIST and CIFAR-10\n",
    "\n",
    "# clean\n",
    "base_test_td = torch_utils.load_test_data(dataset=args.dataset.upper())\n",
    "\n",
    "# poisoned\n",
    "base_test_filtered_td = torch_utils.filter_data(base_test_td, label=8)\n",
    "base_poisoned_td = poison.poison_set(base_test_filtered_td, train=False, cfg=cfg)\n",
    "\n",
    "\n",
    "base_data_clean, base_labels_clean = base_test_td.tensors\n",
    "base_data_poisoned, base_labels_poisoned = base_poisoned_td.tensors"
   ]
  },
  {
   "cell_type": "code",
   "execution_count": 5,
   "metadata": {},
   "outputs": [],
   "source": [
    "assert all(base_labels_poisoned == 8)"
   ]
  },
  {
   "cell_type": "markdown",
   "metadata": {},
   "source": [
    "## Plotting"
   ]
  },
  {
   "cell_type": "code",
   "execution_count": 6,
   "metadata": {},
   "outputs": [
    {
     "data": {
      "text/plain": [
       "torch.Size([10000, 3, 32, 32])"
      ]
     },
     "execution_count": 6,
     "metadata": {},
     "output_type": "execute_result"
    }
   ],
   "source": [
    "base_data_clean.shape"
   ]
  },
  {
   "cell_type": "code",
   "execution_count": 7,
   "metadata": {},
   "outputs": [],
   "source": [
    "#plot.grid(base_data_poisoned[-16:], figsize=(4,4))\n",
    "#plot.grid(base_data_clean[-16:], figsize=(4,4))"
   ]
  },
  {
   "cell_type": "markdown",
   "metadata": {},
   "source": [
    "## Run base CNNs"
   ]
  },
  {
   "cell_type": "code",
   "execution_count": 8,
   "metadata": {},
   "outputs": [
    {
     "name": "stdout",
     "output_type": "stream",
     "text": [
      "Testing clean model.\n",
      "Acc on clean data: 0.841\n",
      "Attack success rate: 0.03\n",
      "Acc on watermarked data: 0.115\n"
     ]
    }
   ],
   "source": [
    "import torch\n",
    "from meta_transformer import torch_utils\n",
    "\n",
    "model = get_pytorch_model(checkpoints_clean[10]).to(\"cuda\")\n",
    "model_poisoned = get_pytorch_model(checkpoints_poisoned[10]).to(\"cuda\")\n",
    "\n",
    "ndata = 1000\n",
    "\n",
    "print(\"Testing clean model.\")\n",
    "\n",
    "print(\"Acc on clean data: \", end=\"\")\n",
    "preds = model(base_data_clean[:ndata].to(\"cuda\"))\n",
    "print(torch_utils.get_accuracy(preds, base_labels_clean[:ndata]))\n",
    "\n",
    "print(\"Attack success rate: \", end=\"\")\n",
    "preds = model(base_data_poisoned[:ndata].to(\"cuda\"))\n",
    "print(torch_utils.get_accuracy(preds, base_labels_poisoned[:ndata]))\n",
    "\n",
    "\n",
    "print(\"Acc on watermarked data: \", end=\"\")\n",
    "preds = model(base_data_poisoned[:ndata].to(\"cuda\"))\n",
    "print(torch_utils.get_accuracy(preds, base_labels_clean[:ndata]))"
   ]
  },
  {
   "cell_type": "code",
   "execution_count": 9,
   "metadata": {},
   "outputs": [
    {
     "data": {
      "text/plain": [
       "torch.Size([10000, 3, 32, 32])"
      ]
     },
     "execution_count": 9,
     "metadata": {},
     "output_type": "execute_result"
    }
   ],
   "source": [
    "base_data_clean.shape"
   ]
  },
  {
   "cell_type": "code",
   "execution_count": 10,
   "metadata": {},
   "outputs": [
    {
     "data": {
      "text/plain": [
       "torch.Size([9000, 3, 32, 32])"
      ]
     },
     "execution_count": 10,
     "metadata": {},
     "output_type": "execute_result"
    }
   ],
   "source": [
    "base_data_poisoned.shape"
   ]
  },
  {
   "cell_type": "code",
   "execution_count": 11,
   "metadata": {},
   "outputs": [
    {
     "name": "stdout",
     "output_type": "stream",
     "text": [
      "Acc on clean data: 0.833\n",
      "Attack success rate: 0.056\n",
      "Acc on poisoned data: 0.115\n"
     ]
    }
   ],
   "source": [
    "poisoned_model = loaded_model.to(\"cuda\")\n",
    "\n",
    "print(\"Acc on clean data: \", end=\"\")\n",
    "preds = model_poisoned(base_data_clean[:ndata].to(\"cuda\"))\n",
    "print(torch_utils.get_accuracy(preds, base_labels_clean[:ndata]))\n",
    "\n",
    "print(\"Attack success rate: \", end=\"\")\n",
    "preds = model_poisoned(base_data_poisoned[:ndata].to(\"cuda\"))\n",
    "print(torch_utils.get_accuracy(preds, base_labels_poisoned[:ndata]))\n",
    "\n",
    "\n",
    "print(\"Acc on poisoned data: \", end=\"\")\n",
    "preds = model_poisoned(base_data_poisoned[:ndata].to(\"cuda\"))\n",
    "print(torch_utils.get_accuracy(preds, base_labels_clean[:ndata]))"
   ]
  },
  {
   "cell_type": "code",
   "execution_count": 12,
   "metadata": {},
   "outputs": [
    {
     "data": {
      "image/png": "[encoded data removed]",
      "text/plain": [
       "<Figure size 600x600 with 16 Axes>"
      ]
     },
     "metadata": {},
     "output_type": "display_data"
    }
   ],
   "source": [
    "plot.grid(base_data_poisoned[:16], figsize=(4,4))"
   ]
  },
  {
   "cell_type": "code",
   "execution_count": 13,
   "metadata": {},
   "outputs": [
    {
     "name": "stdout",
     "output_type": "stream",
     "text": [
      "poison_noL1\n"
     ]
    }
   ],
   "source": [
    "print(inputs_dirname)"
   ]
  },
  {
   "cell_type": "code",
   "execution_count": 14,
   "metadata": {},
   "outputs": [
    {
     "name": "stdout",
     "output_type": "stream",
     "text": [
      "tensor([7, 5, 8, 0, 8, 2, 7, 0, 3, 5, 3, 8, 3, 5, 1, 7], device='cuda:0')\n"
     ]
    }
   ],
   "source": [
    "b = model_poisoned(base_data_clean[-16:]).argmax(dim=1) == base_labels_clean[-16:]\n",
    "b.sum() / 16\n",
    "hlabels = [7, 5, 8, 0, 8, 7, 7, 0, 3, 5, 3]\n",
    "print(base_labels_clean[-16:])"
   ]
  },
  {
   "cell_type": "code",
   "execution_count": 15,
   "metadata": {},
   "outputs": [
    {
     "data": {
      "text/plain": [
       "'poison_noL1'"
      ]
     },
     "execution_count": 15,
     "metadata": {},
     "output_type": "execute_result"
    }
   ],
   "source": [
    "inputs_dirname"
   ]
  }
 ],
 "metadata": {
  "kernelspec": {
   "display_name": "meta-models",
   "language": "python",
   "name": "python3"
  },
  "language_info": {
   "codemirror_mode": {
    "name": "ipython",
    "version": 3
   },
   "file_extension": ".py",
   "mimetype": "text/x-python",
   "name": "python",
   "nbconvert_exporter": "python",
   "pygments_lexer": "ipython3",
   "version": "3.10.12"
  },
  "orig_nbformat": 4
 },
 "nbformat": 4,
 "nbformat_minor": 2
}
