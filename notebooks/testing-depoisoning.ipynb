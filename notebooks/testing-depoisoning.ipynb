{
 "cells": [
  {
   "cell_type": "code",
   "execution_count": 4,
   "id": "3564aed0-88a3-45fe-8a13-fa26309fb5ef",
   "metadata": {},
   "outputs": [
    {
     "data": {
      "text/plain": [
       "(2.3034542602539063, 0.1)"
      ]
     },
     "execution_count": 4,
     "metadata": {},
     "output_type": "execute_result"
    }
   ],
   "source": [
    "import os\n",
    "from pathlib import Path\n",
    "from typing import Callable, Optional\n",
    "import json\n",
    "import functools\n",
    "import math\n",
    "\n",
    "import jax\n",
    "import jax.numpy as jnp\n",
    "from jax import random, nn\n",
    "\n",
    "from optax import adam, rmsprop, sgd\n",
    "\n",
    "import haiku as hk\n",
    "from haiku.initializers import Initializer, Constant, RandomNormal, TruncatedNormal, VarianceScaling\n",
    "from meta_transformer import utils\n",
    "import numpy as np\n",
    "\n",
    "import time\n",
    "from meta_transformer import module_path, preprocessing, backdoors_utils, torch_utils\n",
    "from meta_transformer.backdoors_utils import test, testloader\n",
    "\n",
    "DATA_DIR = os.path.join(module_path, 'data/david_backdoors/cifar10')\n",
    "\n",
    "model = torch_utils.CNN_small_no_drop()\n",
    "test(model, testloader)"
   ]
  },
  {
   "cell_type": "code",
   "execution_count": 16,
   "id": "a922129c",
   "metadata": {},
   "outputs": [],
   "source": [
    "import torch.nn as nn\n",
    "\n",
    "class CNN_small_no_drop(nn.Module):\n",
    "    def __init__(self, config=None):\n",
    "        super(CNN_small_no_drop, self).__init__()\n",
    "\n",
    "        #add batchnorm before each RelU make network happy\n",
    "        self.features = nn.Sequential(\n",
    "            nn.Conv2d(3, 32, 3, padding=1),\n",
    "            nn.BatchNorm2d(32),\n",
    "            nn.ReLU(inplace=True),\n",
    "            nn.Conv2d(32, 32, 3, padding=1),\n",
    "            nn.BatchNorm2d(32),\n",
    "            nn.ReLU(inplace=True),\n",
    "            nn.MaxPool2d(2, 2),\n",
    "            nn.Conv2d(32, 64, 3, padding=1),\n",
    "            nn.BatchNorm2d(64),\n",
    "            nn.ReLU(inplace=True),\n",
    "            nn.Conv2d(64, 64, 3, padding=1),\n",
    "            nn.BatchNorm2d(64),\n",
    "            nn.ReLU(inplace=True),\n",
    "            nn.MaxPool2d(2, 2),\n",
    "            nn.Conv2d(64, 128, 3, padding=1),\n",
    "            nn.BatchNorm2d(128),\n",
    "            nn.ReLU(inplace=True),\n",
    "            nn.Conv2d(128, 128, 3, padding=1),\n",
    "            nn.BatchNorm2d(128),\n",
    "            nn.ReLU(inplace=True),\n",
    "            nn.MaxPool2d(2, 2),\n",
    "        )\n",
    "        self.classifier = nn.Sequential(\n",
    "            nn.Linear(128 * 4 * 4, 128),\n",
    "            nn.BatchNorm1d(128),\n",
    "            nn.ReLU(inplace=True),\n",
    "            nn.Linear(128, 10)\n",
    "        )\n",
    "\n",
    "    def forward(self, x):\n",
    "        x = self.features(x)\n",
    "        x = x.view(-1, 128 * 4 * 4)\n",
    "        x = self.classifier(x)\n",
    "        return x"
   ]
  },
  {
   "cell_type": "code",
   "execution_count": 17,
   "id": "e5f4c83d",
   "metadata": {},
   "outputs": [],
   "source": [
    "model = CNN_small_no_drop()"
   ]
  },
  {
   "cell_type": "code",
   "execution_count": 19,
   "id": "47a96554",
   "metadata": {},
   "outputs": [
    {
     "data": {
      "text/plain": [
       "[CNN_small_no_drop(\n",
       "   (features): Sequential(\n",
       "     (0): Conv2d(3, 32, kernel_size=(3, 3), stride=(1, 1), padding=(1, 1))\n",
       "     (1): BatchNorm2d(32, eps=1e-05, momentum=0.1, affine=True, track_running_stats=True)\n",
       "     (2): ReLU(inplace=True)\n",
       "     (3): Conv2d(32, 32, kernel_size=(3, 3), stride=(1, 1), padding=(1, 1))\n",
       "     (4): BatchNorm2d(32, eps=1e-05, momentum=0.1, affine=True, track_running_stats=True)\n",
       "     (5): ReLU(inplace=True)\n",
       "     (6): MaxPool2d(kernel_size=2, stride=2, padding=0, dilation=1, ceil_mode=False)\n",
       "     (7): Conv2d(32, 64, kernel_size=(3, 3), stride=(1, 1), padding=(1, 1))\n",
       "     (8): BatchNorm2d(64, eps=1e-05, momentum=0.1, affine=True, track_running_stats=True)\n",
       "     (9): ReLU(inplace=True)\n",
       "     (10): Conv2d(64, 64, kernel_size=(3, 3), stride=(1, 1), padding=(1, 1))\n",
       "     (11): BatchNorm2d(64, eps=1e-05, momentum=0.1, affine=True, track_running_stats=True)\n",
       "     (12): ReLU(inplace=True)\n",
       "     (13): MaxPool2d(kernel_size=2, stride=2, padding=0, dilation=1, ceil_mode=False)\n",
       "     (14): Conv2d(64, 128, kernel_size=(3, 3), stride=(1, 1), padding=(1, 1))\n",
       "     (15): BatchNorm2d(128, eps=1e-05, momentum=0.1, affine=True, track_running_stats=True)\n",
       "     (16): ReLU(inplace=True)\n",
       "     (17): Conv2d(128, 128, kernel_size=(3, 3), stride=(1, 1), padding=(1, 1))\n",
       "     (18): BatchNorm2d(128, eps=1e-05, momentum=0.1, affine=True, track_running_stats=True)\n",
       "     (19): ReLU(inplace=True)\n",
       "     (20): MaxPool2d(kernel_size=2, stride=2, padding=0, dilation=1, ceil_mode=False)\n",
       "   )\n",
       "   (classifier): Sequential(\n",
       "     (0): Linear(in_features=2048, out_features=128, bias=True)\n",
       "     (1): BatchNorm1d(128, eps=1e-05, momentum=0.1, affine=True, track_running_stats=True)\n",
       "     (2): ReLU(inplace=True)\n",
       "     (3): Linear(in_features=128, out_features=10, bias=True)\n",
       "   )\n",
       " ),\n",
       " Sequential(\n",
       "   (0): Conv2d(3, 32, kernel_size=(3, 3), stride=(1, 1), padding=(1, 1))\n",
       "   (1): BatchNorm2d(32, eps=1e-05, momentum=0.1, affine=True, track_running_stats=True)\n",
       "   (2): ReLU(inplace=True)\n",
       "   (3): Conv2d(32, 32, kernel_size=(3, 3), stride=(1, 1), padding=(1, 1))\n",
       "   (4): BatchNorm2d(32, eps=1e-05, momentum=0.1, affine=True, track_running_stats=True)\n",
       "   (5): ReLU(inplace=True)\n",
       "   (6): MaxPool2d(kernel_size=2, stride=2, padding=0, dilation=1, ceil_mode=False)\n",
       "   (7): Conv2d(32, 64, kernel_size=(3, 3), stride=(1, 1), padding=(1, 1))\n",
       "   (8): BatchNorm2d(64, eps=1e-05, momentum=0.1, affine=True, track_running_stats=True)\n",
       "   (9): ReLU(inplace=True)\n",
       "   (10): Conv2d(64, 64, kernel_size=(3, 3), stride=(1, 1), padding=(1, 1))\n",
       "   (11): BatchNorm2d(64, eps=1e-05, momentum=0.1, affine=True, track_running_stats=True)\n",
       "   (12): ReLU(inplace=True)\n",
       "   (13): MaxPool2d(kernel_size=2, stride=2, padding=0, dilation=1, ceil_mode=False)\n",
       "   (14): Conv2d(64, 128, kernel_size=(3, 3), stride=(1, 1), padding=(1, 1))\n",
       "   (15): BatchNorm2d(128, eps=1e-05, momentum=0.1, affine=True, track_running_stats=True)\n",
       "   (16): ReLU(inplace=True)\n",
       "   (17): Conv2d(128, 128, kernel_size=(3, 3), stride=(1, 1), padding=(1, 1))\n",
       "   (18): BatchNorm2d(128, eps=1e-05, momentum=0.1, affine=True, track_running_stats=True)\n",
       "   (19): ReLU(inplace=True)\n",
       "   (20): MaxPool2d(kernel_size=2, stride=2, padding=0, dilation=1, ceil_mode=False)\n",
       " ),\n",
       " Conv2d(3, 32, kernel_size=(3, 3), stride=(1, 1), padding=(1, 1)),\n",
       " BatchNorm2d(32, eps=1e-05, momentum=0.1, affine=True, track_running_stats=True),\n",
       " ReLU(inplace=True),\n",
       " Conv2d(32, 32, kernel_size=(3, 3), stride=(1, 1), padding=(1, 1)),\n",
       " BatchNorm2d(32, eps=1e-05, momentum=0.1, affine=True, track_running_stats=True),\n",
       " ReLU(inplace=True),\n",
       " MaxPool2d(kernel_size=2, stride=2, padding=0, dilation=1, ceil_mode=False),\n",
       " Conv2d(32, 64, kernel_size=(3, 3), stride=(1, 1), padding=(1, 1)),\n",
       " BatchNorm2d(64, eps=1e-05, momentum=0.1, affine=True, track_running_stats=True),\n",
       " ReLU(inplace=True),\n",
       " Conv2d(64, 64, kernel_size=(3, 3), stride=(1, 1), padding=(1, 1)),\n",
       " BatchNorm2d(64, eps=1e-05, momentum=0.1, affine=True, track_running_stats=True),\n",
       " ReLU(inplace=True),\n",
       " MaxPool2d(kernel_size=2, stride=2, padding=0, dilation=1, ceil_mode=False),\n",
       " Conv2d(64, 128, kernel_size=(3, 3), stride=(1, 1), padding=(1, 1)),\n",
       " BatchNorm2d(128, eps=1e-05, momentum=0.1, affine=True, track_running_stats=True),\n",
       " ReLU(inplace=True),\n",
       " Conv2d(128, 128, kernel_size=(3, 3), stride=(1, 1), padding=(1, 1)),\n",
       " BatchNorm2d(128, eps=1e-05, momentum=0.1, affine=True, track_running_stats=True),\n",
       " ReLU(inplace=True),\n",
       " MaxPool2d(kernel_size=2, stride=2, padding=0, dilation=1, ceil_mode=False),\n",
       " Sequential(\n",
       "   (0): Linear(in_features=2048, out_features=128, bias=True)\n",
       "   (1): BatchNorm1d(128, eps=1e-05, momentum=0.1, affine=True, track_running_stats=True)\n",
       "   (2): ReLU(inplace=True)\n",
       "   (3): Linear(in_features=128, out_features=10, bias=True)\n",
       " ),\n",
       " Linear(in_features=2048, out_features=128, bias=True),\n",
       " BatchNorm1d(128, eps=1e-05, momentum=0.1, affine=True, track_running_stats=True),\n",
       " ReLU(inplace=True),\n",
       " Linear(in_features=128, out_features=10, bias=True)]"
      ]
     },
     "execution_count": 19,
     "metadata": {},
     "output_type": "execute_result"
    }
   ],
   "source": [
    "[a for a in model.modules()]"
   ]
  },
  {
   "cell_type": "code",
   "execution_count": 3,
   "id": "cccd81e8",
   "metadata": {},
   "outputs": [],
   "source": [
    "# net = torch_utils.load_pytorch_nets(n=10, data_dir=os.path.join(DATA_DIR, \"clean\"))[0]"
   ]
  },
  {
   "cell_type": "code",
   "execution_count": null,
   "id": "b58edc56",
   "metadata": {},
   "outputs": [],
   "source": [
    "\n",
    "def load_and_process_nets(name: str, n: int):\n",
    "    path_to_processed = os.path.join(\n",
    "            module_path, \"data/cache/depoisoning\", name)\n",
    "    os.makedirs(os.path.dirname(path_to_processed), exist_ok=True)\n",
    "\n",
    "    if os.path.exists(path_to_processed) and n == 10000:\n",
    "        inputs = np.load(path_to_processed)\n",
    "    else:\n",
    "        inputs = torch_utils.load_pytorch_nets(\n",
    "            n=n, data_dir=os.path.join(DATA_DIR, name)\n",
    "        )\n",
    "        unpreprocess = preprocessing.get_unpreprocess(inputs[0], CHUNK_SIZE)\n",
    "        inputs = np.stack([preprocessing.preprocess(inp, CHUNK_SIZE)[0]\n",
    "                      for inp in inputs])\n",
    "\n",
    "    if n == 10000:\n",
    "        np.save(path_to_processed, inputs)\n",
    "\n",
    "    return inputs / DATA_STD\n"
   ]
  },
  {
   "cell_type": "code",
   "execution_count": null,
   "id": "8b1e6c65",
   "metadata": {},
   "outputs": [],
   "source": [
    "# sketch of testing code\n",
    "# get accuracy of depoisoned models from the meta-model outputs\n",
    "outputs = None # array of flattened NN weights\n",
    "params = unpreprocess(outputs) # dict of NN weights\n"
   ]
  }
 ],
 "metadata": {
  "kernelspec": {
   "display_name": "meta-models",
   "language": "python",
   "name": "python3"
  },
  "language_info": {
   "codemirror_mode": {
    "name": "ipython",
    "version": 3
   },
   "file_extension": ".py",
   "mimetype": "text/x-python",
   "name": "python",
   "nbconvert_exporter": "python",
   "pygments_lexer": "ipython3",
   "version": "3.8.10"
  }
 },
 "nbformat": 4,
 "nbformat_minor": 5
}
