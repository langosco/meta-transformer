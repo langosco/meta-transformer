{
 "cells": [
  {
   "cell_type": "code",
   "execution_count": 1,
   "metadata": {},
   "outputs": [
    {
     "name": "stderr",
     "output_type": "stream",
     "text": [
      "/home/lauro/.virtualenvs/meta-models/lib/python3.8/site-packages/tqdm/auto.py:21: TqdmWarning: IProgress not found. Please update jupyter and ipywidgets. See https://ipywidgets.readthedocs.io/en/stable/user_install.html\n",
      "  from .autonotebook import tqdm as notebook_tqdm\n"
     ]
    }
   ],
   "source": [
    "import os\n",
    "os.environ[\"XLA_PYTHON_CLIENT_MEM_FRACTION\"] = \"0.6\"  # preallocate a bit less memory so we can use pytorch next to jax\n",
    "import jax\n",
    "from jax import random, jit, value_and_grad, nn\n",
    "import jax.numpy as jnp\n",
    "import numpy as np\n",
    "import haiku as hk\n",
    "import optax\n",
    "from typing import Mapping, Any, Tuple, List, Iterator, Optional, Dict\n",
    "from jax.typing import ArrayLike\n",
    "from meta_transformer import utils, preprocessing, torch_utils, module_path\n",
    "from meta_transformer.meta_model import create_meta_model\n",
    "from meta_transformer.meta_model import MetaModelConfig as ModelConfig\n",
    "import wandb\n",
    "import argparse\n",
    "from dataclasses import asdict, dataclass\n",
    "from meta_transformer.train import Updater, Logger\n",
    "from meta_transformer.data import data_iterator, split_data\n",
    "import json\n",
    "import gen_models\n",
    "import matplotlib.pyplot as plt\n",
    "import einops\n",
    "\n",
    "rng = jax.random.PRNGKey(42)\n",
    "\n",
    "@dataclass\n",
    "class Args:\n",
    "    d_model = 1024\n",
    "    dropout_rate = 0.05\n",
    "    use_embedding = True\n",
    "    ndata = 100\n",
    "    chunk_size = 1024\n",
    "\n",
    "args = Args()\n",
    "\n",
    "model_config = ModelConfig(\n",
    "    model_size=args.d_model,\n",
    "    num_heads=int(args.d_model / 64),\n",
    "    num_layers=int(args.d_model / 42),\n",
    "    dropout_rate=args.dropout_rate,\n",
    "    use_embedding=args.use_embedding,\n",
    ")\n",
    "\n",
    "mm = create_meta_model(model_config)"
   ]
  },
  {
   "cell_type": "code",
   "execution_count": 2,
   "metadata": {},
   "outputs": [],
   "source": [
    "# load meta-model checkpoint\n",
    "mm_params = utils.load_checkpoint(name=\"depoison_run_1690479120\")\n",
    "NCHUNKS = 538"
   ]
  },
  {
   "cell_type": "code",
   "execution_count": 3,
   "metadata": {},
   "outputs": [],
   "source": [
    "# load SVHN model checkpoints\n",
    "#SVHN_DATA = os.path.join(module_path, 'data/david_backdoors/svhn')\n",
    "SVHN_DATA = os.path.join(module_path, 'data/david_backdoors/cifar10')\n",
    "\n",
    "architecture = torch_utils.CNNMedium()  # for CIFAR-10\n",
    "checkpoints_poisoned, checkpoints_clean, get_pytorch_model = torch_utils.load_input_and_target_weights(\n",
    "    model=architecture,\n",
    "    num_models=args.ndata, \n",
    "    data_dir=SVHN_DATA,\n",
    "    inputs_dirname=\"clean\",\n",
    ")\n",
    "\n",
    "\n",
    "DATA_STD = 0.0582\n",
    "def process_nets(nets: List[dict]) -> ArrayLike:\n",
    "    nets = np.stack([preprocessing.preprocess(net, args.chunk_size)[0]\n",
    "                        for net in nets])\n",
    "    return nets / DATA_STD  # TODO this is dependent on dataset!!\n",
    "\n",
    "\n",
    "def process_batch(batch: dict) -> dict:\n",
    "    \"\"\"process a batch of nets.\"\"\"\n",
    "    inputs = process_nets(batch[\"input\"])\n",
    "    targets = process_nets(batch[\"target\"])\n",
    "    return dict(input=inputs, target=targets)"
   ]
  },
  {
   "cell_type": "code",
   "execution_count": 4,
   "metadata": {},
   "outputs": [
    {
     "name": "stderr",
     "output_type": "stream",
     "text": [
      "WARNING:datasets.builder:Found cached dataset cifar10 (/home/lauro/.cache/huggingface/datasets/cifar10/plain_text/1.0.0/447d6ec4733dddd1ce3bb577c7166b986eaa4c538dcd9e805ba61f35674a9de4)\n",
      "100%|██████████| 2/2 [00:00<00:00, 830.64it/s]\n"
     ]
    }
   ],
   "source": [
    "# load SVHN\n",
    "#test_td = torch_utils.load_svhn_test_data()\n",
    "test_td = torch_utils.load_cifar10_test_data()\n",
    "\n",
    "svhn_data, svhn_labels = test_td.tensors\n",
    "\n",
    "\n",
    "# poison svhn data\n",
    "cfg = gen_models.config.Config()\n",
    "svhn_poisoned = gen_models.poison.poison_set(test_td, train=False, cfg=cfg)\n",
    "svhn_pois_data, svhn_pois_labels = svhn_poisoned.tensors"
   ]
  },
  {
   "cell_type": "code",
   "execution_count": 5,
   "metadata": {},
   "outputs": [
    {
     "data": {
      "text/plain": [
       "torch.Size([10000, 3, 32, 32])"
      ]
     },
     "execution_count": 5,
     "metadata": {},
     "output_type": "execute_result"
    }
   ],
   "source": [
    "svhn_pois_data.shape"
   ]
  },
  {
   "cell_type": "code",
   "execution_count": 6,
   "metadata": {},
   "outputs": [],
   "source": [
    "def normalize_image(image):\n",
    "    \"\"\"Normalize an image tensor to [0, 1].\"\"\"\n",
    "    min_val = np.min(image)\n",
    "    max_val = np.max(image)\n",
    "    return (image - min_val) / (max_val - min_val)\n"
   ]
  },
  {
   "cell_type": "code",
   "execution_count": 1,
   "metadata": {},
   "outputs": [
    {
     "ename": "NameError",
     "evalue": "name 'svhn_data' is not defined",
     "output_type": "error",
     "traceback": [
      "\u001b[0;31m---------------------------------------------------------------------------\u001b[0m",
      "\u001b[0;31mNameError\u001b[0m                                 Traceback (most recent call last)",
      "Cell \u001b[0;32mIn[1], line 5\u001b[0m\n\u001b[1;32m      1\u001b[0m \u001b[39m# plot\u001b[39;00m\n\u001b[1;32m      2\u001b[0m \u001b[39m# first convert to nunmpy and use einops to convert to channels last\u001b[39;00m\n\u001b[1;32m      3\u001b[0m \u001b[39m# then plot\u001b[39;00m\n\u001b[0;32m----> 5\u001b[0m img_data \u001b[39m=\u001b[39m svhn_data\u001b[39m.\u001b[39mto(\u001b[39m'\u001b[39m\u001b[39mcpu\u001b[39m\u001b[39m'\u001b[39m)\n\u001b[1;32m      6\u001b[0m img_data \u001b[39m=\u001b[39m img_data\u001b[39m.\u001b[39mnumpy()\n\u001b[1;32m      7\u001b[0m \u001b[39mprint\u001b[39m(img_data\u001b[39m.\u001b[39mshape)\n",
      "\u001b[0;31mNameError\u001b[0m: name 'svhn_data' is not defined"
     ]
    }
   ],
   "source": [
    "# plot\n",
    "# first convert to nunmpy and use einops to convert to channels last\n",
    "# then plot\n",
    "\n",
    "img_data = svhn_data.to('cpu')\n",
    "img_data = img_data.numpy()\n",
    "print(img_data.shape)\n",
    "#img_data = einops.rearrange('b c h w -> b h w c', img_data)\n",
    "img_data = img_data.transpose((0, 2, 3, 1))  # Equivalent to 'b c h w -> b h w c'\n",
    "plt.imshow(normalize_image(img_data[0]))"
   ]
  },
  {
   "cell_type": "markdown",
   "metadata": {},
   "source": [
    "## Run base CNNs on SVHN"
   ]
  },
  {
   "cell_type": "code",
   "execution_count": 8,
   "metadata": {},
   "outputs": [
    {
     "data": {
      "text/plain": [
       "0.8065"
      ]
     },
     "execution_count": 8,
     "metadata": {},
     "output_type": "execute_result"
    }
   ],
   "source": [
    "# Clean classifier on clean data\n",
    "model = get_pytorch_model(checkpoints_clean[42])\n",
    "model_pois = get_pytorch_model(checkpoints_poisoned[42])\n",
    "model.to(\"cuda\")\n",
    "model_pois.to(\"cuda\")\n",
    "\n",
    "ndata = 2000\n",
    "torch_utils.get_accuracy(model, svhn_data[:ndata], svhn_labels[:ndata])"
   ]
  },
  {
   "cell_type": "code",
   "execution_count": 9,
   "metadata": {},
   "outputs": [
    {
     "data": {
      "text/plain": [
       "0.787"
      ]
     },
     "execution_count": 9,
     "metadata": {},
     "output_type": "execute_result"
    }
   ],
   "source": [
    "torch_utils.get_accuracy(model_pois, svhn_pois_data[:ndata], svhn_labels[:ndata])"
   ]
  },
  {
   "cell_type": "code",
   "execution_count": 10,
   "metadata": {},
   "outputs": [
    {
     "data": {
      "text/plain": [
       "tensor([3, 8], device='cuda:0')"
      ]
     },
     "execution_count": 10,
     "metadata": {},
     "output_type": "execute_result"
    }
   ],
   "source": [
    "model_pois(svhn_pois_data[:2]).argmax(1)"
   ]
  },
  {
   "cell_type": "code",
   "execution_count": 64,
   "metadata": {},
   "outputs": [
    {
     "data": {
      "text/plain": [
       "tensor([3, 8, 8, 0, 6], device='cuda:0')"
      ]
     },
     "execution_count": 64,
     "metadata": {},
     "output_type": "execute_result"
    }
   ],
   "source": [
    "svhn_labels[:5]"
   ]
  },
  {
   "cell_type": "markdown",
   "metadata": {},
   "source": [
    "## Test meta-model output"
   ]
  },
  {
   "cell_type": "code",
   "execution_count": 65,
   "metadata": {},
   "outputs": [
    {
     "data": {
      "text/plain": [
       "(100,)"
      ]
     },
     "execution_count": 65,
     "metadata": {},
     "output_type": "execute_result"
    }
   ],
   "source": [
    "checkpoints_poisoned.shape"
   ]
  },
  {
   "cell_type": "code",
   "execution_count": 66,
   "metadata": {},
   "outputs": [
    {
     "data": {
      "text/plain": [
       "(4, 538, 1024)"
      ]
     },
     "execution_count": 66,
     "metadata": {},
     "output_type": "execute_result"
    }
   ],
   "source": [
    "BS = 4\n",
    "batch = dict(input=checkpoints_clean[:BS], target=checkpoints_poisoned[:BS])\n",
    "batch_proc = process_batch(batch)\n",
    "batch_proc[\"input\"].shape"
   ]
  },
  {
   "cell_type": "code",
   "execution_count": null,
   "metadata": {},
   "outputs": [
    {
     "name": "stdout",
     "output_type": "stream",
     "text": [
      "\n",
      "Number of (relevant) layers per net: 8\n",
      "Number of parameters per net: 550570\n",
      "Chunk size: 1024\n",
      "Number of chunks per net: 538\n",
      "\n"
     ]
    }
   ],
   "source": [
    "unpreprocess = preprocessing.get_unpreprocess_fn(\n",
    "    checkpoints_clean[0],\n",
    "    chunk_size=args.chunk_size,\n",
    ")"
   ]
  },
  {
   "cell_type": "code",
   "execution_count": null,
   "metadata": {},
   "outputs": [],
   "source": [
    "#batch = np.random.randn(32, NCHUNKS, args.chunk_size)\n",
    "#mm.apply(mm_params, rng, batch).shape\n",
    "out = mm.apply(mm_params, rng, batch_proc[\"input\"])"
   ]
  },
  {
   "cell_type": "code",
   "execution_count": null,
   "metadata": {},
   "outputs": [
    {
     "data": {
      "text/plain": [
       "(4, 538, 1024)"
      ]
     },
     "execution_count": 27,
     "metadata": {},
     "output_type": "execute_result"
    }
   ],
   "source": [
    "out.shape"
   ]
  },
  {
   "cell_type": "code",
   "execution_count": null,
   "metadata": {},
   "outputs": [],
   "source": [
    "depoisoned_weights = [unpreprocess(w) for w in out]\n",
    "depoisoned_weights = utils.tree_to_numpy(depoisoned_weights)\n",
    "model_depoisoned = get_pytorch_model(depoisoned_weights[0])\n",
    "model_depoisoned.to(\"cuda\");"
   ]
  },
  {
   "cell_type": "code",
   "execution_count": null,
   "metadata": {},
   "outputs": [
    {
     "data": {
      "text/plain": [
       "0.884"
      ]
     },
     "execution_count": 36,
     "metadata": {},
     "output_type": "execute_result"
    }
   ],
   "source": [
    "inputs = svhn_data[:ndata]\n",
    "targets = svhn_labels[:ndata]\n",
    "torch_utils.get_accuracy(model_depoisoned, inputs, targets)"
   ]
  },
  {
   "cell_type": "code",
   "execution_count": null,
   "metadata": {},
   "outputs": [
    {
     "data": {
      "text/plain": [
       "0.881"
      ]
     },
     "execution_count": 40,
     "metadata": {},
     "output_type": "execute_result"
    }
   ],
   "source": [
    "inputs = svhn_pois_data[:ndata]\n",
    "targets = svhn_labels[:ndata]\n",
    "torch_utils.get_accuracy(model_depoisoned, inputs, targets)  # all mislabeled"
   ]
  },
  {
   "cell_type": "code",
   "execution_count": null,
   "metadata": {},
   "outputs": [
    {
     "data": {
      "text/plain": [
       "0.059"
      ]
     },
     "execution_count": 41,
     "metadata": {},
     "output_type": "execute_result"
    }
   ],
   "source": [
    "inputs = svhn_pois_data[:ndata]\n",
    "targets = svhn_pois_labels[:ndata]\n",
    "torch_utils.get_accuracy(model_pois, inputs, targets)  # all mislabeled"
   ]
  }
 ],
 "metadata": {
  "kernelspec": {
   "display_name": "meta-models",
   "language": "python",
   "name": "python3"
  },
  "language_info": {
   "codemirror_mode": {
    "name": "ipython",
    "version": 3
   },
   "file_extension": ".py",
   "mimetype": "text/x-python",
   "name": "python",
   "nbconvert_exporter": "python",
   "pygments_lexer": "ipython3",
   "version": "3.10.12"
  },
  "orig_nbformat": 4
 },
 "nbformat": 4,
 "nbformat_minor": 2
}
